{
 "cells": [
  {
   "cell_type": "markdown",
   "id": "9971f289-1d73-4508-bea9-795cbcc7a958",
   "metadata": {},
   "source": [
    "#"
   ]
  },
  {
   "cell_type": "code",
   "execution_count": 8,
   "id": "3966d7a9",
   "metadata": {},
   "outputs": [],
   "source": [
    "import numpy as np\n",
    "from numpy.random import Generator, PCG64\n",
    "import matplotlib.pyplot as plt\n",
    "import math\n",
    "import time\n",
    "from heateq import Exact, Simulateur"
   ]
  },
  {
   "cell_type": "code",
   "execution_count": 9,
   "id": "1ac5f558",
   "metadata": {},
   "outputs": [],
   "source": [
    "seed = 213731490053398181466621250222036675538\n",
    "rng = Generator(PCG64(seed))"
   ]
  },
  {
   "cell_type": "code",
   "execution_count": 10,
   "id": "ee921aad",
   "metadata": {},
   "outputs": [],
   "source": [
    "# Permet d'obtenir un n-échnatillon du vecteur aléatoir d'entrée X\n",
    "def n_echantillon_X(n):\n",
    "    return np.vstack(\n",
    "        (\n",
    "            rng.uniform(-math.pi, math.pi, (3, n)),\n",
    "            rng.uniform(0.001, 0.009, (1, n)), \n",
    "            rng.uniform(-1., 1., (3, n))\n",
    "        )\n",
    "    )"
   ]
  },
  {
   "cell_type": "code",
   "execution_count": 11,
   "id": "30bb11d0",
   "metadata": {},
   "outputs": [],
   "source": [
    "# Simulateurs haute et basse fidélité\n",
    "f = Simulateur(21, 100)\n",
    "g = Simulateur(3, 20)"
   ]
  },
  {
   "cell_type": "code",
   "execution_count": 12,
   "id": "bd707c2e",
   "metadata": {},
   "outputs": [
    {
     "name": "stdout",
     "output_type": "stream",
     "text": [
      "41.98447216482205\n",
      "41.916465294707976\n",
      "33.03617206344313\n"
     ]
    }
   ],
   "source": [
    "# Espérance exacte de la solution continue\n",
    "mu_exact = Exact().mu\n",
    "print(mu_exact)\n",
    "\n",
    "# Espérance exacte de Y = f(X) (solution discrétisée, haute fidélité)\n",
    "mu_Y_exact = f.mu\n",
    "print(mu_Y_exact)\n",
    "\n",
    "# Espérance exacte de Z = g(X) (solution discrétisée, basse fidélité)\n",
    "mu_Z_exact = g.mu\n",
    "\n",
    "print(mu_Z_exact)"
   ]
  },
  {
   "cell_type": "code",
   "execution_count": 13,
   "id": "ee7957fb",
   "metadata": {},
   "outputs": [
    {
     "name": "stdout",
     "output_type": "stream",
     "text": [
      "41.916465294707976\n"
     ]
    }
   ],
   "source": [
    "f = Simulateur(21, 100)\n",
    "mu_Y_exact = f.mu\n",
    "print(mu_Y_exact)"
   ]
  },
  {
   "cell_type": "markdown",
   "id": "dfaa9b99-8f67-4c56-aff6-1f6a5d530057",
   "metadata": {},
   "source": [
    "# Expériences numériques"
   ]
  },
  {
   "cell_type": "markdown",
   "id": "1c5c8216",
   "metadata": {},
   "source": [
    "Déduire de `mu_exact`, `mu_Y_exact` et `mu_Z_exact` le biais de l'estimateur Monte Carlo classique de l'espérance de $f(\\mathbf{X})$ et $g(\\mathbf{X})$.\n",
    "\n",
    "Lancer les simulateurs sur un nombre élevé de réalisations (par exemple 50000 ou 100000 si la mémoire de votre ordinateur le permet).\n",
    "\n",
    "La quantité d'intérêt peut être évaluée par la fonction `f` du simulateur haute fidélité et par la fonction `g` du simulateur basse fidélité.\n",
    "\n",
    "Estimer $w$. Vous pouvez utiliser, par exemple, la fonction `time.process_time()`. Est-ce consistant avec la valeur attendue ?"
   ]
  },
  {
   "cell_type": "code",
   "execution_count": 14,
   "id": "8b999e2f",
   "metadata": {},
   "outputs": [],
   "source": [
    "ns = 100000\n",
    "X = n_echantillon_X(ns)"
   ]
  },
  {
   "cell_type": "code",
   "execution_count": 15,
   "id": "661ff2c0",
   "metadata": {},
   "outputs": [
    {
     "data": {
      "text/plain": [
       "(7, 100000)"
      ]
     },
     "execution_count": 15,
     "metadata": {},
     "output_type": "execute_result"
    }
   ],
   "source": [
    "X.shape"
   ]
  },
  {
   "cell_type": "code",
   "execution_count": 16,
   "id": "8c4008d8",
   "metadata": {},
   "outputs": [
    {
     "name": "stdout",
     "output_type": "stream",
     "text": [
      "Elapsed time of f in seconds: 2.877021878\n"
     ]
    }
   ],
   "source": [
    "# Start the stopwatch / counter  \n",
    "t1_start = time.process_time()  \n",
    "   \n",
    "f.eval(X)\n",
    "\n",
    "# Stop the stopwatch / counter \n",
    "t1_stop = time.process_time() \n",
    "   \n",
    "print(\"Elapsed time of f in seconds:\", t1_stop-t1_start)  \n"
   ]
  },
  {
   "cell_type": "code",
   "execution_count": 13,
   "id": "26b50049",
   "metadata": {},
   "outputs": [
    {
     "name": "stdout",
     "output_type": "stream",
     "text": [
      "Elapsed time of g in seconds: 0.06399212999999992\n"
     ]
    }
   ],
   "source": [
    "t2_start = time.process_time()  \n",
    "   \n",
    "g.eval(X)\n",
    "\n",
    "# Stop the stopwatch / counter \n",
    "t2_stop = time.process_time() \n",
    "   \n",
    "print(\"Elapsed time of g in seconds:\", t2_stop-t2_start)  "
   ]
  },
  {
   "cell_type": "code",
   "execution_count": 14,
   "id": "8b77eea4",
   "metadata": {},
   "outputs": [
    {
     "data": {
      "text/plain": [
       "0.022372693484680222"
      ]
     },
     "execution_count": 14,
     "metadata": {},
     "output_type": "execute_result"
    }
   ],
   "source": [
    "1/(t1_stop - t1_start)*(t2_stop - t2_start)"
   ]
  },
  {
   "cell_type": "markdown",
   "id": "94b5ad75",
   "metadata": {},
   "source": [
    "Pour $n \\in \\{10; 20; 50; 100; 200; 500; 1000; 2000; 5000; 10000\\}$, estimer `nr = 500` fois la moyenne (par Monte Carlo classique) de $Y=f(\\mathbf{X})$, $Z=g(\\mathbf{X})$ et estimer l'espéance, l'écart-type et la racine de l'erreur quadratique moyenne (REQM) des estimateurs.\n",
    "\n",
    "Tracer l'espérance et l'écart-type des estimateurs haute et basse fidélité en fonction de $n$. Sur un autre graphe, tracer l'évolution de la REQM des estimateurs en fonction de $n$."
   ]
  },
  {
   "cell_type": "code",
   "execution_count": 15,
   "id": "e4b84695",
   "metadata": {},
   "outputs": [
    {
     "data": {
      "text/plain": [
       "array([5.91607978])"
      ]
     },
     "execution_count": 15,
     "metadata": {},
     "output_type": "execute_result"
    }
   ],
   "source": [
    "np.sqrt([35])"
   ]
  },
  {
   "cell_type": "code",
   "execution_count": 16,
   "id": "ddcdd6b9",
   "metadata": {},
   "outputs": [],
   "source": [
    "nr = 200\n",
    "n_samples = [5, 10, 20, 50, 100, 200, 1000, 2000, 5000, 10000]\n",
    "eqm_list_f = []\n",
    "eqm_list_g = []\n",
    "\n",
    "for n in n_samples:\n",
    "    eqm_f = 0\n",
    "    eqm_g = 0\n",
    "    for i in range(nr):\n",
    "        X = n_echantillon_X(n)\n",
    "        f_X = f.eval(X)\n",
    "        theta_f = np.mean(f_X)\n",
    "        eqm_f += (theta_f- mu_exact)**2\n",
    "\n",
    "        g_X = g.eval(X)\n",
    "        theta_g = np.mean(g_X)\n",
    "        eqm_g += (theta_g - mu_exact)**2\n",
    "\n",
    "    eqm_list_f.append(eqm_f/nr)\n",
    "    eqm_list_g.append(eqm_g/nr) "
   ]
  },
  {
   "cell_type": "code",
   "execution_count": 17,
   "id": "7093aa52",
   "metadata": {},
   "outputs": [
    {
     "data": {
      "text/plain": [
       "[<matplotlib.lines.Line2D at 0x7ab9e72ba160>]"
      ]
     },
     "execution_count": 17,
     "metadata": {},
     "output_type": "execute_result"
    },
    {
     "data": {
      "image/png": "[encoded data removed]",
      "text/plain": [
       "<Figure size 432x288 with 1 Axes>"
      ]
     },
     "metadata": {
      "needs_background": "light"
     },
     "output_type": "display_data"
    }
   ],
   "source": [
    "plt.loglog(n_samples, np.sqrt(eqm_list_f))\n",
    "plt.loglog(n_samples, np.sqrt(eqm_list_g))"
   ]
  },
  {
   "cell_type": "code",
   "execution_count": 18,
   "id": "cdc7f3dc",
   "metadata": {},
   "outputs": [],
   "source": [
    "nr = 200\n",
    "\n",
    "factor_compute_cost = 35 # math.sqrt(35) # l'inverse de w\n",
    "n_samples = [5, 10, 20, 50, 100, 200, 500, 1000, 2000, 5000, 10000]\n",
    "eqm_list_f = []\n",
    "eqm_list_g = []\n",
    "\n",
    "\n",
    "for n in n_samples:\n",
    "    eqm_f = 0\n",
    "    eqm_g = 0\n",
    "    for i in range(nr):\n",
    "        X = n_echantillon_X(n)\n",
    "        f_X = f.eval(X)\n",
    "        theta_f = np.mean(f_X)\n",
    "        eqm_f += (theta_f- mu_exact)**2\n",
    "\n",
    "        X = n_echantillon_X(n*factor_compute_cost)\n",
    "        g_X = g.eval(X)\n",
    "        theta_g = np.mean(g_X)\n",
    "        eqm_g += (theta_g - mu_exact)**2\n",
    "\n",
    "    eqm_list_f.append(eqm_f/nr)\n",
    "    eqm_list_g.append(eqm_g/nr)\n"
   ]
  },
  {
   "cell_type": "code",
   "execution_count": 37,
   "id": "f9fab1a2",
   "metadata": {},
   "outputs": [
    {
     "data": {
      "text/plain": [
       "[<matplotlib.lines.Line2D at 0x727218c45fd0>]"
      ]
     },
     "execution_count": 37,
     "metadata": {},
     "output_type": "execute_result"
    },
    {
     "data": {
      "image/png": "[encoded data removed]",
      "text/plain": [
       "<Figure size 640x480 with 1 Axes>"
      ]
     },
     "metadata": {},
     "output_type": "display_data"
    }
   ],
   "source": [
    "plt.loglog(n_samples, np.sqrt(eqm_list_f))\n",
    "plt.loglog(n_samples, np.sqrt(eqm_list_g))"
   ]
  }
 ],
 "metadata": {
  "kernelspec": {
   "display_name": "Python 3 (ipykernel)",
   "language": "python",
   "name": "python3"
  },
  "language_info": {
   "codemirror_mode": {
    "name": "ipython",
    "version": 3
   },
   "file_extension": ".py",
   "mimetype": "text/x-python",
   "name": "python",
   "nbconvert_exporter": "python",
   "pygments_lexer": "ipython3",
   "version": "3.9.12"
  }
 },
 "nbformat": 4,
 "nbformat_minor": 5
}
