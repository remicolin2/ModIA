{
 "cells": [
  {
   "cell_type": "code",
   "execution_count": 1,
   "id": "3966d7a9",
   "metadata": {},
   "outputs": [],
   "source": [
    "import numpy as np\n",
    "from numpy.random import Generator, PCG64\n",
    "import math\n",
    "from heateq import Exact, Simulateur\n",
    "import time"
   ]
  },
  {
   "cell_type": "markdown",
   "id": "f8658626",
   "metadata": {},
   "source": []
  },
  {
   "cell_type": "code",
   "execution_count": 2,
   "id": "1ac5f558",
   "metadata": {},
   "outputs": [],
   "source": [
    "seed = 213731490053398181466621250222036675538\n",
    "rng = Generator(PCG64(seed))"
   ]
  },
  {
   "cell_type": "markdown",
   "id": "93dfe943-289f-4180-a1f9-318336944cde",
   "metadata": {},
   "source": [
    "# Description des simulateurs"
   ]
  },
  {
   "cell_type": "markdown",
   "id": "5469596e-7cef-45b2-bd79-164bcb7455ce",
   "metadata": {},
   "source": [
    "On considère l'équation de la chaleur unidimensionnelle vue en cours, et la même distribution de probabilité pour $\\mathbf{X}$.\n",
    "On rappelle que la précision de $\\tilde{h}^{(K,Q)}$ est gouvernée par les entiers $K$ et $Q$, et que le coût moyen d'évaluer $\\tilde{h}^{(K,Q)}(\\mathbf{X})$ est proportionnel à $KQ$.\n",
    "\n",
    "On définit un simulateur haute fidélité $f = \\tilde{h}^{(K=21,Q=60)}$ et un simulateur basse fidélité $g = \\tilde{h}^{(K=3,Q=15)}$.\n",
    "\n",
    "On note $w = c_g / c_f$, où $c_f$ (respectivement, $c_g$) est le coût moyen d'évaluer $f(\\mathbf{X})$ (respectivement, $g(\\mathbf{X})$).\n",
    "\n",
    "Dans la suite, on note $Y=f(\\mathbf{X})$ et $Z=g(\\mathbf{X})$."
   ]
  },
  {
   "cell_type": "markdown",
   "id": "2f83abe9-2476-40bc-94a8-39bf7d695c86",
   "metadata": {},
   "source": [
    "**Question 1** : Quelle est la valeur attendue de $w$ ? Le vérifier expérimentalement."
   ]
  },
  {
   "cell_type": "markdown",
   "id": "ad9cf188",
   "metadata": {},
   "source": [
    "On trouve w = 1/28 = 0.03571"
   ]
  },
  {
   "cell_type": "code",
   "execution_count": 3,
   "id": "ee921aad",
   "metadata": {},
   "outputs": [],
   "source": [
    "# Permet d'obtenir un n-échantillon du vecteur aléatoire d'entrée X\n",
    "def n_echantillon_X(n):\n",
    "    return np.vstack(\n",
    "        (\n",
    "            rng.uniform(-math.pi, math.pi, (3, n)),\n",
    "            rng.uniform(0.001, 0.009, (1, n)), \n",
    "            rng.uniform(-1., 1., (3, n))\n",
    "        )\n",
    "    )"
   ]
  },
  {
   "cell_type": "code",
   "execution_count": 4,
   "id": "30bb11d0",
   "metadata": {},
   "outputs": [],
   "source": [
    "# Simulateurs haute et basse fidélité\n",
    "f = Simulateur(21, 60)\n",
    "g = Simulateur(3, 15)"
   ]
  },
  {
   "cell_type": "code",
   "execution_count": 5,
   "id": "bd707c2e",
   "metadata": {},
   "outputs": [],
   "source": [
    "# Espérance exacte de la solution continue\n",
    "mu_exact = Exact().mu"
   ]
  },
  {
   "cell_type": "code",
   "execution_count": 36,
   "id": "672cd3c8",
   "metadata": {},
   "outputs": [
    {
     "data": {
      "text/plain": [
       "(7, 10000)"
      ]
     },
     "execution_count": 36,
     "metadata": {},
     "output_type": "execute_result"
    }
   ],
   "source": [
    "ns = 10000\n",
    "X = n_echantillon_X(ns) \n",
    "X.shape\n"
   ]
  },
  {
   "cell_type": "code",
   "execution_count": 37,
   "id": "969d4a94",
   "metadata": {},
   "outputs": [
    {
     "name": "stdout",
     "output_type": "stream",
     "text": [
      "Elapsed time of f in seconds: 0.1783090610000002\n"
     ]
    }
   ],
   "source": [
    "t1_start = time.process_time()  \n",
    "f(X)\n",
    "t1_stop = time.process_time() \n",
    "print(\"Elapsed time of f in seconds:\", t1_stop-t1_start)  \n"
   ]
  },
  {
   "cell_type": "code",
   "execution_count": 38,
   "id": "6f116b7a",
   "metadata": {},
   "outputs": [
    {
     "name": "stdout",
     "output_type": "stream",
     "text": [
      "Elapsed time of g in seconds: 0.005948142000001155\n"
     ]
    }
   ],
   "source": [
    "t2_start = time.process_time()  \n",
    "g(X)\n",
    "t2_stop = time.process_time() \n",
    "print(\"Elapsed time of g in seconds:\", t2_stop-t2_start)  "
   ]
  },
  {
   "cell_type": "code",
   "execution_count": 39,
   "id": "0d4157c8",
   "metadata": {},
   "outputs": [
    {
     "data": {
      "text/plain": [
       "0.033358607614456276"
      ]
     },
     "execution_count": 39,
     "metadata": {},
     "output_type": "execute_result"
    }
   ],
   "source": [
    "w = (t2_stop-t2_start)/ (t1_stop-t1_start)\n",
    "w"
   ]
  },
  {
   "cell_type": "markdown",
   "id": "3d952572-6e73-48e8-a51e-32766f211259",
   "metadata": {},
   "source": [
    "# Estimateur ACV-IS"
   ]
  },
  {
   "cell_type": "markdown",
   "id": "92d5e6fe-26e1-4340-b8eb-f73fb8d81023",
   "metadata": {},
   "source": [
    "On définit deux échantillons *indépendants* (c'est-à-dire que leurs membres sont mutuellement indépendants)\n",
    "$$\\mathcal{X} = \\{\\mathbf{X}_1, \\ldots, \\mathbf{X}_n\\} \\quad \\text{ et } \\quad \\mathcal{X}' = \\{\\mathbf{X}_1', \\ldots, \\mathbf{X}_N'\\}$$\n",
    "et l'estimateur par variable de contrôle approchée ACV-IS (IS pour *independent sampling*) par\n",
    "$$\\bar{Y}_{n,N}^{\\textnormal{acv-is}}(\\alpha) = \\bar{Y}_n - \\alpha(\\bar{Z}_n - \\bar{Z}_N')$$\n",
    "où\n",
    "* $\\bar{Y}_n = \\frac{1}{n} \\sum\\limits_{i=1}^n f(\\mathbf{X}_i)$,\n",
    "* $\\bar{Z}_n = \\frac{1}{n} \\sum\\limits_{i=1}^n g(\\mathbf{X}_i)$,\n",
    "* $\\bar{Z}_N' = \\frac{1}{N} \\sum\\limits_{i=1}^N g(\\mathbf{X}_i')$."
   ]
  },
  {
   "cell_type": "markdown",
   "id": "02b50449-4abe-4d26-baf0-fea4cdaadd30",
   "metadata": {},
   "source": [
    "**Question 2** : Montrer que le coût moyen d'évaluation de $\\bar{Y}_{n,N}^{\\textnormal{acv-is}}(\\alpha)$ est\n",
    "$$c=n(c_f + \\tau c_g)$$\n",
    "où $\\tau = 1 + \\dfrac{N}{n}$."
   ]
  },
  {
   "cell_type": "markdown",
   "id": "66dc7d79-d24c-48d7-a7f0-9b2777b4cbdc",
   "metadata": {},
   "source": [
    "**Question 3** : En déduire le nombre d'évaluations haute fidélité équivalentes $\\tilde{n}_f = c / c_f$, exprimée en fonction de $\\tau$ et $w$."
   ]
  },
  {
   "cell_type": "markdown",
   "id": "9e03de36-ce50-405d-8cf2-7c7247988762",
   "metadata": {},
   "source": [
    "**Question 4** : Montrer que\n",
    "$$\\mathbb{C}[\\bar{Y}_n, \\bar{Z}_n - \\bar{Z}_N'] = \\dfrac{1}{n}\\mathbb{C}[Y, Z] \\quad \n",
    "\\text{ et } \\quad \n",
    "\\mathbb{V}[\\bar{Z}_n - \\bar{Z}_N'] = \\dfrac{n+N}{nN} \\mathbb{V}[Z].$$"
   ]
  },
  {
   "cell_type": "markdown",
   "id": "442ea153-11c0-4a4a-9689-96e266bbead1",
   "metadata": {},
   "source": [
    "**Question 5** : En déduire que la valeur de $\\alpha$ qui minimise $\\mathbb{V}[\\bar{Y}_{n,N}^{\\textnormal{acv-is}}(\\alpha)]$, notée $\\alpha^*$, est\n",
    "$$\\alpha^*=\\dfrac{N}{n+N} \\dfrac{\\mathbb{C}[Y, Z]}{\\mathbb{V}[Z]}$$\n",
    "et que la variance minimale est alors\n",
    "$$\\mathbb{V}[\\bar{Y}_{n,N}^{\\textnormal{acv-is}}(\\alpha^*)] \n",
    "= \\mathbb{V}[\\bar{Y}_{\\tilde{n}_f}](1+\\tau w)\\left(1 - \\dfrac{N}{n+N} \\rho^2 \\right)$$\n",
    "où $\\bar{Y}_{\\tilde{n}_f} = \\displaystyle\\frac{1}{\\tilde{n}_f} \\sum\\limits_{i=1}^{\\tilde{n}_f} f(\\mathbf{X}_i)$ et $\\rho$ est le coefficient de corrélation de Pearson entre $Y$ et $Z$."
   ]
  },
  {
   "cell_type": "markdown",
   "id": "5792d46f-9e03-4a62-a310-c1be077b26c8",
   "metadata": {},
   "source": [
    "**Question 6** : Montrer que $\\dfrac{N}{n+N} = 1 - \\dfrac{1}{\\tau}$ et comparer l'expression de $\\mathbb{V}[\\bar{Y}_{n,N}^{\\textnormal{acv-is}}(\\alpha^*)]$ à celle de $\\mathbb{V}[\\bar{Y}_{n,N}^{\\textnormal{acv}}(\\alpha^*)]$ vue en cours. \n",
    "En déduire que la valeur de $\\tau$ qui minimise $\\mathbb{V}[\\bar{Y}_{n,N}^{\\textnormal{acv-is}}(\\alpha^*)]$, notée $\\tau^*$, est\n",
    "$$\\tau^* = \\sqrt{\\dfrac{\\rho^2}{w(1-\\rho^2)}}$$\n",
    "et que, pour un budget $\\tilde{n}_f$ donné, l'estimateur ACV-IS optimal est\n",
    "$$\\bar{Y}_{n^*,N^*}^{\\textnormal{acv-is}}(\\alpha^*) = \\bar{Y}_{n^*} - \\alpha^*(\\bar{Z}_{n^*} - \\bar{Z}_{N^*}')$$\n",
    "où $\\alpha^* = \\left(1 - \\dfrac{1}{\\tau^*}\\right) \\dfrac{\\mathbb{C}[Y, Z]}{\\mathbb{V}[Z]}$,\n",
    "$n^* = \\dfrac{\\tilde{n}_f}{1 + \\tau^* w}$ et $N^* = (\\tau^* - 1)n^*$."
   ]
  },
  {
   "attachments": {},
   "cell_type": "markdown",
   "id": "1ec27802-2112-4d1b-b7c7-8566eb73a0e3",
   "metadata": {},
   "source": [
    "**Question 7** : Déduire du cours que\n",
    "$$\\beta = \\dfrac{\\mathbb{V}[\\bar{Y}_{n^*,N^*}^{\\textnormal{acv-is}}(\\alpha^*)]}{\\mathbb{V}[\\bar{Y}_{\\tilde{n}_f}]}\n",
    "= (1+\\tau^* w)^2 (1 - \\rho^2).$$\n",
    "\n",
    "Quelles conclusions pouvez-vous tirer sur les estimateurs ACV et ACV-IS optimaux ?"
   ]
  },
  {
   "cell_type": "markdown",
   "id": "ed6c2888-c30c-4e2b-a9ea-343f53f1ca06",
   "metadata": {},
   "source": [
    "# Expérience pilote"
   ]
  },
  {
   "cell_type": "markdown",
   "id": "73595536-488f-4c7f-b567-71bb49f7cb2b",
   "metadata": {},
   "source": [
    "**Question 8** : Estimer $\\rho^2$ et $\\tau^*$ à l'aide de `ns = 10000` échantillons pilotes."
   ]
  },
  {
   "cell_type": "markdown",
   "id": "81609be1-63ab-4953-be49-b8fa527afc7e",
   "metadata": {},
   "source": [
    "**Question 9** : En déduire une estimation de $\\alpha^*=\\left(1 - \\dfrac{1}{\\tau^*}\\right) \\dfrac{\\mathbb{C}[Y, Z]}{\\mathbb{V}[Z]}$ et de $\\beta=(1+\\tau^* w)^2(1-\\rho^2)$."
   ]
  },
  {
   "cell_type": "code",
   "execution_count": 42,
   "id": "8b999e2f",
   "metadata": {},
   "outputs": [],
   "source": [
    "ns = 10000 # échantillons pilotes\n",
    "X = n_echantillon_X(ns)"
   ]
  },
  {
   "cell_type": "code",
   "execution_count": 43,
   "id": "c124a64b",
   "metadata": {},
   "outputs": [
    {
     "name": "stdout",
     "output_type": "stream",
     "text": [
      "Estimation rho^2 = 0.9806960132863617\n",
      "Estimation tau = 39.02471521417729\n",
      "Estimation beta = 0.10227889235546689\n",
      "Estimation alpha = 0.9815975374739797\n"
     ]
    }
   ],
   "source": [
    "# Q8\n",
    "Y = f(X)\n",
    "Z = g(X)\n",
    "cov_Y_Z = np.cov(Y, Z)\n",
    "rho_2 = cov_Y_Z[0, 1]**2 / (cov_Y_Z[0, 0] * cov_Y_Z[1, 1])\n",
    "tau = np.sqrt(rho_2 / (w * (1 - rho_2)))\n",
    "\n",
    "print(f\"Estimation rho^2 = {rho_2}\")\n",
    "print(f\"Estimation tau = {tau}\")\n",
    "\n",
    "# Q9\n",
    "beta = (1 + tau*w)**2 * (1 - rho_2)\n",
    "alpha = (1 - (1/tau))*cov_Y_Z[0, 1] / cov_Y_Z[1, 1]\n",
    "\n",
    "print(f\"Estimation beta = {beta}\")\n",
    "print(f\"Estimation alpha = {alpha}\")"
   ]
  },
  {
   "cell_type": "markdown",
   "id": "87b88b93-bc03-4a58-a0f0-48a0c4e505b6",
   "metadata": {},
   "source": [
    "# Analyse de l'estimateur ACV-IS"
   ]
  },
  {
   "cell_type": "markdown",
   "id": "7b750dd8-25a0-4d8c-b23b-ab13b420bc35",
   "metadata": {},
   "source": [
    "**Question 10** : Utiliser la valeur de $\\alpha^*$ estimée précédemment (avec les échantillons pilotes) pour contruire un estimateur ACV-IS de l'espérance de $Y$.\n",
    "Faire `nr = 1000` répétitions pour des budgets (en termes de nombre d'évaluations haute fidélité équivalentes) $\\tilde{n}_f = c / c_f \\in \\{5; 10; 20; 50; 100; 200; 500; 1000\\}$."
   ]
  },
  {
   "cell_type": "markdown",
   "id": "8b7f9fe4-7ee2-457a-9529-f33b4b27f081",
   "metadata": {},
   "source": [
    "**Question 11** : Pour chaque budget, estimer le rapport de variance $\\beta$ à budget équivalent entre l'estimateur ACV-IS et l'estimateur Monte Carlo classique (haute fidélité). Ces estimations sont-elles conformes à la valeur de $\\beta$ estimée précédemment (dans l'expérience pilote) ?"
   ]
  },
  {
   "cell_type": "markdown",
   "id": "70ecc8e2-e2b5-4ea2-9c9d-8162e9342a5d",
   "metadata": {},
   "source": [
    "**Question 12** : Tracer l'espérance et l'écart-type (sous forme de barres d'erreur) des estimateurs par variable de contrôle et Monte Carlo (haute fidélité) à budget équivalent en fonction de $\\tilde{n}_f$.\n",
    "Sur un autre graphe (en échelle log-log), tracer l'évolution de la REQM (par rapport à l'espérance exacte du problème continu, `mu_exact`) des estimateurs en fonction de $\\tilde{n}_f$."
   ]
  },
  {
   "cell_type": "code",
   "execution_count": 47,
   "id": "67e17d4f",
   "metadata": {},
   "outputs": [
    {
     "name": "stdout",
     "output_type": "stream",
     "text": [
      "Budget = 5 - n = 2 - N = 78\n",
      "Budget = 10 - n = 4 - N = 156\n",
      "Budget = 20 - n = 8 - N = 312\n",
      "Budget = 50 - n = 21 - N = 819\n",
      "Budget = 100 - n = 43 - N = 1678\n",
      "Budget = 200 - n = 86 - N = 3356\n",
      "Budget = 500 - n = 217 - N = 8468\n",
      "Budget = 1000 - n = 434 - N = 16936\n"
     ]
    }
   ],
   "source": [
    "nr = 1000\n",
    "budgets = [5, 10, 20, 50, 100, 200, 500, 1000]\n",
    "\n",
    "mean_Y_nf_par_budget = []\n",
    "mean_Y_n_N_acv__par_budget = []\n",
    "std_Y_nf_par_budget = []\n",
    "std_Y_n_N_acv__par_budget = []\n",
    "REQM_Y_nf = []\n",
    "REQM_Y_n_N_acv = []\n",
    "beta_par_budget = []\n",
    "for nf in budgets :\n",
    "    # n et N pour budget équivalent\n",
    "    n = int(nf / (1 + tau * w))\n",
    "    N = int(tau * n)\n",
    "    print(f\"Budget = {nf} - n = {n} - N = {N}\")\n",
    "\n",
    "    Y_nf_mc = np.zeros(nr)\n",
    "    Y_n_N_acv_mc = np.zeros(nr)\n",
    "    REQM_Y_nf_mc = np.zeros(nr)\n",
    "    REQM_Y_n_N_acv_mc = np.zeros(nr)\n",
    "    for i in range(nr) :\n",
    "        X = n_echantillon_X(N)\n",
    "        \n",
    "        # Calcul des variables avec le bon nombre d'échantillon\n",
    "        Y_nf = f(X[:, :nf])\n",
    "        Y_n = Y_nf[:n]\n",
    "        Z_N = g(X)\n",
    "        Z_n = Z_N[:n]\n",
    "        \n",
    "        # Calcul de la variable de contrôle\n",
    "        Y_n_N_acv = Y_n.mean() - alpha * (Z_n.mean() - Z_N.mean())\n",
    "\n",
    "        Y_nf_barre = Y_nf.mean()\n",
    "        Y_nf_mc[i] = Y_nf_barre\n",
    "        Y_n_N_acv_mc[i] = Y_n_N_acv\n",
    "\n",
    "        # Calcul de la REQM\n",
    "        REQM_Y_nf_mc[i] = np.sqrt((Y_nf_barre - mu_exact)**2)\n",
    "        REQM_Y_n_N_acv_mc[i] = np.sqrt((Y_n_N_acv - mu_exact)**2)\n",
    "\n",
    "        \n",
    "    mean_Y_nf_par_budget.append(Y_nf_mc.mean())\n",
    "    mean_Y_n_N_acv__par_budget.append(Y_n_N_acv_mc.mean())\n",
    "    std_Y_nf_par_budget.append(Y_nf_mc.std())\n",
    "    std_Y_n_N_acv__par_budget.append(Y_n_N_acv_mc.std())\n",
    "    REQM_Y_nf.append(REQM_Y_nf_mc.mean())\n",
    "    REQM_Y_n_N_acv.append(REQM_Y_n_N_acv_mc.mean())\n",
    "\n",
    "    beta_par_budget.append(Y_n_N_acv_mc.std() / Y_nf_mc.std())\n",
    "\n",
    "    \n",
    "\n",
    "\n"
   ]
  },
  {
   "cell_type": "code",
   "execution_count": 50,
   "id": "11a78b4d",
   "metadata": {},
   "outputs": [
    {
     "data": {
      "image/png": "[encoded data removed]",
      "text/plain": [
       "<Figure size 432x288 with 1 Axes>"
      ]
     },
     "metadata": {
      "needs_background": "light"
     },
     "output_type": "display_data"
    }
   ],
   "source": [
    "import matplotlib.pyplot as plt\n",
    "\n",
    "plt.loglog(budgets, beta_par_budget, marker=\"o\")\n",
    "plt.title(\"Beta\")\n",
    "\n",
    "plt.show()"
   ]
  },
  {
   "cell_type": "code",
   "execution_count": 52,
   "id": "9e265447",
   "metadata": {},
   "outputs": [
    {
     "data": {
      "image/png": "[encoded data removed]",
      "text/plain": [
       "<Figure size 1080x360 with 2 Axes>"
      ]
     },
     "metadata": {
      "needs_background": "light"
     },
     "output_type": "display_data"
    }
   ],
   "source": [
    "label_hf = 'Haute fidélite ($\\\\bar{Y}_{nf}$)'\n",
    "label_acv = 'Variable de contrôle ($\\\\bar{Y}_{n,N}^{acv-is}$)'\n",
    "plt.figure(figsize=(15, 5))\n",
    "plt.subplot(1, 2, 1)\n",
    "plt.errorbar(budgets, mean_Y_nf_par_budget, yerr=std_Y_nf_par_budget, label=label_hf, marker='o',capsize=10)\n",
    "plt.errorbar(budgets, mean_Y_n_N_acv__par_budget, yerr=std_Y_n_N_acv__par_budget, label=label_acv, marker='o',capsize=15)\n",
    "plt.hlines(mu_exact, 0, budgets[-1]+300, colors=\"red\", linestyles=\"--\", zorder=10, label=\"Exact\")\n",
    "plt.xlabel(\"Nombre d'échantillon haute fidélité\")\n",
    "plt.xscale('log')\n",
    "plt.ylabel('Mean')\n",
    "plt.legend()\n",
    "plt.subplot(1, 2, 2)\n",
    "plt.title(\"REQM\")\n",
    "plt.loglog(budgets, beta_par_budget, marker=\"o\", label=label_hf)\n",
    "plt.loglog(budgets, REQM_Y_n_N_acv, marker=\"o\", label=label_acv)\n",
    "plt.xlabel(\"Nombre d'échantillon haute fidélité\")\n",
    "plt.legend()\n",
    "plt.show()"
   ]
  },
  {
   "cell_type": "code",
   "execution_count": null,
   "id": "74dd438d",
   "metadata": {},
   "outputs": [],
   "source": []
  },
  {
   "cell_type": "markdown",
   "id": "7944ee1e",
   "metadata": {},
   "source": []
  }
 ],
 "metadata": {
  "kernelspec": {
   "display_name": "Python 3 (ipykernel)",
   "language": "python",
   "name": "python3"
  },
  "language_info": {
   "codemirror_mode": {
    "name": "ipython",
    "version": 3
   },
   "file_extension": ".py",
   "mimetype": "text/x-python",
   "name": "python",
   "nbconvert_exporter": "python",
   "pygments_lexer": "ipython3",
   "version": "3.9.12"
  }
 },
 "nbformat": 4,
 "nbformat_minor": 5
}
