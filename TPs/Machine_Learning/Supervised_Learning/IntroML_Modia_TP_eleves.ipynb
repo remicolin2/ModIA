{
 "cells": [
  {
   "cell_type": "markdown",
   "id": "fb1f98a5",
   "metadata": {},
   "source": [
    "# TP: Perceptron and SVM on linearly seperable data\n",
    "1. Implement the Perceptron algorithm for binary classfication\n",
    "2. Learn how to use Linear SVM with scikit-learn\n",
    "3. Understand the behavior of the test error of each method\n",
    "\n",
    "(Ce TP doit être réalisé en une séance de 2h.)"
   ]
  },
  {
   "cell_type": "code",
   "execution_count": 1,
   "id": "e52feda3",
   "metadata": {},
   "outputs": [],
   "source": [
    "%matplotlib inline\n",
    "import matplotlib.pyplot as plt\n",
    "import numpy as np\n",
    "import sklearn\n",
    "from sklearn.datasets import make_classification\n",
    "from sklearn.svm import SVC, LinearSVC\n",
    "from sklearn.metrics import confusion_matrix,accuracy_score"
   ]
  },
  {
   "cell_type": "markdown",
   "id": "2fa35f74",
   "metadata": {},
   "source": [
    "# Data generation"
   ]
  },
  {
   "cell_type": "code",
   "execution_count": 2,
   "id": "a8d8f336",
   "metadata": {},
   "outputs": [],
   "source": [
    "n_samples, n_features = 200, 300\n",
    "X, y = make_classification(\n",
    "    n_samples=n_samples, n_features=n_features, n_informative=2, n_clusters_per_class = 1,\n",
    "    n_redundant= 0, n_repeated = 0,\n",
    "    class_sep = 2, shuffle = False, flip_y = 0, \n",
    ")\n",
    "y[y==0] = -1 # NOTE that the lable values are 0 or 1, convert to -1 or 1"
   ]
  },
  {
   "cell_type": "code",
   "execution_count": 3,
   "id": "87510b1a",
   "metadata": {},
   "outputs": [
    {
     "data": {
      "text/plain": [
       "<matplotlib.collections.PathCollection at 0x7f4df67c4490>"
      ]
     },
     "execution_count": 3,
     "metadata": {},
     "output_type": "execute_result"
    },
    {
     "data": {
      "image/png": "[encoded data removed]",
      "text/plain": [
       "<Figure size 640x480 with 1 Axes>"
      ]
     },
     "metadata": {},
     "output_type": "display_data"
    }
   ],
   "source": [
    "# Plot the first 2 features of x to check visually that the dataset is linearly seperable\n",
    "# random permutation of samples\n",
    "perm = np.random.permutation(n_samples)\n",
    "X = X[perm,:]\n",
    "y = y[perm]\n",
    "plt.scatter( X[y==-1, 0],  X[y==-1, 1] )\n",
    "plt.scatter( X[y==1, 0],  X[y==1, 1] )"
   ]
  },
  {
   "cell_type": "code",
   "execution_count": 4,
   "id": "e7f93ea3",
   "metadata": {},
   "outputs": [],
   "source": [
    "# split the data into training and test set, with 1:1 ratio\n",
    "X_train = X[0:n_samples//2,:]\n",
    "y_train = y[0:n_samples//2]\n",
    "X_test = X[n_samples//2:,:]\n",
    "y_test = y[n_samples//2:]"
   ]
  },
  {
   "cell_type": "markdown",
   "id": "a15933ff",
   "metadata": {},
   "source": [
    "# I. Perceptron algorithm\n",
    "### I.1 Implement the following algorithm:\n",
    "\n",
    "    w in R^N, b in R         \n",
    "    Init k =0,  initial each value of w and b to 0\n",
    "    Repeat\n",
    "        for i=1 .. m do\n",
    "            if sign ( w'x_i + b ) is y_i, then\n",
    "                do nothing\n",
    "            else\n",
    "                if y_i is 1, then            \n",
    "                    w = w + x_i\n",
    "                    b = b + 1\n",
    "                else\n",
    "                    w = w - x_i\n",
    "                    b = b - 1\n",
    "                end\n",
    "                k = k + 1 # nb of corrections\n",
    "            end\n",
    "        end\n",
    "        STOP if k is larger than kmax, or if there is no more corrections"
   ]
  },
  {
   "cell_type": "code",
   "execution_count": 5,
   "id": "7a0fd5af",
   "metadata": {},
   "outputs": [
    {
     "name": "stdout",
     "output_type": "stream",
     "text": [
      "exit without corrections at k= 36\n"
     ]
    }
   ],
   "source": [
    "kmax = 100 # choose a suitable value\n",
    "m = n_samples//2\n",
    "N = n_features\n",
    "w = np.zeros(N)\n",
    "b = 0\n",
    "k = 0\n",
    "\n",
    "# TODO\n"
   ]
  },
  {
   "cell_type": "markdown",
   "id": "487ba023",
   "metadata": {},
   "source": [
    "### I.2 compute the training and test error"
   ]
  },
  {
   "cell_type": "code",
   "execution_count": 6,
   "id": "6ccd9b67",
   "metadata": {},
   "outputs": [
    {
     "name": "stdout",
     "output_type": "stream",
     "text": [
      "training error is 0.0\n"
     ]
    }
   ],
   "source": [
    "training_error = 0\n",
    "# TODO\n",
    "print('training error is', training_error)"
   ]
  },
  {
   "cell_type": "code",
   "execution_count": 7,
   "id": "bcb288cb",
   "metadata": {},
   "outputs": [
    {
     "name": "stdout",
     "output_type": "stream",
     "text": [
      "test error is 0.09\n"
     ]
    }
   ],
   "source": [
    "test_error = 0\n",
    "# TODO\n",
    "print('test error is', test_error)"
   ]
  },
  {
   "cell_type": "markdown",
   "id": "69f92cea",
   "metadata": {},
   "source": [
    "### I.3 compute the margin of the Perceptron classifier"
   ]
  },
  {
   "cell_type": "code",
   "execution_count": 8,
   "id": "7716b366",
   "metadata": {},
   "outputs": [
    {
     "name": "stdout",
     "output_type": "stream",
     "text": [
      "0.23524357353431116\n"
     ]
    }
   ],
   "source": [
    "# TODO\n",
    "margin = np.abs( (np.dot(w,X_train[0,:])+b  )  ) / np.sqrt(np.dot(w,w))\n",
    "# TODO\n",
    "print(margin)"
   ]
  },
  {
   "cell_type": "markdown",
   "id": "047e2da5",
   "metadata": {},
   "source": [
    "# II. Linear SVM method\n",
    "* Train the SVM classifier clf using X_train and y_train\n",
    "* Compare and analyze the training and test error, e.g. make a connection to the margin of each classifier"
   ]
  },
  {
   "cell_type": "code",
   "execution_count": 10,
   "id": "0cd75370",
   "metadata": {},
   "outputs": [],
   "source": [
    "# TODO use SVC or LinearSVC, set a proper kernel and parameter C\n",
    "clf = SVC()"
   ]
  },
  {
   "cell_type": "code",
   "execution_count": 11,
   "id": "75430bce",
   "metadata": {},
   "outputs": [
    {
     "data": {
      "text/plain": [
       "Text(0.5, 1.0, 'Train ; accuracy=1.00')"
      ]
     },
     "execution_count": 11,
     "metadata": {},
     "output_type": "execute_result"
    },
    {
     "data": {
      "image/png": "[encoded data removed]",
      "text/plain": [
       "<Figure size 640x480 with 2 Axes>"
      ]
     },
     "metadata": {},
     "output_type": "display_data"
    }
   ],
   "source": [
    "# TODO you may display the confusion matrix of the classfication with disp = sklearn.metrics.ConfusionMatrixDisplay(...)\n",
    "disp.plot()\n",
    "plt.title(f'Train ; accuracy={accuracyTrain:.2f}')"
   ]
  },
  {
   "cell_type": "code",
   "execution_count": 13,
   "id": "49d31116",
   "metadata": {},
   "outputs": [],
   "source": [
    "# TODO get the weight and bias in SVM\n",
    "w = clf.coef_[0]\n",
    "b = clf.intercept_[0]"
   ]
  },
  {
   "cell_type": "code",
   "execution_count": 14,
   "id": "051d011c",
   "metadata": {},
   "outputs": [
    {
     "name": "stdout",
     "output_type": "stream",
     "text": [
      "training error is 0.0\n"
     ]
    }
   ],
   "source": [
    "training_error = 0\n",
    "# TODO\n",
    "print('training error is', training_error)"
   ]
  },
  {
   "cell_type": "code",
   "execution_count": 15,
   "id": "03a81dac",
   "metadata": {},
   "outputs": [
    {
     "name": "stdout",
     "output_type": "stream",
     "text": [
      "test error is 0.07\n"
     ]
    }
   ],
   "source": [
    "test_error = 0\n",
    "# TODO\n",
    "print('test error is', test_error)"
   ]
  },
  {
   "cell_type": "code",
   "execution_count": 16,
   "id": "38e70a00",
   "metadata": {},
   "outputs": [
    {
     "name": "stdout",
     "output_type": "stream",
     "text": [
      "2.149937649499934\n"
     ]
    }
   ],
   "source": [
    "margin = np.abs( (np.dot(w,X_train[0,:])+b )  ) / np.sqrt(np.dot(w,w))\n",
    "# TODO\n",
    "print(margin)"
   ]
  }
 ],
 "metadata": {
  "kernelspec": {
   "display_name": "Python 3 (ipykernel)",
   "language": "python",
   "name": "python3"
  },
  "language_info": {
   "codemirror_mode": {
    "name": "ipython",
    "version": 3
   },
   "file_extension": ".py",
   "mimetype": "text/x-python",
   "name": "python",
   "nbconvert_exporter": "python",
   "pygments_lexer": "ipython3",
   "version": "3.9.13"
  }
 },
 "nbformat": 4,
 "nbformat_minor": 5
}
