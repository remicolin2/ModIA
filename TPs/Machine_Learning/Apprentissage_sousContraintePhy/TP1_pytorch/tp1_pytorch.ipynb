{
 "cells": [
  {
   "cell_type": "code",
   "execution_count": 2,
   "metadata": {},
   "outputs": [],
   "source": [
    "%matplotlib inline\n",
    "\n",
    "import torch\n",
    "from torch.autograd import Variable\n",
    "import matplotlib.pyplot as plt\n",
    "\n",
    "from torchviz import make_dot"
   ]
  },
  {
   "cell_type": "markdown",
   "metadata": {},
   "source": [
    "# Backprop and SGD"
   ]
  },
  {
   "cell_type": "code",
   "execution_count": 3,
   "metadata": {},
   "outputs": [
    {
     "name": "stdout",
     "output_type": "stream",
     "text": [
      "torch.Size([1024, 1])\n"
     ]
    }
   ],
   "source": [
    "bs = 1024\n",
    "mu = 1\n",
    "x0 = torch.randn(bs,1) + mu\n",
    "print(x0.shape)\n",
    "\n",
    "# f_theta(x) = x + theta\n",
    "def f(x,theta):\n",
    "    return x + theta"
   ]
  },
  {
   "cell_type": "code",
   "execution_count": 4,
   "metadata": {},
   "outputs": [
    {
     "name": "stdout",
     "output_type": "stream",
     "text": [
      "tensor([1.], requires_grad=True)\n",
      "init theta tensor([1.], requires_grad=True)\n"
     ]
    },
    {
     "name": "stderr",
     "output_type": "stream",
     "text": [
      "/home/zsx/anaconda3/envs/wph/lib/python3.6/site-packages/ipykernel_launcher.py:27: UserWarning: This overload of add_ is deprecated:\n",
      "\tadd_(Number alpha, Tensor other)\n",
      "Consider using one of the following signatures instead:\n",
      "\tadd_(Tensor other, *, Number alpha) (Triggered internally at  /opt/conda/conda-bld/pytorch_1603729128610/work/torch/csrc/utils/python_arg_parser.cpp:882.)\n"
     ]
    },
    {
     "data": {
      "text/plain": [
       "Text(0.5, 1.0, 'grad list')"
      ]
     },
     "execution_count": 4,
     "metadata": {},
     "output_type": "execute_result"
    },
    {
     "data": {
      "image/png": "[encoded data removed]",
      "text/plain": [
       "<Figure size 432x288 with 1 Axes>"
      ]
     },
     "metadata": {
      "needs_background": "light"
     },
     "output_type": "display_data"
    },
    {
     "data": {
      "image/png": "[encoded data removed]",
      "text/plain": [
       "<Figure size 432x288 with 1 Axes>"
      ]
     },
     "metadata": {
      "needs_background": "light"
     },
     "output_type": "display_data"
    }
   ],
   "source": [
    "# OPTIMIZE WITH GD\n",
    "theta = torch.tensor([1.0], requires_grad=True) # \n",
    "print(theta)\n",
    "\n",
    "T = 20\n",
    "#theta1 = theta\n",
    "print('init theta',theta)\n",
    "loss_lst = []\n",
    "grad_lst = []\n",
    "true_grad_lst = []\n",
    "maxite = 10\n",
    "eta = 0.1\n",
    "etat = eta / (T**2) # STEP SIZE\n",
    "for ite in range(1,maxite+1):    \n",
    "    xt =  x0\n",
    "    for t in range(1,T+1):\n",
    "        #print(ite,t)\n",
    "        xt = f(xt,theta)\n",
    "    losst = torch.mean((xt - mu)**2)\n",
    "    #print('loss',losst)\n",
    "    loss_lst.append(losst)\n",
    "    losst.backward()\n",
    "    \n",
    "    grad_lst.append(theta.grad.item())\n",
    "    true_grad_lst.append(2*theta*T*T)\n",
    "    \n",
    "    theta.data.add_(-etat,theta.grad)    \n",
    "    theta.grad.zero_()\n",
    "    \n",
    "    #print('grad', theta.grad, 'expect:',2*((ite*theta)*ite))\n",
    "    \n",
    "plt.figure()\n",
    "plt.plot(loss_lst,'ob')\n",
    "plt.title('loss list')\n",
    "\n",
    "plt.figure()\n",
    "plt.plot(grad_lst,'ob')\n",
    "plt.plot(true_grad_lst,'r+')\n",
    "plt.legend(['grad','true'])\n",
    "plt.title('grad list')"
   ]
  },
  {
   "cell_type": "code",
   "execution_count": 5,
   "metadata": {},
   "outputs": [
    {
     "name": "stdout",
     "output_type": "stream",
     "text": [
      "tensor([1.], requires_grad=True)\n",
      "init theta tensor([1.], requires_grad=True)\n"
     ]
    },
    {
     "data": {
      "text/plain": [
       "(0.0, 1.1)"
      ]
     },
     "execution_count": 5,
     "metadata": {},
     "output_type": "execute_result"
    },
    {
     "data": {
      "image/png": "[encoded data removed]",
      "text/plain": [
       "<Figure size 432x288 with 1 Axes>"
      ]
     },
     "metadata": {
      "needs_background": "light"
     },
     "output_type": "display_data"
    }
   ],
   "source": [
    "# USE SGD in Pytorch\n",
    "theta = torch.tensor([1.0], requires_grad=True) # \n",
    "print(theta)\n",
    "\n",
    "T = 200\n",
    "eta = 0.2\n",
    "print('init theta',theta)\n",
    "optimizer = torch.optim.SGD([theta],lr=eta  / (T**2) )\n",
    "total = 10\n",
    "theta_lst = []\n",
    "theta_lst.append(theta.detach().clone())\n",
    "\n",
    "for ite in range(1,total+1):   \n",
    "    optimizer.zero_grad()\n",
    "    xt =  x0\n",
    "    for t in range(1,T+1):\n",
    "        #print(ite,t)\n",
    "        xt = f(xt,theta)        \n",
    "    losst = torch.mean((xt - mu)**2)\n",
    "    \n",
    "    #print('loss',losst)\n",
    "    losst.backward(retain_graph=True)\n",
    "    \n",
    "    #print('grad', theta.grad, 'expect:',2*((ite*theta)*ite))\n",
    "    optimizer.step()\n",
    "    theta_lst.append(theta.detach().clone())\n",
    "    \n",
    "plt.figure()\n",
    "plt.plot(theta_lst)\n",
    "plt.title('theta over iterations')\n",
    "plt.ylim([0,1.1])"
   ]
  },
  {
   "cell_type": "markdown",
   "metadata": {},
   "source": [
    "# GRAPH"
   ]
  },
  {
   "cell_type": "code",
   "execution_count": 6,
   "metadata": {},
   "outputs": [
    {
     "name": "stdout",
     "output_type": "stream",
     "text": [
      "tensor([1.], requires_grad=True)\n",
      "torch.Size([1024, 1])\n"
     ]
    }
   ],
   "source": [
    "theta = torch.tensor([1.0], requires_grad=True) # \n",
    "print(theta)\n",
    "bs = 1024\n",
    "x0 = torch.randn(bs,1)\n",
    "print(x0.shape)\n",
    "def f(x,theta):\n",
    "    return x + theta"
   ]
  },
  {
   "cell_type": "code",
   "execution_count": 7,
   "metadata": {},
   "outputs": [
    {
     "name": "stdout",
     "output_type": "stream",
     "text": [
      "tensor(4.8863, grad_fn=<MeanBackward0>)\n",
      "tensor([11.9442])\n",
      "tensor([12.], grad_fn=<MulBackward0>)\n"
     ]
    },
    {
     "data": {
      "text/plain": [
       "tensor([0.])"
      ]
     },
     "execution_count": 7,
     "metadata": {},
     "output_type": "execute_result"
    }
   ],
   "source": [
    "# computation\n",
    "T = 3\n",
    "xt = x0\n",
    "for t in range(1,T+1):\n",
    "    xt = f(xt,theta)\n",
    "loss = torch.mean((xt - 1)**2)\n",
    "print(loss)\n",
    "loss.backward()\n",
    "print(theta.grad)\n",
    "print(2*((T*theta-1)*T))\n",
    "theta.grad.zero_()"
   ]
  },
  {
   "cell_type": "code",
   "execution_count": 9,
   "metadata": {},
   "outputs": [
    {
     "data": {
      "image/svg+xml": [
       "<?xml version=\"1.0\" encoding=\"UTF-8\" standalone=\"no\"?>\n",
       "<!DOCTYPE svg PUBLIC \"-//W3C//DTD SVG 1.1//EN\"\n",
       " \"http://www.w3.org/Graphics/SVG/1.1/DTD/svg11.dtd\">\n",
       "<!-- Generated by graphviz version 2.43.0 (0)\n",
       " -->\n",
       "<!-- Title: %3 Pages: 1 -->\n",
       "<svg width=\"176pt\" height=\"490pt\"\n",
       " viewBox=\"0.00 0.00 176.00 490.00\" xmlns=\"http://www.w3.org/2000/svg\" xmlns:xlink=\"http://www.w3.org/1999/xlink\">\n",
       "<g id=\"graph0\" class=\"graph\" transform=\"scale(1 1) rotate(0) translate(4 486)\">\n",
       "<title>%3</title>\n",
       "<polygon fill=\"white\" stroke=\"transparent\" points=\"-4,4 -4,-486 172,-486 172,4 -4,4\"/>\n",
       "<!-- 139630701712512 -->\n",
       "<g id=\"node1\" class=\"node\">\n",
       "<title>139630701712512</title>\n",
       "<polygon fill=\"#caff70\" stroke=\"black\" points=\"75.5,-31 21.5,-31 21.5,0 75.5,0 75.5,-31\"/>\n",
       "<text text-anchor=\"middle\" x=\"48.5\" y=\"-7\" font-family=\"monospace\" font-size=\"10.00\"> ()</text>\n",
       "</g>\n",
       "<!-- 139630701233152 -->\n",
       "<g id=\"node2\" class=\"node\">\n",
       "<title>139630701233152</title>\n",
       "<polygon fill=\"lightgrey\" stroke=\"black\" points=\"96,-86 1,-86 1,-67 96,-67 96,-86\"/>\n",
       "<text text-anchor=\"middle\" x=\"48.5\" y=\"-74\" font-family=\"monospace\" font-size=\"10.00\">MeanBackward0</text>\n",
       "</g>\n",
       "<!-- 139630701233152&#45;&gt;139630701712512 -->\n",
       "<g id=\"edge10\" class=\"edge\">\n",
       "<title>139630701233152&#45;&gt;139630701712512</title>\n",
       "<path fill=\"none\" stroke=\"black\" d=\"M48.5,-66.79C48.5,-60.07 48.5,-50.4 48.5,-41.34\"/>\n",
       "<polygon fill=\"black\" stroke=\"black\" points=\"52,-41.19 48.5,-31.19 45,-41.19 52,-41.19\"/>\n",
       "</g>\n",
       "<!-- 139630701232872 -->\n",
       "<g id=\"node3\" class=\"node\">\n",
       "<title>139630701232872</title>\n",
       "<polygon fill=\"lightgrey\" stroke=\"black\" points=\"93,-141 4,-141 4,-122 93,-122 93,-141\"/>\n",
       "<text text-anchor=\"middle\" x=\"48.5\" y=\"-129\" font-family=\"monospace\" font-size=\"10.00\">PowBackward0</text>\n",
       "</g>\n",
       "<!-- 139630701232872&#45;&gt;139630701233152 -->\n",
       "<g id=\"edge1\" class=\"edge\">\n",
       "<title>139630701232872&#45;&gt;139630701233152</title>\n",
       "<path fill=\"none\" stroke=\"black\" d=\"M48.5,-121.75C48.5,-114.8 48.5,-104.85 48.5,-96.13\"/>\n",
       "<polygon fill=\"black\" stroke=\"black\" points=\"52,-96.09 48.5,-86.09 45,-96.09 52,-96.09\"/>\n",
       "</g>\n",
       "<!-- 139630701232256 -->\n",
       "<g id=\"node4\" class=\"node\">\n",
       "<title>139630701232256</title>\n",
       "<polygon fill=\"lightgrey\" stroke=\"black\" points=\"93,-196 4,-196 4,-177 93,-177 93,-196\"/>\n",
       "<text text-anchor=\"middle\" x=\"48.5\" y=\"-184\" font-family=\"monospace\" font-size=\"10.00\">SubBackward0</text>\n",
       "</g>\n",
       "<!-- 139630701232256&#45;&gt;139630701232872 -->\n",
       "<g id=\"edge2\" class=\"edge\">\n",
       "<title>139630701232256&#45;&gt;139630701232872</title>\n",
       "<path fill=\"none\" stroke=\"black\" d=\"M48.5,-176.75C48.5,-169.8 48.5,-159.85 48.5,-151.13\"/>\n",
       "<polygon fill=\"black\" stroke=\"black\" points=\"52,-151.09 48.5,-141.09 45,-151.09 52,-151.09\"/>\n",
       "</g>\n",
       "<!-- 139630701232928 -->\n",
       "<g id=\"node5\" class=\"node\">\n",
       "<title>139630701232928</title>\n",
       "<polygon fill=\"lightgrey\" stroke=\"black\" points=\"93,-251 4,-251 4,-232 93,-232 93,-251\"/>\n",
       "<text text-anchor=\"middle\" x=\"48.5\" y=\"-239\" font-family=\"monospace\" font-size=\"10.00\">AddBackward0</text>\n",
       "</g>\n",
       "<!-- 139630701232928&#45;&gt;139630701232256 -->\n",
       "<g id=\"edge3\" class=\"edge\">\n",
       "<title>139630701232928&#45;&gt;139630701232256</title>\n",
       "<path fill=\"none\" stroke=\"black\" d=\"M48.5,-231.75C48.5,-224.8 48.5,-214.85 48.5,-206.13\"/>\n",
       "<polygon fill=\"black\" stroke=\"black\" points=\"52,-206.09 48.5,-196.09 45,-206.09 52,-206.09\"/>\n",
       "</g>\n",
       "<!-- 139630701233992 -->\n",
       "<g id=\"node6\" class=\"node\">\n",
       "<title>139630701233992</title>\n",
       "<polygon fill=\"lightgrey\" stroke=\"black\" points=\"130,-306 41,-306 41,-287 130,-287 130,-306\"/>\n",
       "<text text-anchor=\"middle\" x=\"85.5\" y=\"-294\" font-family=\"monospace\" font-size=\"10.00\">AddBackward0</text>\n",
       "</g>\n",
       "<!-- 139630701233992&#45;&gt;139630701232928 -->\n",
       "<g id=\"edge4\" class=\"edge\">\n",
       "<title>139630701233992&#45;&gt;139630701232928</title>\n",
       "<path fill=\"none\" stroke=\"black\" d=\"M79.39,-286.75C74.22,-279.34 66.65,-268.5 60.31,-259.41\"/>\n",
       "<polygon fill=\"black\" stroke=\"black\" points=\"63.09,-257.29 54.5,-251.09 57.35,-261.29 63.09,-257.29\"/>\n",
       "</g>\n",
       "<!-- 139630701234160 -->\n",
       "<g id=\"node7\" class=\"node\">\n",
       "<title>139630701234160</title>\n",
       "<polygon fill=\"lightgrey\" stroke=\"black\" points=\"168,-361 79,-361 79,-342 168,-342 168,-361\"/>\n",
       "<text text-anchor=\"middle\" x=\"123.5\" y=\"-349\" font-family=\"monospace\" font-size=\"10.00\">AddBackward0</text>\n",
       "</g>\n",
       "<!-- 139630701234160&#45;&gt;139630701233992 -->\n",
       "<g id=\"edge5\" class=\"edge\">\n",
       "<title>139630701234160&#45;&gt;139630701233992</title>\n",
       "<path fill=\"none\" stroke=\"black\" d=\"M117.23,-341.75C111.91,-334.34 104.14,-323.5 97.62,-314.41\"/>\n",
       "<polygon fill=\"black\" stroke=\"black\" points=\"100.33,-312.18 91.66,-306.09 94.64,-316.26 100.33,-312.18\"/>\n",
       "</g>\n",
       "<!-- 139630701233880 -->\n",
       "<g id=\"node8\" class=\"node\">\n",
       "<title>139630701233880</title>\n",
       "<polygon fill=\"lightgrey\" stroke=\"black\" points=\"101,-416 0,-416 0,-397 101,-397 101,-416\"/>\n",
       "<text text-anchor=\"middle\" x=\"50.5\" y=\"-404\" font-family=\"monospace\" font-size=\"10.00\">AccumulateGrad</text>\n",
       "</g>\n",
       "<!-- 139630701233880&#45;&gt;139630701232928 -->\n",
       "<g id=\"edge9\" class=\"edge\">\n",
       "<title>139630701233880&#45;&gt;139630701232928</title>\n",
       "<path fill=\"none\" stroke=\"black\" d=\"M47.27,-396.86C40.36,-377.26 25.35,-328 32.5,-287 34.07,-278 37.3,-268.42 40.44,-260.46\"/>\n",
       "<polygon fill=\"black\" stroke=\"black\" points=\"43.72,-261.69 44.39,-251.12 37.27,-258.97 43.72,-261.69\"/>\n",
       "</g>\n",
       "<!-- 139630701233880&#45;&gt;139630701233992 -->\n",
       "<g id=\"edge8\" class=\"edge\">\n",
       "<title>139630701233880&#45;&gt;139630701233992</title>\n",
       "<path fill=\"none\" stroke=\"black\" d=\"M53.16,-396.85C56.95,-384.62 64.12,-361.56 70.5,-342 73.35,-333.27 76.59,-323.61 79.33,-315.52\"/>\n",
       "<polygon fill=\"black\" stroke=\"black\" points=\"82.66,-316.61 82.57,-306.01 76.04,-314.35 82.66,-316.61\"/>\n",
       "</g>\n",
       "<!-- 139630701233880&#45;&gt;139630701234160 -->\n",
       "<g id=\"edge6\" class=\"edge\">\n",
       "<title>139630701233880&#45;&gt;139630701234160</title>\n",
       "<path fill=\"none\" stroke=\"black\" d=\"M62.23,-396.98C73.23,-389 89.92,-376.88 103.1,-367.31\"/>\n",
       "<polygon fill=\"black\" stroke=\"black\" points=\"105.52,-369.88 111.56,-361.17 101.41,-364.21 105.52,-369.88\"/>\n",
       "</g>\n",
       "<!-- 139630701375208 -->\n",
       "<g id=\"node9\" class=\"node\">\n",
       "<title>139630701375208</title>\n",
       "<polygon fill=\"lightblue\" stroke=\"black\" points=\"77.5,-482 23.5,-482 23.5,-452 77.5,-452 77.5,-482\"/>\n",
       "<text text-anchor=\"middle\" x=\"50.5\" y=\"-470\" font-family=\"monospace\" font-size=\"10.00\">theta</text>\n",
       "<text text-anchor=\"middle\" x=\"50.5\" y=\"-459\" font-family=\"monospace\" font-size=\"10.00\"> (1)</text>\n",
       "</g>\n",
       "<!-- 139630701375208&#45;&gt;139630701233880 -->\n",
       "<g id=\"edge7\" class=\"edge\">\n",
       "<title>139630701375208&#45;&gt;139630701233880</title>\n",
       "<path fill=\"none\" stroke=\"black\" d=\"M50.5,-451.84C50.5,-444.21 50.5,-434.7 50.5,-426.45\"/>\n",
       "<polygon fill=\"black\" stroke=\"black\" points=\"54,-426.27 50.5,-416.27 47,-426.27 54,-426.27\"/>\n",
       "</g>\n",
       "</g>\n",
       "</svg>\n"
      ],
      "text/plain": [
       "<graphviz.graphs.Digraph at 0x7efe4e58cd30>"
      ]
     },
     "execution_count": 9,
     "metadata": {},
     "output_type": "execute_result"
    }
   ],
   "source": [
    "make_dot(loss, params=dict({'theta':theta}))"
   ]
  },
  {
   "cell_type": "code",
   "execution_count": null,
   "metadata": {},
   "outputs": [],
   "source": []
  }
 ],
 "metadata": {
  "kernelspec": {
   "display_name": "Python 3",
   "language": "python",
   "name": "python3"
  },
  "language_info": {
   "codemirror_mode": {
    "name": "ipython",
    "version": 3
   },
   "file_extension": ".py",
   "mimetype": "text/x-python",
   "name": "python",
   "nbconvert_exporter": "python",
   "pygments_lexer": "ipython3",
   "version": "3.6.10"
  }
 },
 "nbformat": 4,
 "nbformat_minor": 5
}
