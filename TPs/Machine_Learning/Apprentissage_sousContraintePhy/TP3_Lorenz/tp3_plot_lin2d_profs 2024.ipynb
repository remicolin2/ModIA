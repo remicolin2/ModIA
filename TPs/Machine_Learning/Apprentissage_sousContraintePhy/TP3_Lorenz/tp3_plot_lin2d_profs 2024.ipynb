{
 "cells": [
  {
   "cell_type": "code",
   "execution_count": 1,
   "id": "63e634e2",
   "metadata": {},
   "outputs": [],
   "source": [
    "# plot Lin2d system\n",
    "import matplotlib.pyplot as plt\n",
    "import sys, os\n",
    "sys.path.append('./code_eleves')\n",
    "import numpy as np\n",
    "import torch\n",
    "import torch.nn as nn\n",
    "from manage_exp import set_tensor_type\n",
    "from manage_exp import get_x0\n",
    "from lin2d_exp import get_params"
   ]
  },
  {
   "cell_type": "code",
   "execution_count": 25,
   "id": "311a81be",
   "metadata": {},
   "outputs": [
    {
     "name": "stdout",
     "output_type": "stream",
     "text": [
      "use gpu False\n",
      "use tensor_type double\n"
     ]
    }
   ],
   "source": [
    "cuda = False #  torch.cuda.is_available()\n",
    "tensor_type = 'double' # precision numerique\n",
    "set_tensor_type(tensor_type,cuda)\n",
    "exp_params = get_params()"
   ]
  },
  {
   "cell_type": "code",
   "execution_count": 3,
   "id": "1e0d0481",
   "metadata": {},
   "outputs": [
    {
     "name": "stdout",
     "output_type": "stream",
     "text": [
      "propogator params {'loc_classname': 'Lin2d', 'loc_kwargs': {'x_dim': 2, 'N': 1, 'dt': 0, 'init': '0'}, 'gauss_dim': 2, 'scale_vec_classname': 'Cst', 'scale_vec_kwargs': {'init': tensor([-4.6052], dtype=torch.float32)}}\n"
     ]
    }
   ],
   "source": [
    "print('propogator params',exp_params['prop_kwargs'])"
   ]
  },
  {
   "cell_type": "code",
   "execution_count": 4,
   "id": "bb7ed6cd",
   "metadata": {},
   "outputs": [
    {
     "name": "stdout",
     "output_type": "stream",
     "text": [
      "observor params {'loc_classname': 'Id', 'loc_kwargs': {}, 'gauss_dim': 2, 'scale_vec_classname': 'Cst', 'scale_vec_kwargs': {'init': tensor([-2.3026], dtype=torch.float32)}}\n"
     ]
    }
   ],
   "source": [
    "print('observor params',exp_params['obs_kwargs'])"
   ]
  },
  {
   "cell_type": "code",
   "execution_count": 5,
   "id": "3ab9b6f8",
   "metadata": {},
   "outputs": [],
   "source": [
    "# FROM filters\n",
    "from filters import Cst, Id, GaussianDiag\n",
    "\n",
    "class ConstructorProp(nn.Module):\n",
    "    # construct propogator based on prop_kwargs\n",
    "    # return a Gaussian made from a vector, \n",
    "    # this vector is made of the concatnation of loc and scale_vec\n",
    "    def __init__(self, loc_classname, loc_kwargs,\n",
    "                 gauss_dim, scale_vec_classname, scale_vec_kwargs):\n",
    "        nn.Module.__init__(self)       \n",
    "        self.gauss_dim = gauss_dim # same as x_dim\n",
    "        self.loc = eval(loc_classname)(**loc_kwargs) # init e.g. Lin2d module\n",
    "        self.scale_vec = eval(scale_vec_classname)(**scale_vec_kwargs) # Cst module\n",
    "\n",
    "    def forward(self, *args):\n",
    "        lc = self.loc(*args)\n",
    "        sc = self.scale_vec(*args)\n",
    "        return GaussianDiag(self.gauss_dim, torch.cat((lc, sc), dim=1))        \n",
    "\n",
    "class ConstructorObs(nn.Module):\n",
    "    # construct observor based on obs_kwargs\n",
    "    # return a Gaussian made from a vector, \n",
    "    # this vector is made of the concatnation of loc and scale_vec\n",
    "    def __init__(self, loc_classname, loc_kwargs,\n",
    "                 gauss_dim=None,\n",
    "                 scale_vec_classname=None, scale_vec_kwargs=None):\n",
    "        nn.Module.__init__(self)\n",
    "        self.gauss_dim = gauss_dim\n",
    "        self.loc = eval(loc_classname)(**loc_kwargs) # init e.g. Id module\n",
    "        self.scale_vec = eval(scale_vec_classname)(**scale_vec_kwargs) # Cst module       \n",
    "    def forward(self, *args):\n",
    "        lc = self.loc(*args)\n",
    "        sc = self.scale_vec(*args)\n",
    "        return GaussianDiag(self.gauss_dim, torch.cat((lc, sc), dim=1))    "
   ]
  },
  {
   "cell_type": "code",
   "execution_count": 6,
   "id": "e05b3073",
   "metadata": {},
   "outputs": [],
   "source": [
    "# TO modify in filters\n",
    "class Lin2d(nn.Module):\n",
    "    # rotation dymnamics\n",
    "    def __init__(self, x_dim, N, dt, init,\n",
    "                 window=None):\n",
    "        assert(x_dim == 2)\n",
    "        nn.Module.__init__(self)        \n",
    "        theta = np.pi / 100        \n",
    "        linM = torch.Tensor([[np.cos(theta),np.sin(theta)],\n",
    "                             [-np.sin(theta),np.cos(theta)]])\n",
    "        self.linM = linM\n",
    "        self.linMt = linM.t()\n",
    "        self.x_dim = x_dim\n",
    "        self.N = N\n",
    "        \n",
    "    def forward(self, x):\n",
    "        for _ in range(self.N):            \n",
    "            x = torch.matmul(x, self.linMt)\n",
    "        return x"
   ]
  },
  {
   "cell_type": "code",
   "execution_count": 22,
   "id": "c93cad1b",
   "metadata": {},
   "outputs": [
    {
     "name": "stdout",
     "output_type": "stream",
     "text": [
      "empirical mean of x0 is tensor([2.9886, 2.9991])\n"
     ]
    },
    {
     "data": {
      "text/plain": [
       "(-4.0, 4.0)"
      ]
     },
     "execution_count": 22,
     "metadata": {},
     "output_type": "execute_result"
    },
    {
     "data": {
      "image/png": "[encoded data removed]",
      "text/plain": [
       "<Figure size 640x480 with 1 Axes>"
      ]
     },
     "metadata": {},
     "output_type": "display_data"
    }
   ],
   "source": [
    "train_kwargs = exp_params['train_kwargs']\n",
    "prop_kwargs = exp_params['prop_kwargs']\n",
    "obs_kwargs = exp_params['obs_kwargs']\n",
    "prop = ConstructorProp(**prop_kwargs)\n",
    "obs = ConstructorObs(**obs_kwargs)\n",
    "\n",
    "b_size = 2 # train_kwargs['b_size']\n",
    "h_dim = train_kwargs['h_dim']\n",
    "x_dim = train_kwargs['x_dim']\n",
    "T = 50 # train_kwargs['T']\n",
    "\n",
    "sigma = exp_params['sigma0']\n",
    "x0 = get_x0(b_size, x_dim, sigma)\n",
    "xt = [None]\n",
    "yt = [None]\n",
    "x = x0\n",
    "\n",
    "# PLOT first trajectory\n",
    "sample_idx = 0\n",
    "plt.plot(x0[sample_idx,0].item(),x0[sample_idx,1].item(),'r.')\n",
    "for t in range(1,T+1):\n",
    "    x = prop(x)\\\n",
    "            .sample(sample_shape=torch.Size([1]))\\\n",
    "            .squeeze(0)\n",
    "    y = obs(x)\\\n",
    "            .sample(sample_shape=torch.Size([1]))\\\n",
    "            .squeeze(0)\n",
    "    xt.append(x)\n",
    "    yt.append(y)\n",
    "    plt.plot(y[sample_idx,0].item(),y[sample_idx,1].item(),'bo')\n",
    "    plt.plot(x[sample_idx,0].item(),x[sample_idx,1].item(),'r.')\n",
    "\n",
    "plt.legend(['true','obs'])\n",
    "print('empirical mean of x0 is', torch.mean(x0,0))\n",
    "plt.xlim([2,5])\n",
    "plt.ylim([-4,4])"
   ]
  },
  {
   "cell_type": "code",
   "execution_count": 24,
   "id": "5551bad3",
   "metadata": {},
   "outputs": [
    {
     "data": {
      "text/plain": [
       "(-4.0, 4.0)"
      ]
     },
     "execution_count": 24,
     "metadata": {},
     "output_type": "execute_result"
    },
    {
     "data": {
      "image/png": "[encoded data removed]",
      "text/plain": [
       "<Figure size 640x480 with 1 Axes>"
      ]
     },
     "metadata": {},
     "output_type": "display_data"
    }
   ],
   "source": [
    "# PLOT second trajectory\n",
    "sample_idx = 1\n",
    "plt.plot(x0[sample_idx,0].item(),x0[sample_idx,1].item(),'r.')\n",
    "for t in range(1,T+1):\n",
    "    x = xt[t]\n",
    "    y = yt[t]\n",
    "    plt.plot(y[sample_idx,0].item(),y[sample_idx,1].item(),'bo')\n",
    "    plt.plot(x[sample_idx,0].item(),x[sample_idx,1].item(),'r.')\n",
    "\n",
    "plt.legend(['true','obs'])\n",
    "plt.xlim([2,5])\n",
    "plt.ylim([-4,4])"
   ]
  },
  {
   "cell_type": "code",
   "execution_count": null,
   "id": "4dac8a12",
   "metadata": {},
   "outputs": [],
   "source": []
  }
 ],
 "metadata": {
  "kernelspec": {
   "display_name": "Python 3 (ipykernel)",
   "language": "python",
   "name": "python3"
  },
  "language_info": {
   "codemirror_mode": {
    "name": "ipython",
    "version": 3
   },
   "file_extension": ".py",
   "mimetype": "text/x-python",
   "name": "python",
   "nbconvert_exporter": "python",
   "pygments_lexer": "ipython3",
   "version": "3.11.5"
  }
 },
 "nbformat": 4,
 "nbformat_minor": 5
}
