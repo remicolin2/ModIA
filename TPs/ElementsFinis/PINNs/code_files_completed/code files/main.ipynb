{
 "cells": [
  {
   "cell_type": "markdown",
   "id": "f8098d20-9888-47f8-9ea9-44e04e804bed",
   "metadata": {},
   "source": [
    "# Libraries and modules imports"
   ]
  },
  {
   "cell_type": "code",
   "execution_count": null,
   "id": "f2414d5f-effb-4d27-8492-ea52fcb6939d",
   "metadata": {
    "tags": []
   },
   "outputs": [],
   "source": [
    "import torch \n",
    "print('Pytorch version :', torch.__version__)\n",
    "\n",
    "from Class_PINN import PINN\n",
    "from Class_Inputs import Inputs\n",
    "from Backwater_model import J, compute_ref_solution\n",
    "import display"
   ]
  },
  {
   "cell_type": "markdown",
   "id": "3be0ec4c-ec55-4e0b-9fa9-479e5072a832",
   "metadata": {},
   "source": [
    "# Cuda setup"
   ]
  },
  {
   "cell_type": "code",
   "execution_count": null,
   "id": "04c09e9b-21ca-4d8c-864e-93b3c7174328",
   "metadata": {},
   "outputs": [],
   "source": [
    "# Device choice\n",
    "use_GPU = True #Choose whether you want to use your GPU or not\n",
    "\n",
    "if (torch.cuda.is_available() and use_GPU):\n",
    "    device = torch.device('cuda')\n",
    "else:\n",
    "    device = torch.device('cpu')\n",
    "\n",
    "print(f'Running on {device} !')\n",
    "\n",
    "#Additional info when using cuda\n",
    "if (device.type == 'cuda'):\n",
    "    print('GPU :', torch.cuda.get_device_name(0))\n",
    "    print('Total memory :', \n",
    "          round(torch.cuda.get_device_properties(0).total_memory/1024**3, 1), 'GB')\n",
    "\n",
    "#Set default usage to CPU or GPU\n",
    "torch.set_default_device(device)"
   ]
  },
  {
   "cell_type": "markdown",
   "id": "4a102f0c-5b7f-4241-8c15-0d13da10cd2e",
   "metadata": {},
   "source": [
    "# $k$ definition"
   ]
  },
  {
   "cell_type": "code",
   "execution_count": null,
   "id": "84c8b4d3-044b-4ca8-899d-e19f7fdb7719",
   "metadata": {},
   "outputs": [],
   "source": [
    "k = torch.tensor([40, 30, 50]) #You can modify the value of k here !"
   ]
  },
  {
   "cell_type": "markdown",
   "id": "7cea9370-424d-4d37-ad46-8c0cd27b874f",
   "metadata": {},
   "source": [
    "# Inputs definition"
   ]
  },
  {
   "cell_type": "code",
   "execution_count": null,
   "id": "58b35136-ff85-4598-97ea-9eb5f0005110",
   "metadata": {
    "tags": []
   },
   "outputs": [],
   "source": [
    "inputs = Inputs(device, \n",
    "                variable_sampling = 'grid', #Choose between grid and random for the variable colocation points sampling\n",
    "                N_coloc_variable = 100, #Choose number of colocation points for the physical variable\n",
    "                variable_boundaries = (0, 1000), #Choose the boundaries of the domain\n",
    "                parametric = False, #Choose whether you want parmetric inputs or not\n",
    "                parameter_sampling = 'grid', #Choose between grid and random for the parameter colocation points sampling\n",
    "                N_coloc_parameter = 10, #Choose number of colocation points for the parameter (careful, if parameter_sampling == 'grid', it will be at the power of the parameter dimension !)\n",
    "                parameter_boundaries = (20, 80), #Choose the boundaries of the domain\n",
    "                parameter_dim = k.shape[0], #Choose the dimension of your parameter here\n",
    "                test_size = 0, #Choose the testing set / training set ratio\n",
    "                seed = 0) #Set the seed to any integer number for reproductible randomness"
   ]
  },
  {
   "cell_type": "markdown",
   "id": "f87959f0-12d6-42e9-bcd6-014048e7f636",
   "metadata": {},
   "source": [
    "# PINN definition"
   ]
  },
  {
   "cell_type": "code",
   "execution_count": null,
   "id": "7f8770fc-01c6-4f1f-8cdd-95532aeb664c",
   "metadata": {
    "tags": []
   },
   "outputs": [],
   "source": [
    "model = PINN(device, inputs = inputs, k = k,\n",
    "             layers = [1, 60, 60, 60, 1], #Choose the neural network architecture\n",
    "             k_interpolation = 'P0', #Choose the interpolation method for the k function (P1 or P0)\n",
    "             seed = 0) #Set the seed to any integer number for reproductible randomness"
   ]
  },
  {
   "cell_type": "markdown",
   "id": "7bbccd2e-50e4-48b1-966b-1d4dd3863d6a",
   "metadata": {},
   "source": [
    "# Reference solution generation"
   ]
  },
  {
   "cell_type": "code",
   "execution_count": null,
   "id": "f1178a33-ccc3-4305-aafa-1545c7285a43",
   "metadata": {
    "tags": []
   },
   "outputs": [],
   "source": [
    "ref_solution = compute_ref_solution(model, inputs, k = k, dx = 10) \n",
    "\n",
    "display.display_reference_solution(model, inputs, ref_solution) "
   ]
  },
  {
   "cell_type": "markdown",
   "id": "9d9dbf53-4555-4947-9351-612d8758b35b",
   "metadata": {},
   "source": [
    "# Model training "
   ]
  },
  {
   "cell_type": "code",
   "execution_count": null,
   "id": "02af6d95-7810-48b3-9976-9f2d15f33827",
   "metadata": {
    "tags": []
   },
   "outputs": [],
   "source": [
    "model.train_model(J, inputs, ref_solution, \n",
    "                  normalize_J = True, #Choose whether you want to normalize J by J_0 or not\n",
    "                  pre_train_iter = 100, #Choose the number of iterations for pre-training\n",
    "                  renormalize_J = False, #Choose whether you want to renormalize J after pre-training or not\n",
    "                  offline_iter = 1000, #Choose the number of iterations for the offline training\n",
    "                  display_freq = (50, 100)) #Choose the display frequency for the training informations (first value) and the results plot (second value)"
   ]
  },
  {
   "cell_type": "markdown",
   "id": "59ea7da2-45f1-468c-a69b-c463bb884648",
   "metadata": {},
   "source": [
    "# Display training and results"
   ]
  },
  {
   "cell_type": "code",
   "execution_count": null,
   "id": "240f683d-902b-42e5-b5fa-846dd8343d08",
   "metadata": {
    "tags": []
   },
   "outputs": [],
   "source": [
    "display.display_training(model, inputs, ref_solution)\n",
    "\n",
    "display.display_results(model, inputs, ref_solution, plot_coloc = True)"
   ]
  }
 ],
 "metadata": {
  "kernelspec": {
   "display_name": "Python 3 (ipykernel)",
   "language": "python",
   "name": "python3"
  },
  "language_info": {
   "codemirror_mode": {
    "name": "ipython",
    "version": 3
   },
   "file_extension": ".py",
   "mimetype": "text/x-python",
   "name": "python",
   "nbconvert_exporter": "python",
   "pygments_lexer": "ipython3",
   "version": "3.10.9"
  }
 },
 "nbformat": 4,
 "nbformat_minor": 5
}
