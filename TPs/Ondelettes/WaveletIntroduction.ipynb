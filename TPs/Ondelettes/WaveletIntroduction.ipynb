{
 "cells": [
  {
   "cell_type": "markdown",
   "metadata": {},
   "source": [
    "# An Introduction to wavelets "
   ]
  },
  {
   "cell_type": "markdown",
   "metadata": {},
   "source": [
    "by Charles Dossal"
   ]
  },
  {
   "cell_type": "code",
   "execution_count": null,
   "metadata": {
    "hideCode": true
   },
   "outputs": [],
   "source": [
    "import numpy as np\n",
    "import scipy as scp\n",
    "import pylab as pyl\n",
    "import matplotlib.pyplot as plt\n",
    "import pywt\n",
    "import scipy.io as sio\n",
    "import pandas as pd\n",
    "import holoviews as hv\n",
    "hv.extension('bokeh')\n",
    "import param\n",
    "import panel as pn\n",
    "import requests\n",
    "from io import BytesIO\n",
    "from PIL import Image\n",
    "import shutil\n",
    "from scipy import fftpack\n",
    "from scipy.io.wavfile import read\n",
    "from IPython.display import Audio\n",
    "from urllib.request import urlopen\n",
    "import io\n",
    "from scipy.io.wavfile import read\n",
    "import scipy.io as sio"
   ]
  },
  {
   "cell_type": "code",
   "execution_count": null,
   "metadata": {
    "hideCode": true
   },
   "outputs": [],
   "source": [
    "local=0\n",
    "def chargeData(name):\n",
    "    if local:\n",
    "        if name=='Lenna':\n",
    "            res=np.array(Image.open(\"./Archive/img/Lenna.jpg\")).astype(float)\n",
    "        if name=='Canaletto':\n",
    "            res=np.array(Image.open(\"./Archive/img/Canaletto.jpeg\")).astype(float)\n",
    "        if name=='Minotaure':\n",
    "            res=np.array(Image.open(\"./Archive/img/MinotaureBruite.jpeg\")).astype(float)   \n",
    "        if name=='Cartoon':\n",
    "            res=np.array(Image.open(\"./Archive/img/Cartoon.jpg\")).astype(float) \n",
    "        if name=='Croco1':\n",
    "            res=np.array(Image.open(\"CrocoOriginal.png\")).astype(float) \n",
    "        if name=='Croco2':\n",
    "            res=np.array(Image.open(\"CrocoDebruit.png\")).astype(float) \n",
    "        if name=='Monument':\n",
    "            res=np.array(Image.open(\"Monument.png\")).astype(float) \n",
    "        if name=='Monument2':\n",
    "            res=np.array(Image.open(\"Ondlev1.png\")).astype(float) \n",
    "        if name=='Monument3':\n",
    "            res=np.array(Image.open(\"Ondlev2.png\")).astype(float) \n",
    "        if name=='Monument4':\n",
    "            res=np.array(Image.open(\"Ondlev3.png\")).astype(float) \n",
    "        if name=='avion':\n",
    "            res=np.array(Image.open(\"TestImageOndelettes.png\")).astype(float) \n",
    "        if name=='avion2':\n",
    "            res=np.array(Image.open(\"TestImageOndelettesNette.png\")).astype(float) \n",
    "        if name=='LennaMasked':\n",
    "            res=np.array(Image.open(\"LennaMasked50.png\")).astype(float) \n",
    "        if name=='LennaInpainted':\n",
    "            res=np.array(Image.open(\"LennaInpainted50.png\")).astype(float) \n",
    "    else:\n",
    "        if name=='Lenna':\n",
    "            url='https://plmlab.math.cnrs.fr/dossal/optimisationpourlimage/raw/master/img/Lenna.jpg'        \n",
    "            response = requests.get(url)\n",
    "            res=np.array(Image.open(BytesIO(response.content))).astype(float)\n",
    "        if name=='Canaletto':\n",
    "            url='https://plmlab.math.cnrs.fr/dossal/optimisationpourlimage/raw/master/img/Canaletto.jpeg'\n",
    "            response = requests.get(url)\n",
    "            res=np.array(Image.open(BytesIO(response.content))).astype(float)\n",
    "        if name=='Minotaure':\n",
    "            url='https://plmlab.math.cnrs.fr/dossal/optimisationpourlimage/raw/master/img/MinotaureBruite.jpeg'\n",
    "            response = requests.get(url)\n",
    "            res=np.array(Image.open(BytesIO(response.content))).astype(float)\n",
    "        if name=='Cartoon':\n",
    "            url='https://plmlab.math.cnrs.fr/dossal/optimisationpourlimage/raw/master/img/Cartoon.jpg'        \n",
    "            response = requests.get(url)\n",
    "            res=np.array(Image.open(BytesIO(response.content))).astype(float)\n",
    "        if name=='Monument':\n",
    "            url='https://plmlab.math.cnrs.fr/dossal/optimisationpourlimage/raw/master/img/Monument.png'        \n",
    "            response = requests.get(url)\n",
    "            res=np.array(Image.open(BytesIO(response.content))).astype(float)\n",
    "        if name=='Monument2':\n",
    "            url='https://plmlab.math.cnrs.fr/dossal/optimisationpourlimage/raw/master/img/Ondlev1.png'        \n",
    "            response = requests.get(url)\n",
    "            res=np.array(Image.open(BytesIO(response.content))).astype(float)\n",
    "        if name=='Monument3':\n",
    "            url='https://plmlab.math.cnrs.fr/dossal/optimisationpourlimage/raw/master/img/Ondlev2.png'        \n",
    "            response = requests.get(url)\n",
    "            res=np.array(Image.open(BytesIO(response.content))).astype(float)\n",
    "        if name=='Monument4':\n",
    "            url='https://plmlab.math.cnrs.fr/dossal/optimisationpourlimage/raw/master/img/Ondlev3.png'        \n",
    "            response = requests.get(url)\n",
    "            res=np.array(Image.open(BytesIO(response.content))).astype(float)\n",
    "        if name=='Croco1':\n",
    "            url='https://plmlab.math.cnrs.fr/dossal/optimisationpourlimage/raw/master/img/CrocoOriginal.png'        \n",
    "            response = requests.get(url)\n",
    "            res=np.array(Image.open(BytesIO(response.content))).astype(float)\n",
    "        if name=='Croco2':\n",
    "            url='https://plmlab.math.cnrs.fr/dossal/optimisationpourlimage/raw/master/img/CrocoDebruit.png'        \n",
    "            response = requests.get(url)\n",
    "            res=np.array(Image.open(BytesIO(response.content))).astype(float)\n",
    "        if name=='avion':\n",
    "            url='https://plmlab.math.cnrs.fr/dossal/optimisationpourlimage/raw/master/img/TestImageOndelettes.png'        \n",
    "            response = requests.get(url)\n",
    "            res=np.array(Image.open(BytesIO(response.content))).astype(float)\n",
    "        if name=='avion2':\n",
    "            url='https://plmlab.math.cnrs.fr/dossal/optimisationpourlimage/raw/master/img/TestImageOndelettesNette.png'        \n",
    "            response = requests.get(url)\n",
    "            res=np.array(Image.open(BytesIO(response.content))).astype(float)\n",
    "        if name=='LennaMasked':\n",
    "            url='https://plmlab.math.cnrs.fr/dossal/optimisationpourlimage/raw/master/img/LennaMasked50.png'        \n",
    "            response = requests.get(url)\n",
    "            res=np.array(Image.open(BytesIO(response.content))).astype(float)\n",
    "        if name=='LennaInpainted':\n",
    "            url='https://plmlab.math.cnrs.fr/dossal/optimisationpourlimage/raw/master/img/LennaInpainted50.png'        \n",
    "            response = requests.get(url)\n",
    "            res=np.array(Image.open(BytesIO(response.content))).astype(float)\n",
    "    return res\n",
    "options1=dict(width=400,height=400,xaxis=None,yaxis=None,toolbar=None)\n",
    "options2=dict(width=800,height=400,xaxis=None,yaxis=None,toolbar=None)"
   ]
  },
  {
   "cell_type": "code",
   "execution_count": null,
   "metadata": {},
   "outputs": [],
   "source": []
  },
  {
   "cell_type": "code",
   "execution_count": null,
   "metadata": {
    "hideCode": false
   },
   "outputs": [],
   "source": [
    "\n",
    "if local:\n",
    "    S3=np.load('Piece.npy')\n",
    "    S4=np.load('Blocks.npy')   \n",
    "else:\n",
    "    url='https://plmlab.math.cnrs.fr/dossal/optimisationpourlimage/raw/master/img/Blocks.npy'\n",
    "    response = requests.get(url, stream=True)\n",
    "    with open('blocks.npy', 'wb') as fin:\n",
    "        shutil.copyfileobj(response.raw, fin)\n",
    "    S4=res=np.load('blocks.npy')\n",
    "    url='https://plmlab.math.cnrs.fr/dossal/optimisationpourlimage/raw/master/img/Piece.npy'\n",
    "    response = requests.get(url, stream=True)\n",
    "    with open('piece.npy', 'wb') as fin:\n",
    "        shutil.copyfileobj(response.raw, fin)\n",
    "    S3=res=np.load('piece.npy')\n",
    "#pn.Row(hv.Curve(S3).opts(width=450),hv.Curve(S4).opts(width=450))"
   ]
  },
  {
   "cell_type": "markdown",
   "metadata": {},
   "source": [
    "## The power of the Fourier Transform and its limits."
   ]
  },
  {
   "cell_type": "markdown",
   "metadata": {},
   "source": [
    "The Fourier analysis allow the decomposition of a function, a vector, an image as a linear combination of complex exponential. If $f\\in L^2(\\mathbb{R})$, this combination is infinite and if $f$ is a vector of $\\mathbb{R}^N$, the combination contains $N$ terms. Each Fourier coefficient $c_n(f)$ of $\\hat f[k]$ can be seen as a coefficient in this decomposition. The power of the Fourier analysis is that most functions and all vectors can be written as such linear combinations. Hence, most functions can be described by its sequence of Fourier coefficients. \n",
    "\n",
    "Unfortunalty linear combinations with a huge number of terms are practically useless. In many practical problems, we would prefer an approximation of $f$ with a small number of coefficients, even if the price to pay is an approximation error. It turns out that some functions can be well approximated using a Fourier Transform. More precisely, the more a function is regular, i.e. the more continuous derivative it has, the best the approximations are. This qualitative remark can be stated theorically with the following Theorem\n",
    "\n",
    "\\begin{theorem}\n",
    "If $f$ has $p$ continuous derivative, the linear approximation error in the Fourier domain decays at least as fast as $\\frac{1}{N^{2p+1}}$, i.e. it exists $C>0$ \n",
    "\\begin{equation}\n",
    "\\Vert f-\\sum_{k=-N}^Nc_{k}(f)e^{ik\\cdot}\\Vert^2\\leqslant \\frac{C}{N^{2p+1}}\n",
    "\\end{equation}\n",
    "\\end{theorem}\n",
    "The decay of the error as a function of the number of terms in the Fourier approximation highly depends on the number of continuous derivative $f$ have. \n",
    "Indeed if $f$ is infinitly derivable, the Fourier approximations fits very well and there is no need to consider further analysis. But if $f$ has a single discontinuity, the approximation abilities of the Fourier transform vanishe and many terms are necessary to provide a fair approximation of $f$. \n",
    "\n",
    "Indeed what is true for functions is also true for vectors : if a vector $v$ is a discrtisation of a smooth function $f$, good Fourier approximations of $v$ can be found with a small number of coefficients. If $v$ can be seen as a discretization of discontinuous function $f$, more coefficients are needed to provide a fair approximation of $v$. \n",
    "\n",
    "This observation leads ingeneers in the early 80s to divide the images into squares of $8\\times 8$ pixels before the computation of a Fourier analysis to define the Jpeg standart. On most small $8\\times 8$ images, there is no discontinuity of the luminance level and the Fourier tranform may provide an efficient representation of images.\n",
    "\n",
    "A global Fourier transform over the whole image would have fail to produce an efficient compression algorithm because of the numerous discontinuities of the luminance at the border of each object. \n",
    "\n",
    "Indeed, natural images can't be considered as smooth functions but most of them can be approximated by piecewise smooth. The question arising is : Is there any way to provide an efficient representation of piecewise smooth functions ? The answer is : Yes, using wavelets."
   ]
  },
  {
   "cell_type": "code",
   "execution_count": null,
   "metadata": {
    "hideCode": true
   },
   "outputs": [],
   "source": [
    "S4=res=np.load('blocks.npy')\n",
    "S3=res=np.load('piece.npy')\n",
    "Fe=44100\n",
    "SonGuitare=\"Guitare.wav\"\n",
    "gui=read(SonGuitare)\n",
    "guit=gui[1]/2**14\n",
    "Audio(guit, rate=Fe)\n"
   ]
  },
  {
   "cell_type": "code",
   "execution_count": null,
   "metadata": {
    "hideCode": true
   },
   "outputs": [],
   "source": [
    "Saxo=sio.loadmat('Saxo.mat')\n",
    "Saxo1=Saxo['S']\n",
    "Saxo2=Saxo['S1']\n",
    "temp=np.zeros(913)\n",
    "for k in range(0,913):\n",
    "    temp[k]=Saxo2[k]\n",
    "Saxo2=temp\n",
    "N1=int(len(Saxo1)/3)\n",
    "temp=np.zeros(N1)\n",
    "for k in range(0,N1):\n",
    "    temp[k]=Saxo1[k]\n",
    "sax=temp\n",
    "d2=64000+29\n",
    "Ext=sax[d2:d2+1462]\n",
    "d2=64000\n",
    "Ext2=guit[d2:d2+1500]\n",
    "Audio(sax, rate=Fe)"
   ]
  },
  {
   "cell_type": "code",
   "execution_count": null,
   "metadata": {
    "hideCode": true
   },
   "outputs": [],
   "source": [
    "def SommePartielle(f,m):\n",
    "    Nf=np.size(f)\n",
    "    temp=fftpack.fft(f)\n",
    "    for k in range(m+1,Nf-m):\n",
    "        temp[k]=0\n",
    "    temp2=fftpack.ifft(temp)\n",
    "    S=np.real(temp2)\n",
    "    return S\n",
    "signauxRef2= {\"Piece\" : S3,\"Blocks\" : S4,\"Guitare\" : Ext2,\"Saxo\" : Ext}\n",
    "def ApproxFourier2(s,n):\n",
    "    N=np.shape(s)[0]\n",
    "    fs=fftpack.fft(s)\n",
    "    afs=np.abs(fs)\n",
    "    temp=np.argsort(afs)\n",
    "    fsrec=fs*0\n",
    "    fig=hv.Curve(s)\n",
    "    for k in np.arange(1,2*n+1):\n",
    "        fsrec[temp[N-k]]=fs[temp[N-k]]\n",
    "        if np.mod(k+1,2)<1:\n",
    "            ftemp=0*fs\n",
    "            ftemp[temp[N-k]]=fs[temp[N-k]]\n",
    "            sin=2*np.real(fftpack.ifft(ftemp))\n",
    "            if k<2:\n",
    "                fig=hv.Curve(sin)\n",
    "            else:\n",
    "                fig=fig*hv.Curve(sin)\n",
    "    fapprox=np.real(fftpack.ifft(fsrec))\n",
    "    return fapprox,fsrec,fig\n",
    "class ApproxFourier(param.Parameterized):\n",
    "    signal = param.ObjectSelector(default=\"Guitare\",objects=signauxRef2.keys())\n",
    "    N = param.Integer(20,bounds=(1,200))\n",
    "    def view(self):\n",
    "        s=signauxRef2[self.signal]\n",
    "        options = dict(width=800,height=250,toolbar=None,xaxis=None,yaxis=None)\n",
    "        fsrec=SommePartielle(s,self.N)\n",
    "        strN=\"%2.0f\" % self.N\n",
    "        text=hv.Text(50,150,'Nombre de coefficients= '+strN+' sur 750').opts(**options).opts(fontsize=30)\n",
    "        return pn.Column(hv.Curve(s).opts(**options)*\n",
    "                         hv.Curve(fsrec).opts(color='red').opts(**options))"
   ]
  },
  {
   "cell_type": "code",
   "execution_count": null,
   "metadata": {
    "scrolled": true
   },
   "outputs": [],
   "source": [
    "Af= ApproxFourier()\n",
    "pn.Column(Af.param,Af.view)"
   ]
  },
  {
   "cell_type": "markdown",
   "metadata": {},
   "source": [
    "# Wavelet analysis."
   ]
  },
  {
   "cell_type": "markdown",
   "metadata": {},
   "source": [
    "## Lazy Wavelet schemes."
   ]
  },
  {
   "cell_type": "markdown",
   "metadata": {},
   "source": [
    "Wavelets are functions that are able to provide efficient representations of piecewise smooth functions. In this course we will focus on orthogonal wavelet bases but the wavelet theory is indeed much extensive, including for instance the continuous wavelet transform. \n",
    "\n",
    "There exists many wavelet bases and on this course we will start with Haar wavelets and then we will study other bazses such like Daubechies Wavelets and Coifmann wavelets. It is impossible to cite all mathematician who contribute to wavelets but we can mention \n",
    "\n",
    "Ingrid Daubechies : https://en.wikipedia.org/wiki/Ingrid_Daubechies\n",
    "\n",
    "Ronald Coifmann : https://fr.wikipedia.org/wiki/Ronald_Coifman\n",
    "\n",
    "who gave their name to usefull wavelet bases and \n",
    "\n",
    "Yves Meyer : https://fr.wikipedia.org/wiki/Yves_Meyer\n",
    "\n",
    "Stéphane Mallat : https://fr.wikipedia.org/wiki/Stéphane_Mallat\n",
    "\n",
    "who proved together the main Theorem of the wavelet theory giving a sufficient and necessary condition ensuring a function can provide an orthognal wavelet basis.\n",
    "This four mathematicians are already active. The two last were my teachers and Stephane Mallat who is now Professor at \"The College de France\" where he teaches Data Sciences and is a member of the \"Académie des sciences\" was my PhD advisor.\n"
   ]
  },
  {
   "cell_type": "code",
   "execution_count": null,
   "metadata": {
    "hideCode": true
   },
   "outputs": [],
   "source": [
    "def Ond(N,qmf,scale,k):\n",
    "    Lmax=pywt.dwt_max_level(N,pywt.Wavelet(qmf).dec_len)\n",
    "    L=min(scale,Lmax)\n",
    "    Ne=int(np.floor(N/2**L))\n",
    "    #k=int(np.floor(Ne*pos))\n",
    "    temp=np.zeros(N)\n",
    "    WT= pywt.wavedecn(temp, qmf, mode='per', level=L)\n",
    "    arr, coeff_slices = pywt.coeffs_to_array(WT)\n",
    "    temp[k+Ne]=1\n",
    "    coeffs_from_arr = pywt.array_to_coeffs(temp, coeff_slices)\n",
    "    Psi=pywt.waverecn(coeffs_from_arr,qmf,mode='per')\n",
    "    return Psi\n",
    "def FoncEchel(N,qmf,scale,k):\n",
    "    Lmax=pywt.dwt_max_level(N,pywt.Wavelet(qmf).dec_len)\n",
    "    L=min(scale,Lmax)\n",
    "    Ne=int(np.floor(N/2**L))\n",
    "    #k=int(np.floor(Ne*pos))\n",
    "    temp=np.zeros(N)\n",
    "    WT= pywt.wavedecn(temp, qmf, mode='per', level=L)\n",
    "    arr, coeff_slices = pywt.coeffs_to_array(WT)\n",
    "    temp[k]=1\n",
    "    coeffs_from_arr = pywt.array_to_coeffs(temp, coeff_slices)\n",
    "    Phi=pywt.waverecn(coeffs_from_arr,qmf,mode='per')\n",
    "    return Phi\n",
    "def VisuFoncEchel(N,qmf,scale,pos):\n",
    "    Lmax=pywt.dwt_max_level(N,pywt.Wavelet(qmf).dec_len)\n",
    "    L=min(scale,Lmax)\n",
    "    Ne=int(np.floor(N/2**L))\n",
    "    k=int(np.floor(Ne*pos))\n",
    "    temp=np.zeros(N)\n",
    "    WT= pywt.wavedecn(temp, qmf, mode='per', level=L)\n",
    "    arr, coeff_slices = pywt.coeffs_to_array(WT)\n",
    "    temp[k]=1\n",
    "    coeffs_from_arr = pywt.array_to_coeffs(temp, coeff_slices)\n",
    "    Phi=pywt.waverecn(coeffs_from_arr,qmf,mode='per')\n",
    "    return hv.Curve(Phi).options(width=600)\n",
    "def VisuFoncEchel(N,qmf,scale,pos):\n",
    "    Lmax=pywt.dwt_max_level(N,pywt.Wavelet(qmf).dec_len)\n",
    "    L=min(scale,Lmax)\n",
    "    Ne=int(np.floor(N/2**L))\n",
    "    k=int(np.floor(Ne*pos))\n",
    "    temp=np.zeros(N)\n",
    "    WT= pywt.wavedecn(temp, qmf, mode='per', level=L)\n",
    "    arr, coeff_slices = pywt.coeffs_to_array(WT)\n",
    "    temp[k]=1\n",
    "    coeffs_from_arr = pywt.array_to_coeffs(temp, coeff_slices)\n",
    "    Phi=pywt.waverecn(coeffs_from_arr,qmf,mode='per')\n",
    "    return hv.Curve(Phi).options(width=600)\n",
    "\n",
    "def VisuOnd(N,qmf,scale,pos):\n",
    "    Lmax=pywt.dwt_max_level(N,pywt.Wavelet(qmf).dec_len)\n",
    "    L=min(scale,Lmax)\n",
    "    Ne=int(np.floor(N/2**L))\n",
    "    k=int(np.floor(Ne*pos))\n",
    "    temp=np.zeros(N)\n",
    "    WT= pywt.wavedecn(temp, qmf, mode='per', level=L)\n",
    "    arr, coeff_slices = pywt.coeffs_to_array(WT)\n",
    "    temp[k+Ne]=1\n",
    "    coeffs_from_arr = pywt.array_to_coeffs(temp, coeff_slices)\n",
    "    Phi=pywt.waverecn(coeffs_from_arr,qmf,mode='per')\n",
    "    return pn.Row(hv.Curve(Phi).options(width=600))\n",
    "def ApproxLin(S,qmf,scale):\n",
    "    # Approximation linéaire dans une base d'ondelettes. l'ondelette est spécifiée par la str qmf \n",
    "    # L'approximation est une projection sur l'espace V_j de dimension 2^scale. \n",
    "    N1=len(S)\n",
    "    Lmax=pywt.dwt_max_level(len(S),pywt.Wavelet(qmf).dec_len)\n",
    "    WT= pywt.wavedecn(S, qmf, mode='per', level=Lmax)\n",
    "    arr, coeff_slices = pywt.coeffs_to_array(WT)\n",
    "    temp=np.zeros(N1)\n",
    "    temp[0:2**scale]=arr[0:2**scale]\n",
    "    Wtemp = pywt.array_to_coeffs(temp, coeff_slices)\n",
    "    Srec=pywt.waverecn(Wtemp,qmf,mode='per')\n",
    "    barres=hv.VLine(N1/2-0.5).options(color='black',line_width=1)\n",
    "    LN=int(np.floor(np.log2(N1)))\n",
    "    for k in np.arange(LN-Lmax,LN):\n",
    "        barres=barres*hv.VLine(2**k-0.5).options(color='black',line_width=1)\n",
    "    return pn.Column(hv.Curve(S)*hv.Curve(Srec).options(color='red',width=600)\\\n",
    "                     ,hv.Curve(arr)*hv.Curve(temp).options(color='red',width=600)*barres)\n",
    "def ApproxLinSimple(S,qmf,scale):\n",
    "    # Approximation linéaire dans une base d'ondelettes. l'ondelette est spécifiée par la str qmf \n",
    "    # L'approximation est une projection sur l'espace V_j de dimension 2^scale. \n",
    "    N1=len(S)\n",
    "    Lmax=pywt.dwt_max_level(len(S),pywt.Wavelet(qmf).dec_len)\n",
    "    WT= pywt.wavedecn(S, qmf, mode='per', level=Lmax)\n",
    "    arr, coeff_slices = pywt.coeffs_to_array(WT)\n",
    "    temp=np.zeros(N1)\n",
    "    temp[0:2**scale]=arr[0:2**scale]\n",
    "    Wtemp = pywt.array_to_coeffs(temp, coeff_slices)\n",
    "    Srec=pywt.waverecn(Wtemp,qmf,mode='per')\n",
    "    return Srec\n",
    "\n",
    "def ApproxOnd1D(S,qmf,L,T):\n",
    "    Lmax=pywt.dwt_max_level(len(S),pywt.Wavelet(qmf).dec_len)\n",
    "    L1=min(L,Lmax)\n",
    "    WT= pywt.wavedecn(S, qmf, mode='per', level=L1)\n",
    "    arr, coeff_slices = pywt.coeffs_to_array(WT)\n",
    "    WTS=arr*(np.abs(arr)>T)\n",
    "    coeffs_from_arr = pywt.array_to_coeffs(WTS, coeff_slices)\n",
    "    Srec=pywt.waverecn(coeffs_from_arr,qmf,mode='per')\n",
    "    return Srec\n",
    "def ApproxOnd1Dv2(S,qmf,L,N):\n",
    "    N1=len(S)\n",
    "    Lmax=pywt.dwt_max_level(len(S),pywt.Wavelet(qmf).dec_len)\n",
    "    L1=min(L,Lmax)\n",
    "    WT= pywt.wavedecn(S, qmf, mode='per', level=L1)\n",
    "    arr, coeff_slices = pywt.coeffs_to_array(WT)\n",
    "    Ind=np.argsort(np.abs(arr))\n",
    "    WTS=np.zeros(N1)\n",
    "    WTS[Ind[N1-N:N1]]=arr[Ind[N1-N:N1]]\n",
    "    coeffs_from_arr = pywt.array_to_coeffs(WTS, coeff_slices)\n",
    "    Srec=pywt.waverecn(coeffs_from_arr,qmf,mode='per')\n",
    "    return Srec\n",
    "wavelist = ['haar','db2','db3','db4','coif1','coif2','coif3','sym2','sym3']\n",
    "class VisuPhi(param.Parameterized):\n",
    "    wave = param.ObjectSelector(default=\"haar\",objects=wavelist)\n",
    "    scale = param.Integer(12,bounds=(0,15))\n",
    "    pos = param.Number(0.5,bounds=(0,0.95))\n",
    "    #T = param.Number(1,bounds=(1,100))\n",
    "    #@param.depends('wave', 'T', 'L')\n",
    "    def view(self):\n",
    "        N=2**15\n",
    "        Affich=VisuFoncEchel(N,self.wave,self.scale,self.pos)\n",
    "        return Affich\n",
    "class VisuPsi(param.Parameterized):\n",
    "    wave = param.ObjectSelector(default=\"haar\",objects=wavelist)\n",
    "    scale = param.Integer(12,bounds=(0,15))\n",
    "    pos = param.Number(0.5,bounds=(0,0.95))\n",
    "    #T = param.Number(1,bounds=(1,100))\n",
    "    #@param.depends('wave', 'T', 'L')\n",
    "    def view(self):\n",
    "        N=2**15\n",
    "        Affich=VisuOnd(N,self.wave,self.scale,self.pos)\n",
    "        return Affich"
   ]
  },
  {
   "cell_type": "markdown",
   "metadata": {},
   "source": [
    "Before giving examples of wavelets or wavelet transform, we can give the specific point of view of wavelets on signal and image processing. Where the Fourier analysis propose a decomposition of a signal into various frequences, the wavelet analysis decompose a signal into various scales. The wavelet analysis is a coarse to fine analysis. \n",
    "Functions are approximated at several scales and the wavelets coefficients contain the informations necessary to go from a coarse resulution to finer resolutions. There are several small wavelets associated to a given scale (or resolution).\n",
    "Each wavelet basis is defined by a mother wavelet and all functions (actually nearly all) of the basis are images of this mother wavelet by translation and scaling. All functions in a basis have the same shape, just like all complex exponential have the same shape with various frequencies. \n",
    "Each wavelet $\\psi_{j,k}$ in the basis is defined by two parameters (in 1D), one scale parameter denoted $j$ and one space parameter denoted $k$. Hence, each wavelet coefficient $\\langle f,\\psi_{j,k}\\rangle$ corresponds to a \"feature\" or a \"detail\" at a given scale and at a given position. "
   ]
  },
  {
   "cell_type": "markdown",
   "metadata": {
    "hideCode": false
   },
   "source": [
    "A Wavelet $\\Psi$ is a function defined in $L^2(\\mathbb{R})$ and a wavelet analysis consist on computing scalar products of a given function $f$ and functions $\\psi_{j,k}$ which are scaled and translated versions of $\\psi$. \n",
    "\n",
    "We will see that we can also define a wavelet analysis of vectors and images using a fast algorithm. \n",
    "\n",
    "Indeed, we can understand the philosophy of the discrete wavelet analysis of vectors and images without considering the continuous setting and in some way any technical mathematical tools at all via the so called \"Lazy wavelet transform\" :\n",
    "https://en.wikipedia.org/wiki/Generalized_lifting\n",
    "\n",
    "Let's suppose we have a vector $v\\in\\mathbb{R}^{1024}$ we want to compress, that is we want to propose an accurate approximation of $v$ with a small number of paramters. If the components of $v$ are redundant, it seems possible."
   ]
  },
  {
   "cell_type": "code",
   "execution_count": null,
   "metadata": {
    "hideCode": true
   },
   "outputs": [],
   "source": [
    "hv.Curve(S3).opts(width=900)"
   ]
  },
  {
   "cell_type": "markdown",
   "metadata": {},
   "source": [
    "A way to represent this vector into an efficient way is to provide a coarse version of $v$ that can be defined using only 512 coefficients and some detail informations using 512 coeffients that describe the difference between the original signal and this approximation (or coarse version). "
   ]
  },
  {
   "cell_type": "code",
   "execution_count": null,
   "metadata": {
    "hideCode": true
   },
   "outputs": [],
   "source": [
    "Srec=ApproxLinSimple(S3,'haar',9)\n",
    "hv.Curve(S3,label='Original Signal')*hv.Curve(Srec,label='Coarse approximation').opts(width=800)*hv.Curve(S3-Srec,label='Details')"
   ]
  },
  {
   "cell_type": "markdown",
   "metadata": {},
   "source": [
    "A lazy wavelet scheme is a numerical scheme that divide a vector $v\\in\\mathbb{R}^{2n}$ into a \"coarse approximation\" that can be described with $n$ real number and a \"detail vector\" that can be described by $n$ real numbers. The details contains the information necesseray to go back from the coarse approximation to the original vector. If the coarse approximation is good, the details are equal or close to zero. Hence a Lazy wavelet scheme is a bijection from $\\mathbb{R}^{2n}$ to $\\mathbb{R}^n\\times \\mathbb{R}^{n}$ :\n"
   ]
  },
  {
   "cell_type": "code",
   "execution_count": null,
   "metadata": {
    "hideCode": true
   },
   "outputs": [],
   "source": [
    "temp=np.zeros(1024)\n",
    "temp[0:512]=Srec[0:1024:2]\n",
    "temp[512:1024]=S3[0:1024:2]-Srec[0:1024:2]\n",
    "pn.Column(hv.Curve(S3).opts(width=900),hv.Curve(temp).opts(width=900))"
   ]
  },
  {
   "cell_type": "markdown",
   "metadata": {},
   "source": [
    "More precisely, this numerical scheme is the first step of a lazy wavelet transform, since we can apply the same scheme to the coarse approximation, or the detail components or both. \n",
    "\n",
    "Actually, it can be shown that in many situations, there is no need to apply any transformation to the detail coefficients and in the lazy wavelet schemes a recursive transformation to the coarse approximation and details are left unchanged. Let's have a look of such schemes on images where the coarse image have 4 times less coefficients and for which the details can be devided into horizontal details, vertical details and diagonal details.\n",
    "\n",
    " "
   ]
  },
  {
   "cell_type": "markdown",
   "metadata": {},
   "source": [
    "## Examples of 2D wavelet transform."
   ]
  },
  {
   "cell_type": "code",
   "execution_count": null,
   "metadata": {
    "hideCode": true
   },
   "outputs": [],
   "source": [
    "#class PDF(object):\n",
    "#  def __init__(self, pdf, size=(200,200)):\n",
    "#    self.pdf = pdf\n",
    "#    self.size = size\n",
    "#\n",
    "#  def _repr_html_(self):\n",
    "#    return '<iframe src={0} width={1[0]} height={1[1]}></iframe>'.format(self.pdf, self.size)\n",
    "#\n",
    "#  def _repr_latex_(self):\n",
    "#   return r'\\includegraphics[width=1.0\\textwidth]{{{0}}}'.format(self.pdf)\n",
    "\n",
    "#PDF('Monument.pdf',size=(500,500))\n",
    "Mo=chargeData('Monument').astype('uint8')\n",
    "hv.RGB(Mo).opts(**options1)"
   ]
  },
  {
   "cell_type": "markdown",
   "metadata": {},
   "source": [
    "After one step of a (lazy or not) wavelet transform we get this set of 4 images. The coarse approximation is on the top left, vertical details on the top right, horizontal details on the bottom left and diagonal details on the bottom right. From these 4 small images, we can recover the former. The advantage of this representation is that many coefficients are close to 0 which is better for compression, denoising and most image processing analysis."
   ]
  },
  {
   "cell_type": "code",
   "execution_count": null,
   "metadata": {
    "hideCode": false
   },
   "outputs": [],
   "source": [
    "Mo2=chargeData('Monument2').astype('uint8')\n",
    "hv.RGB(Mo2).opts(**options1)"
   ]
  },
  {
   "cell_type": "markdown",
   "metadata": {},
   "source": [
    "We can now apply the same\n",
    "scheme to the coarse image without changing the details. We get then the reprensatin above with 4 small images and 3 bigger ones. "
   ]
  },
  {
   "cell_type": "code",
   "execution_count": null,
   "metadata": {
    "hideCode": true
   },
   "outputs": [],
   "source": [
    "Mo3=chargeData('Monument3').astype('uint8')\n",
    "hv.RGB(Mo3).opts(**options1)"
   ]
  },
  {
   "cell_type": "markdown",
   "metadata": {},
   "source": [
    "We can apply the scheme again and again..."
   ]
  },
  {
   "cell_type": "code",
   "execution_count": null,
   "metadata": {
    "hideCode": true
   },
   "outputs": [],
   "source": [
    "Mo4=chargeData('Monument4').astype('uint8')\n",
    "hv.RGB(Mo4).opts(**options1)"
   ]
  },
  {
   "cell_type": "markdown",
   "metadata": {},
   "source": [
    "To any such approximation scheme we can associate a recursive \"lazy wavelet transform\" and there are many ways to create such a coarse approximation of a vector or an image and consequently many possible lazy wavelet transforms. What are the difference between wavelet transform and lazy wavelet transform ? \n",
    "Wavelet transform are specific lazy wavelet transform, for which the coarse approximation and the detail coefficients are equal to scalar products of a the vectr with some wavelet and scalr functions. \n",
    "\n",
    "As an example, a simple way to provide a coarse approximation of a vector $v\\in\\mathbb{R}^{2n}$ is to approximate each pair of component by the mean of the pair. The details are then the difference of the first value to the mean. This simple scheme is a lazy wavelet scheme... and is also the Haar wavelet transform in the discrete setting.  \n",
    "\n",
    "We will see that this simple scheme is adapated to piecewise constant functions (and vectors) but less efficient to deal with more complexe data. To deal with piecewise regularity of higher orders (piecewise lienar, quadratic or more), we will need to use better approximations schemes leading to other wavelets.\n"
   ]
  },
  {
   "cell_type": "markdown",
   "metadata": {},
   "source": [
    "Wavelet transform can be used for compression, but also for many other applications, such like denoising."
   ]
  },
  {
   "cell_type": "code",
   "execution_count": null,
   "metadata": {
    "hideCode": true,
    "scrolled": false
   },
   "outputs": [],
   "source": [
    "Croco1=chargeData('Croco1').astype('uint8')\n",
    "hv.RGB(Croco1).opts(**options2)"
   ]
  },
  {
   "cell_type": "markdown",
   "metadata": {},
   "source": [
    "Here, we can threshold the small coefficients, that is setting small ones to 0, considering that these small coefficients are more likely to be \"noise\" than to belong to the \"signal\"."
   ]
  },
  {
   "cell_type": "code",
   "execution_count": null,
   "metadata": {
    "hideCode": true,
    "scrolled": true
   },
   "outputs": [],
   "source": [
    "Croco2=chargeData('Croco2').astype('uint8')\n",
    "hv.RGB(Croco2).opts(**options2)"
   ]
  },
  {
   "cell_type": "markdown",
   "metadata": {},
   "source": [
    "We will aslo see how the wavelet parcimony (the fact that there is a small number of active detail coefficients) can be used to remove a blur from an image :"
   ]
  },
  {
   "cell_type": "code",
   "execution_count": null,
   "metadata": {
    "hideCode": true
   },
   "outputs": [],
   "source": [
    "plane=chargeData('avion').astype('uint8')\n",
    "hv.RGB(plane).opts(**options1)"
   ]
  },
  {
   "cell_type": "code",
   "execution_count": null,
   "metadata": {
    "hideCode": true
   },
   "outputs": [],
   "source": [
    "plane2=chargeData('avion2').astype('uint8')\n",
    "hv.RGB(plane2).opts(**options1)"
   ]
  },
  {
   "cell_type": "markdown",
   "metadata": {},
   "source": [
    "Or to recover lost pixels of a natural image."
   ]
  },
  {
   "cell_type": "code",
   "execution_count": null,
   "metadata": {
    "hideCode": true
   },
   "outputs": [],
   "source": [
    "Lenna1=chargeData('LennaMasked').astype('uint8')\n",
    "hv.RGB(Lenna1).opts(**options1)"
   ]
  },
  {
   "cell_type": "code",
   "execution_count": null,
   "metadata": {
    "hideCode": true
   },
   "outputs": [],
   "source": [
    "Lenna2=chargeData('LennaInpainted').astype('uint8')\n",
    "hv.RGB(Lenna2).opts(**options1)"
   ]
  },
  {
   "cell_type": "markdown",
   "metadata": {},
   "source": [
    "## 1D Wavelet basis. Wavelet functions and scale functions. "
   ]
  },
  {
   "cell_type": "markdown",
   "metadata": {},
   "source": [
    "In the two next dashboards, you can have a look on several scale functions and wavelet functions we will study during the semester. We will first study the Haar transform."
   ]
  },
  {
   "cell_type": "code",
   "execution_count": null,
   "metadata": {
    "hideCode": true,
    "scrolled": true
   },
   "outputs": [],
   "source": [
    "Visupsi = VisuPsi()\n",
    "pn.Row(Visupsi.param,Visupsi.view)"
   ]
  },
  {
   "cell_type": "code",
   "execution_count": null,
   "metadata": {
    "hideCode": true
   },
   "outputs": [],
   "source": [
    "Visuphi = VisuPhi()\n",
    "pn.Row(Visuphi.param,Visuphi.view)"
   ]
  },
  {
   "cell_type": "markdown",
   "metadata": {},
   "source": [
    "### Reproducing Formula."
   ]
  },
  {
   "cell_type": "markdown",
   "metadata": {},
   "source": [
    "An important formula, on which is based the Fast Wavelet Transform is the following $\\forall (j,k)$ :\n",
    "\\begin{equation}\n",
    "\\phi_{j,k}=\\sum_{n\\in\\mathbb{Z}}h_n\\phi_{j-1,n+2k}\n",
    "\\end{equation}\n",
    "which gives the link between a scale function and scales functions a scale above.\n",
    "\n",
    "This identity can be simplefied for the Haar wavelet into \n",
    "\\begin{equation}\n",
    "\\phi_{j,k}=\\frac{\\sqrt{2}}{2}\\phi_{j-1,2k}+\\frac{\\sqrt{2}}{2}\\phi_{j-1,2k+1}\n",
    "\\end{equation}\n"
   ]
  },
  {
   "cell_type": "code",
   "execution_count": null,
   "metadata": {},
   "outputs": [],
   "source": [
    "class RF(param.Parameterized):\n",
    "    wave = param.ObjectSelector(default=\"haar\",objects=wavelist)\n",
    "    scale = param.Integer(6,bounds=(0,9))\n",
    "    k = param.Integer(9,bounds=(1,31))\n",
    "    def view(self):\n",
    "        w=FoncEchel(1024,self.wave,1,8)\n",
    "        coefs=w[np.abs(w)>0]\n",
    "        nb=len(coefs)\n",
    "        phi1=FoncEchel(1024,self.wave,self.scale,self.k) \n",
    "        phi=hv.Curve(FoncEchel(1024,self.wave,self.scale-1,2*self.k-int(nb/2)+1)*coefs[0])\n",
    "        for ind in np.arange(1,nb):\n",
    "            phi=phi*hv.Curve(FoncEchel(1024,self.wave,self.scale-1,2*self.k+ind-int(nb/2)+1)*coefs[ind])\n",
    "            #phi3=(-1)*FoncEchel(1024,'haar',self.scale-1,2*self.k+1)/np.sqrt(2)\n",
    "        return pn.Column(hv.Curve(phi1).options(color='red',width=600),phi.options(width=600))\n",
    "    "
   ]
  },
  {
   "cell_type": "code",
   "execution_count": null,
   "metadata": {},
   "outputs": [],
   "source": [
    "rf = RF()\n",
    "pn.Row(rf.param,rf.view)"
   ]
  },
  {
   "cell_type": "markdown",
   "metadata": {},
   "source": [
    "Similarly there is a equation linking the wavelet to the scale functions, one scale above also available\n",
    "$\\forall (j,k)$ :\n",
    "\\begin{equation}\n",
    "\\psi_{j,k}=\\sum_{n\\in\\mathbb{Z}}(-1)^n(h_{1-n}\\phi_{j-1,n+2k}\n",
    "\\end{equation}\n",
    "This identity can be simplefied for the Haar wavelet into \n",
    "\\begin{equation}\n",
    "\\psi_{j,k}=-\\frac{\\sqrt{2}}{2}\\phi_{j-1,2k}+\\frac{\\sqrt{2}}{2}\\phi_{j-1,2k+1}\n",
    "\\end{equation}\n",
    "\n",
    "Remark : The choice of coefficients $-\\frac{\\sqrt{2}}{2}$ and $\\frac{\\sqrt{2}}{2}$ is actualy a convention, you may find in books $\\frac{\\sqrt{2}}{2}$ and $-\\frac{\\sqrt{2}}{2}$. But most of the time it is pointless since the choices are made accordingly in the direct and the inverse transform. All wavelets can be reversed in time without any damages."
   ]
  },
  {
   "cell_type": "code",
   "execution_count": null,
   "metadata": {},
   "outputs": [],
   "source": [
    "class RF2(param.Parameterized):\n",
    "    wave = param.ObjectSelector(default=\"db2\",objects=wavelist)\n",
    "    scale = param.Integer(7,bounds=(0,9))\n",
    "    k = param.Integer(4,bounds=(1,31))\n",
    "    def view(self):\n",
    "        w=Ond(1024,self.wave,1,8)\n",
    "        coefs=w[np.abs(w)>0]\n",
    "        nb=len(coefs)\n",
    "        phi1=Ond(1024,self.wave,self.scale,self.k) \n",
    "        phi=hv.Curve(FoncEchel(1024,self.wave,self.scale-1,2*self.k-int(nb/2)+1)*coefs[0])\n",
    "        for ind in np.arange(1,nb):\n",
    "            phi=phi*hv.Curve(FoncEchel(1024,self.wave,self.scale-1,2*self.k+ind-int(nb/2)+1)*coefs[ind])\n",
    "        return pn.Column(hv.Curve(phi1).options(color='red',width=600),phi.options(width=600))"
   ]
  },
  {
   "cell_type": "code",
   "execution_count": null,
   "metadata": {},
   "outputs": [],
   "source": [
    "rf2 = RF2()\n",
    "pn.Row(rf2.param,rf2.view)"
   ]
  },
  {
   "cell_type": "code",
   "execution_count": null,
   "metadata": {},
   "outputs": [],
   "source": [
    "ramp=np.arange(0,1024)/1024\n",
    "def fonc1(t):\n",
    "    if t<1/3:\n",
    "        y=t**2\n",
    "    elif t<2/3:\n",
    "        y=t/5\n",
    "    else:\n",
    "        y=t*(1-t)\n",
    "    return 10*y            \n",
    "vfonc1=np.vectorize(fonc1)\n",
    "f1=vfonc1(ramp)\n",
    "def fonc2(t):\n",
    "    if t<1/3:\n",
    "        y=t**3\n",
    "    elif t<2/3:\n",
    "        y=-0.1-t**2/2+2*t/3\n",
    "    else:\n",
    "        y=t*(1-t)*t\n",
    "    return 30*y \n",
    "vfonc2=np.vectorize(fonc2)\n",
    "vfonc1=np.vectorize(fonc1)\n",
    "f1=vfonc1(ramp)\n",
    "f2=vfonc2(ramp)\n",
    "signauxRef= {\"Piece\" : S3*2,\"Blocks\" : S4*2,\"Ramp\":2*ramp,\"Para\" : f1, \"Cubic\":f2}\n"
   ]
  },
  {
   "cell_type": "code",
   "execution_count": null,
   "metadata": {
    "hideCode": true
   },
   "outputs": [],
   "source": [
    "options = dict(width=800,height=150,toolbar=None,xaxis=None,yaxis=None)\n",
    "options2 = dict(width=600,height=250,toolbar=None,xaxis=None,yaxis=None)\n",
    "\n",
    "def VisuOnd2(N,qmf,scale,k):\n",
    "    Lmax=pywt.dwt_max_level(N,pywt.Wavelet(qmf).dec_len)\n",
    "    L=min(scale,Lmax)\n",
    "    Ne=int(np.floor(N/2**L))\n",
    "    temp=np.zeros(N)\n",
    "    WT= pywt.wavedecn(temp, qmf, mode='per', level=L)\n",
    "    arr, coeff_slices = pywt.coeffs_to_array(WT)\n",
    "    temp[k+Ne]=1\n",
    "    coeffs_from_arr = pywt.array_to_coeffs(temp, coeff_slices)\n",
    "    Psi=pywt.waverecn(coeffs_from_arr,qmf,mode='per')*2**(scale/2)\n",
    "    return Psi\n",
    "class Visu(param.Parameterized):\n",
    "    sig = param.ObjectSelector(default=\"Para\",objects=signauxRef.keys())\n",
    "    wave = param.ObjectSelector(default=\"db2\",objects=wavelist)\n",
    "    scale= param.Integer(6,bounds=(4,6))\n",
    "    k= param.Integer(7,bounds=(0,64))\n",
    "    def view(self):\n",
    "        k2=min(self.k,2**(10-self.scale))\n",
    "        s=signauxRef[self.sig]\n",
    "        N=2**10\n",
    "        t=np.arange(0,N)/N\n",
    "        scale=self.scale  \n",
    "        Psi=VisuOnd2(N,self.wave,self.scale,k2)\n",
    "        Affich=hv.Curve(Psi).opts(**options2,color='red')\n",
    "        I=np.where(np.abs(Psi)>0)\n",
    "        s2=0*s\n",
    "        s2[I]=s[I]\n",
    "        WT= pywt.wavedec(s,self.wave, mode='per', level=7)\n",
    "        coefs=WT[7-scale+1]\n",
    "        coefs2=0*coefs\n",
    "        coefs2[k2]=coefs[k2]\n",
    "        strscale=\"%2.0f\" % scale\n",
    "        return pn.Column(hv.Curve(s).opts(**options2,title='Signal étudié')*hv.Area(s2).opts(color='red')*Affich.opts(color='black')\\\n",
    "                                          ,hv.Bars(coefs).opts(**options2,title='Coefficients sur W-'+strscale)\\\n",
    "                         *hv.Bars(coefs2).opts(color='red'))"
   ]
  },
  {
   "cell_type": "markdown",
   "metadata": {},
   "source": [
    "The next dashboard illustrate the part of the function \"analysed\" by a given wavelet. The red bar on the bottom corresponds to the associated coefficient in the wavelet transform."
   ]
  },
  {
   "cell_type": "code",
   "execution_count": null,
   "metadata": {
    "hideCode": true
   },
   "outputs": [],
   "source": [
    "vis= Visu()\n",
    "pn.Row(vis.param,vis.view)"
   ]
  },
  {
   "cell_type": "markdown",
   "metadata": {},
   "source": [
    "## Approximation in the wavelet domain."
   ]
  },
  {
   "cell_type": "markdown",
   "metadata": {},
   "source": [
    "# Linear wavelet approximation, projection on $V_j$ spaces."
   ]
  },
  {
   "cell_type": "code",
   "execution_count": null,
   "metadata": {
    "hideCode": false
   },
   "outputs": [],
   "source": [
    "class WaveApproxLin(param.Parameterized):\n",
    "    signal = param.ObjectSelector(default=\"Blocks\",objects=signauxRef.keys())\n",
    "    wave = param.ObjectSelector(default=\"haar\",objects=wavelist)\n",
    "    scale = param.Integer(7,bounds=(0,10))\n",
    "    #T = param.Number(1,bounds=(1,100))\n",
    "    #@param.depends('wave', 'T', 'L')\n",
    "    def view(self):\n",
    "        s=signauxRef[self.signal]\n",
    "        Affich=ApproxLin(s,self.wave,self.scale)\n",
    "        return Affich"
   ]
  },
  {
   "cell_type": "code",
   "execution_count": null,
   "metadata": {
    "hideCode": false
   },
   "outputs": [],
   "source": [
    "waveapproxlin = WaveApproxLin()\n",
    "pn.Row(waveapproxlin.param,waveapproxlin.view)"
   ]
  },
  {
   "cell_type": "markdown",
   "metadata": {},
   "source": [
    "### Non linear wavelet approximation."
   ]
  },
  {
   "cell_type": "code",
   "execution_count": null,
   "metadata": {},
   "outputs": [],
   "source": [
    "def ApproxNonLin(S,N):\n",
    "    Nf=np.size(S)\n",
    "    FS=fftpack.fft(S)\n",
    "    AFS=-np.abs(FS)\n",
    "    I=np.argsort(AFS)\n",
    "    temp=np.zeros(Nf,dtype=complex)\n",
    "    temp[I[0:N]]=FS[I[0:N]]\n",
    "    print(np.real(temp[I[1]]))\n",
    "    print(np.real(FS[I[1]]))    \n",
    "    y=np.real(fftpack.ifft(temp))\n",
    "    #plt.plot(np.abs(temp))\n",
    "    #plt.show\n",
    "    return y"
   ]
  },
  {
   "cell_type": "code",
   "execution_count": null,
   "metadata": {},
   "outputs": [],
   "source": [
    "def ApproxOnd1Dv2(S,qmf,L,N):\n",
    "    N1=len(S)\n",
    "    Lmax=pywt.dwt_max_level(len(S),pywt.Wavelet(qmf).dec_len)\n",
    "    L1=min(L,Lmax)\n",
    "    WT= pywt.wavedecn(S, qmf, mode='per', level=L1)\n",
    "    arr, coeff_slices = pywt.coeffs_to_array(WT)\n",
    "    Ind=np.argsort(np.abs(arr))\n",
    "    WTS=np.zeros(N1)\n",
    "    WTS[Ind[N1-N:N1]]=arr[Ind[N1-N:N1]]\n",
    "    coeffs_from_arr = pywt.array_to_coeffs(WTS, coeff_slices)\n",
    "    Srec=pywt.waverecn(coeffs_from_arr,qmf,mode='per')\n",
    "    return Srec"
   ]
  },
  {
   "cell_type": "code",
   "execution_count": null,
   "metadata": {},
   "outputs": [],
   "source": [
    "class WaveExplorerv2(param.Parameterized):\n",
    "    wave = param.ObjectSelector(default=\"haar\",objects=wavelist)\n",
    "    signal = param.ObjectSelector(default=\"Blocks\",objects=signauxRef.keys())\n",
    "    L = param.Integer(9,bounds=(0,9))\n",
    "    N = param.Integer(25,bounds=(1,1023))\n",
    "  #  @param.depends('wave', 'N', 'L')\n",
    "    def view(self):\n",
    "        s=signauxRef[self.signal]\n",
    "        Srec = ApproxOnd1Dv2(s,self.wave,self.L,self.N)\n",
    "        return hv.Curve(s).options(color='blue',width=600)*hv.Curve(Srec).options(color='red',width=600)"
   ]
  },
  {
   "cell_type": "code",
   "execution_count": null,
   "metadata": {},
   "outputs": [],
   "source": [
    "waveexplo2 = WaveExplorerv2()\n",
    "pn.Row(waveexplo2.param,waveexplo2.view)"
   ]
  },
  {
   "cell_type": "code",
   "execution_count": null,
   "metadata": {},
   "outputs": [],
   "source": []
  }
 ],
 "metadata": {
  "celltoolbar": "Hide code",
  "kernelspec": {
   "display_name": "Python 3",
   "language": "python",
   "name": "python3"
  },
  "language_info": {
   "codemirror_mode": {
    "name": "ipython",
    "version": 3
   },
   "file_extension": ".py",
   "mimetype": "text/x-python",
   "name": "python",
   "nbconvert_exporter": "python",
   "pygments_lexer": "ipython3",
   "version": "3.7.8"
  },
  "latex_envs": {
   "LaTeX_envs_menu_present": true,
   "autoclose": false,
   "autocomplete": true,
   "bibliofile": "biblio.bib",
   "cite_by": "apalike",
   "current_citInitial": 1,
   "eqLabelWithNumbers": true,
   "eqNumInitial": 1,
   "hotkeys": {
    "equation": "Ctrl-E",
    "itemize": "Ctrl-I"
   },
   "labels_anchors": false,
   "latex_user_defs": false,
   "report_style_numbering": false,
   "user_envs_cfg": false
  }
 },
 "nbformat": 4,
 "nbformat_minor": 2
}
