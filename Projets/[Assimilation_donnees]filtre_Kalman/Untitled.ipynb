{
 "cells": [
  {
   "cell_type": "code",
   "execution_count": 1,
   "id": "a56b492f",
   "metadata": {},
   "outputs": [],
   "source": [
    "import numpy as np"
   ]
  },
  {
   "cell_type": "code",
   "execution_count": 38,
   "id": "1af21329",
   "metadata": {},
   "outputs": [],
   "source": [
    "n = 10\n",
    "ns = 1000\n",
    "m = 4\n",
    "Xb = np.ones((n,1))\n",
    "H = np.random.randint(1, size=(m, n))\n",
    "Y = np.random.randint(5, size=(m, 1))\n",
    "B = 2*np.identity(n)-np.diag(np.ones(n-1), -1)-np.diag(np.ones(n-1), 1)\n",
    "R = 10*np.identity(m)"
   ]
  },
  {
   "cell_type": "markdown",
   "id": "fe49e96b",
   "metadata": {},
   "source": [
    "Solution "
   ]
  },
  {
   "cell_type": "code",
   "execution_count": 85,
   "id": "5a3bcdf1",
   "metadata": {},
   "outputs": [],
   "source": [
    "x_b = np.random.multivariate_normal(np.mean(Xb,1), B, size=ns)\n",
    "X_B = x_b.T\n",
    "A = (1/np.sqrt(ns-1))*(X_B - np.mean(X_B))\n",
    "B_tilde = A@A.T"
   ]
  },
  {
   "cell_type": "code",
   "execution_count": 100,
   "id": "2b07b185",
   "metadata": {},
   "outputs": [],
   "source": [
    "epsilon = np.random.multivariate_normal(np.zeros(m), R, size=ns)"
   ]
  },
  {
   "cell_type": "code",
   "execution_count": 102,
   "id": "a0d7613f",
   "metadata": {},
   "outputs": [],
   "source": [
    "X = X_B+B_tilde@H.T@np.linalg.inv(R+H@B_tilde@H.T)@(Y+epsilon.T-H@X_B)"
   ]
  },
  {
   "cell_type": "code",
   "execution_count": 103,
   "id": "c0929af0",
   "metadata": {},
   "outputs": [],
   "source": [
    "covariance_x_i = np.cov(X)"
   ]
  },
  {
   "cell_type": "markdown",
   "id": "0683e835",
   "metadata": {},
   "source": [
    "Solution classique"
   ]
  },
  {
   "cell_type": "code",
   "execution_count": 46,
   "id": "ad1534b1",
   "metadata": {},
   "outputs": [],
   "source": [
    "X = Xb+B@H.T@np.linalg.inv(R+H@B@H.T)@(Y-H@Xb)"
   ]
  },
  {
   "cell_type": "code",
   "execution_count": 93,
   "id": "1b505269",
   "metadata": {},
   "outputs": [],
   "source": [
    "P = np.linalg.inv(np.linalg.inv(B)+H.T@np.linalg.inv(R)@H)"
   ]
  },
  {
   "cell_type": "markdown",
   "id": "781cdb27",
   "metadata": {},
   "source": [
    "Erreur "
   ]
  },
  {
   "cell_type": "code",
   "execution_count": 104,
   "id": "d70c95da",
   "metadata": {},
   "outputs": [
    {
     "name": "stdout",
     "output_type": "stream",
     "text": [
      "Mean Squared Error: 0.0050131317329761334\n"
     ]
    }
   ],
   "source": [
    "mse = np.mean((covariance_x_i - P)**2)\n",
    "print(\"Mean Squared Error:\", mse)\n"
   ]
  },
  {
   "cell_type": "code",
   "execution_count": null,
   "id": "96921e54",
   "metadata": {},
   "outputs": [],
   "source": []
  }
 ],
 "metadata": {
  "kernelspec": {
   "display_name": "Python 3 (ipykernel)",
   "language": "python",
   "name": "python3"
  },
  "language_info": {
   "codemirror_mode": {
    "name": "ipython",
    "version": 3
   },
   "file_extension": ".py",
   "mimetype": "text/x-python",
   "name": "python",
   "nbconvert_exporter": "python",
   "pygments_lexer": "ipython3",
   "version": "3.8.13"
  }
 },
 "nbformat": 4,
 "nbformat_minor": 5
}
