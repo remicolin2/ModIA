{
 "cells": [
  {
   "cell_type": "code",
   "execution_count": null,
   "metadata": {
    "id": "HhOlJaEd8H65"
   },
   "outputs": [],
   "source": [
    "# This Python 3 environment comes with many helpful analytics libraries installed\n",
    "# It is defined by the kaggle/python Docker image: https://github.com/kaggle/docker-python\n",
    "# For example, here's several helpful packages to load\n",
    "\n",
    "import numpy as np # linear algebra\n",
    "import pandas as pd # data processing, CSV file I/O (e.g. pd.read_csv)\n",
    "\n",
    "# Input data files are available in the read-only \"../input/\" directory\n",
    "# For example, running this (by clicking run or pressing Shift+Enter) will list all files under the input directory\n",
    "\n",
    "import os\n",
    "for dirname, _, filenames in os.walk('/kaggle/input'):\n",
    "    for filename in filenames:\n",
    "        print(os.path.join(dirname, filename))\n",
    "\n",
    "# You can write up to 20GB to the current directory (/kaggle/working/) that gets preserved as output when you create a version using \"Save & Run All\"\n",
    "# You can also write temporary files to /kaggle/temp/, but they won't be saved outside of the current session"
   ]
  },
  {
   "cell_type": "code",
   "execution_count": null,
   "metadata": {
    "id": "MIF6gXD78H67"
   },
   "outputs": [],
   "source": [
    "import warnings\n",
    "warnings.filterwarnings(\"ignore\")"
   ]
  },
  {
   "cell_type": "code",
   "execution_count": null,
   "metadata": {
    "id": "F8wHjMY08H67",
    "outputId": "99078265-4160-467b-f2bc-e3c870c31e18"
   },
   "outputs": [
    {
     "name": "stdout",
     "output_type": "stream",
     "text": [
      "ls: impossible d'accéder à '/kaggle/input/dataproject/data/atoms/train': Aucun fichier ou dossier de ce nom\n"
     ]
    }
   ],
   "source": [
    "!ls /kaggle/input/dataproject/data/atoms/train"
   ]
  },
  {
   "cell_type": "code",
   "execution_count": null,
   "metadata": {
    "id": "067Ygvqm8H68"
   },
   "outputs": [],
   "source": [
    "import os"
   ]
  },
  {
   "cell_type": "code",
   "execution_count": null,
   "metadata": {
    "id": "_Or_Dd8Y8H68",
    "outputId": "f86717ce-5a50-4990-c37c-91d9716775dd"
   },
   "outputs": [
    {
     "name": "stdout",
     "output_type": "stream",
     "text": [
      "Number of atoms: 14\n",
      "Comment: Properties=species:S:1:pos:R:3 pbc=\"F F F\"\n",
      "   Element         X         Y         Z\n",
      "0        C  1.044573 -1.164159  0.486488\n",
      "1        C  0.487783  0.277165  0.498080\n",
      "2        C -1.055488  0.301912  0.465454\n",
      "3        O -1.565874 -0.240302 -0.743547\n",
      "4        N  0.993207  1.081359 -0.627743\n",
      "5        H  2.131599 -1.154456  0.531864\n",
      "6        H  0.758974 -1.695015 -0.420993\n",
      "7        H  0.677945 -1.733236  1.338995\n",
      "8        H  0.813700  0.752325  1.444720\n",
      "9        H -1.462768 -0.256279  1.335124\n",
      "10       H -1.418442  1.336575  0.535270\n",
      "11       H -1.234393 -1.140440 -0.859028\n",
      "12       H  0.466865  0.854672 -1.469693\n",
      "13       H  1.979856  0.899254 -0.793810\n"
     ]
    }
   ],
   "source": [
    "def read_xyz(file_path):\n",
    "    with open(file_path, 'r') as file:\n",
    "        num_atoms = int(file.readline().strip())\n",
    "        comment = file.readline().strip()\n",
    "        df = pd.read_csv(file, delim_whitespace=True, names=['Element', 'X', 'Y', 'Z'], nrows=num_atoms)\n",
    "\n",
    "    return num_atoms, comment, df\n",
    "\n",
    "file_path = './data/atoms/train/id_3083.xyz'\n",
    "num_atoms, comment, df = read_xyz(file_path)\n",
    "print(f\"Number of atoms: {num_atoms}\")\n",
    "print(f\"Comment: {comment}\")\n",
    "print(df)"
   ]
  },
  {
   "cell_type": "code",
   "execution_count": null,
   "metadata": {
    "id": "TBacLlok8H68"
   },
   "outputs": [],
   "source": [
    "element_colors = {\n",
    "    'H': 'white',\n",
    "    'C': 'black',\n",
    "    'N': 'blue',\n",
    "    'O': 'red',\n",
    "    'F': 'green',\n",
    "    'Cl': 'green',\n",
    "    'Br': 'brown',\n",
    "    'I': 'purple',\n",
    "    'P': 'orange',\n",
    "    'S': 'yellow',\n",
    "    # Add more elements as needed\n",
    "}\n",
    "\n",
    "\n",
    "import plotly.graph_objects as go\n",
    "\n",
    "def identify_bonds(df, cutoff=1.6):\n",
    "    bonds = []\n",
    "    positions = df[['X', 'Y', 'Z']].values\n",
    "    num_atoms = len(df)\n",
    "\n",
    "    for i in range(num_atoms):\n",
    "        for j in range(i + 1, num_atoms):\n",
    "            distance = np.linalg.norm(positions[i] - positions[j])\n",
    "            if distance <= cutoff:\n",
    "                bonds.append((i, j))\n",
    "\n",
    "    return bonds"
   ]
  },
  {
   "cell_type": "code",
   "execution_count": null,
   "metadata": {
    "id": "hJ4451bp8H69",
    "outputId": "56027131-52c4-4a5b-adef-4606b25766b1"
   },
   "outputs": [
    {
     "data": {
      "application/vnd.plotly.v1+json": {
       "config": {
        "plotlyServerURL": "https://plot.ly"
       },
       "data": [
        {
         "marker": {
          "color": [
           "black",
           "black",
           "black",
           "red",
           "blue",
           "white",
           "white",
           "white",
           "white",
           "white",
           "white",
           "white",
           "white",
           "white"
          ],
          "opacity": 0.8,
          "size": 5
         },
         "mode": "markers",
         "text": [
          "C",
          "C",
          "C",
          "O",
          "N",
          "H",
          "H",
          "H",
          "H",
          "H",
          "H",
          "H",
          "H",
          "H"
         ],
         "type": "scatter3d",
         "x": [
          1.044573,
          0.487783,
          -1.055488,
          -1.565874,
          0.993207,
          2.131599,
          0.758974,
          0.677945,
          0.8137,
          -1.462768,
          -1.418442,
          -1.234393,
          0.466865,
          1.979856
         ],
         "y": [
          -1.164159,
          0.277165,
          0.301912,
          -0.240302,
          1.081359,
          -1.154456,
          -1.695015,
          -1.733236,
          0.752325,
          -0.256279,
          1.336575,
          -1.14044,
          0.854672,
          0.899254
         ],
         "z": [
          0.486488,
          0.49808,
          0.465454,
          -0.743547,
          -0.627743,
          0.531864,
          -0.420993,
          1.338995,
          1.44472,
          1.335124,
          0.53527,
          -0.859028,
          -1.469693,
          -0.79381
         ]
        },
        {
         "line": {
          "color": "gray",
          "width": 2
         },
         "mode": "lines",
         "type": "scatter3d",
         "x": [
          1.044573,
          0.487783
         ],
         "y": [
          -1.164159,
          0.277165
         ],
         "z": [
          0.486488,
          0.49808
         ]
        },
        {
         "line": {
          "color": "gray",
          "width": 2
         },
         "mode": "lines",
         "type": "scatter3d",
         "x": [
          1.044573,
          2.131599
         ],
         "y": [
          -1.164159,
          -1.154456
         ],
         "z": [
          0.486488,
          0.531864
         ]
        },
        {
         "line": {
          "color": "gray",
          "width": 2
         },
         "mode": "lines",
         "type": "scatter3d",
         "x": [
          1.044573,
          0.758974
         ],
         "y": [
          -1.164159,
          -1.695015
         ],
         "z": [
          0.486488,
          -0.420993
         ]
        },
        {
         "line": {
          "color": "gray",
          "width": 2
         },
         "mode": "lines",
         "type": "scatter3d",
         "x": [
          1.044573,
          0.677945
         ],
         "y": [
          -1.164159,
          -1.733236
         ],
         "z": [
          0.486488,
          1.338995
         ]
        },
        {
         "line": {
          "color": "gray",
          "width": 2
         },
         "mode": "lines",
         "type": "scatter3d",
         "x": [
          0.487783,
          -1.055488
         ],
         "y": [
          0.277165,
          0.301912
         ],
         "z": [
          0.49808,
          0.465454
         ]
        },
        {
         "line": {
          "color": "gray",
          "width": 2
         },
         "mode": "lines",
         "type": "scatter3d",
         "x": [
          0.487783,
          0.993207
         ],
         "y": [
          0.277165,
          1.081359
         ],
         "z": [
          0.49808,
          -0.627743
         ]
        },
        {
         "line": {
          "color": "gray",
          "width": 2
         },
         "mode": "lines",
         "type": "scatter3d",
         "x": [
          0.487783,
          0.8137
         ],
         "y": [
          0.277165,
          0.752325
         ],
         "z": [
          0.49808,
          1.44472
         ]
        },
        {
         "line": {
          "color": "gray",
          "width": 2
         },
         "mode": "lines",
         "type": "scatter3d",
         "x": [
          -1.055488,
          -1.565874
         ],
         "y": [
          0.301912,
          -0.240302
         ],
         "z": [
          0.465454,
          -0.743547
         ]
        },
        {
         "line": {
          "color": "gray",
          "width": 2
         },
         "mode": "lines",
         "type": "scatter3d",
         "x": [
          -1.055488,
          -1.462768
         ],
         "y": [
          0.301912,
          -0.256279
         ],
         "z": [
          0.465454,
          1.335124
         ]
        },
        {
         "line": {
          "color": "gray",
          "width": 2
         },
         "mode": "lines",
         "type": "scatter3d",
         "x": [
          -1.055488,
          -1.418442
         ],
         "y": [
          0.301912,
          1.336575
         ],
         "z": [
          0.465454,
          0.53527
         ]
        },
        {
         "line": {
          "color": "gray",
          "width": 2
         },
         "mode": "lines",
         "type": "scatter3d",
         "x": [
          -1.565874,
          -1.234393
         ],
         "y": [
          -0.240302,
          -1.14044
         ],
         "z": [
          -0.743547,
          -0.859028
         ]
        },
        {
         "line": {
          "color": "gray",
          "width": 2
         },
         "mode": "lines",
         "type": "scatter3d",
         "x": [
          0.993207,
          0.466865
         ],
         "y": [
          1.081359,
          0.854672
         ],
         "z": [
          -0.627743,
          -1.469693
         ]
        },
        {
         "line": {
          "color": "gray",
          "width": 2
         },
         "mode": "lines",
         "type": "scatter3d",
         "x": [
          0.993207,
          1.979856
         ],
         "y": [
          1.081359,
          0.899254
         ],
         "z": [
          -0.627743,
          -0.79381
         ]
        }
       ],
       "layout": {
        "height": 800,
        "scene": {
         "xaxis": {
          "title": {
           "text": "X"
          }
         },
         "yaxis": {
          "title": {
           "text": "Y"
          }
         },
         "zaxis": {
          "title": {
           "text": "Z"
          }
         }
        },
        "template": {
         "data": {
          "bar": [
           {
            "error_x": {
             "color": "#2a3f5f"
            },
            "error_y": {
             "color": "#2a3f5f"
            },
            "marker": {
             "line": {
              "color": "#E5ECF6",
              "width": 0.5
             },
             "pattern": {
              "fillmode": "overlay",
              "size": 10,
              "solidity": 0.2
             }
            },
            "type": "bar"
           }
          ],
          "barpolar": [
           {
            "marker": {
             "line": {
              "color": "#E5ECF6",
              "width": 0.5
             },
             "pattern": {
              "fillmode": "overlay",
              "size": 10,
              "solidity": 0.2
             }
            },
            "type": "barpolar"
           }
          ],
          "carpet": [
           {
            "aaxis": {
             "endlinecolor": "#2a3f5f",
             "gridcolor": "white",
             "linecolor": "white",
             "minorgridcolor": "white",
             "startlinecolor": "#2a3f5f"
            },
            "baxis": {
             "endlinecolor": "#2a3f5f",
             "gridcolor": "white",
             "linecolor": "white",
             "minorgridcolor": "white",
             "startlinecolor": "#2a3f5f"
            },
            "type": "carpet"
           }
          ],
          "choropleth": [
           {
            "colorbar": {
             "outlinewidth": 0,
             "ticks": ""
            },
            "type": "choropleth"
           }
          ],
          "contour": [
           {
            "colorbar": {
             "outlinewidth": 0,
             "ticks": ""
            },
            "colorscale": [
             [
              0,
              "#0d0887"
             ],
             [
              0.1111111111111111,
              "#46039f"
             ],
             [
              0.2222222222222222,
              "#7201a8"
             ],
             [
              0.3333333333333333,
              "#9c179e"
             ],
             [
              0.4444444444444444,
              "#bd3786"
             ],
             [
              0.5555555555555556,
              "#d8576b"
             ],
             [
              0.6666666666666666,
              "#ed7953"
             ],
             [
              0.7777777777777778,
              "#fb9f3a"
             ],
             [
              0.8888888888888888,
              "#fdca26"
             ],
             [
              1,
              "#f0f921"
             ]
            ],
            "type": "contour"
           }
          ],
          "contourcarpet": [
           {
            "colorbar": {
             "outlinewidth": 0,
             "ticks": ""
            },
            "type": "contourcarpet"
           }
          ],
          "heatmap": [
           {
            "colorbar": {
             "outlinewidth": 0,
             "ticks": ""
            },
            "colorscale": [
             [
              0,
              "#0d0887"
             ],
             [
              0.1111111111111111,
              "#46039f"
             ],
             [
              0.2222222222222222,
              "#7201a8"
             ],
             [
              0.3333333333333333,
              "#9c179e"
             ],
             [
              0.4444444444444444,
              "#bd3786"
             ],
             [
              0.5555555555555556,
              "#d8576b"
             ],
             [
              0.6666666666666666,
              "#ed7953"
             ],
             [
              0.7777777777777778,
              "#fb9f3a"
             ],
             [
              0.8888888888888888,
              "#fdca26"
             ],
             [
              1,
              "#f0f921"
             ]
            ],
            "type": "heatmap"
           }
          ],
          "heatmapgl": [
           {
            "colorbar": {
             "outlinewidth": 0,
             "ticks": ""
            },
            "colorscale": [
             [
              0,
              "#0d0887"
             ],
             [
              0.1111111111111111,
              "#46039f"
             ],
             [
              0.2222222222222222,
              "#7201a8"
             ],
             [
              0.3333333333333333,
              "#9c179e"
             ],
             [
              0.4444444444444444,
              "#bd3786"
             ],
             [
              0.5555555555555556,
              "#d8576b"
             ],
             [
              0.6666666666666666,
              "#ed7953"
             ],
             [
              0.7777777777777778,
              "#fb9f3a"
             ],
             [
              0.8888888888888888,
              "#fdca26"
             ],
             [
              1,
              "#f0f921"
             ]
            ],
            "type": "heatmapgl"
           }
          ],
          "histogram": [
           {
            "marker": {
             "pattern": {
              "fillmode": "overlay",
              "size": 10,
              "solidity": 0.2
             }
            },
            "type": "histogram"
           }
          ],
          "histogram2d": [
           {
            "colorbar": {
             "outlinewidth": 0,
             "ticks": ""
            },
            "colorscale": [
             [
              0,
              "#0d0887"
             ],
             [
              0.1111111111111111,
              "#46039f"
             ],
             [
              0.2222222222222222,
              "#7201a8"
             ],
             [
              0.3333333333333333,
              "#9c179e"
             ],
             [
              0.4444444444444444,
              "#bd3786"
             ],
             [
              0.5555555555555556,
              "#d8576b"
             ],
             [
              0.6666666666666666,
              "#ed7953"
             ],
             [
              0.7777777777777778,
              "#fb9f3a"
             ],
             [
              0.8888888888888888,
              "#fdca26"
             ],
             [
              1,
              "#f0f921"
             ]
            ],
            "type": "histogram2d"
           }
          ],
          "histogram2dcontour": [
           {
            "colorbar": {
             "outlinewidth": 0,
             "ticks": ""
            },
            "colorscale": [
             [
              0,
              "#0d0887"
             ],
             [
              0.1111111111111111,
              "#46039f"
             ],
             [
              0.2222222222222222,
              "#7201a8"
             ],
             [
              0.3333333333333333,
              "#9c179e"
             ],
             [
              0.4444444444444444,
              "#bd3786"
             ],
             [
              0.5555555555555556,
              "#d8576b"
             ],
             [
              0.6666666666666666,
              "#ed7953"
             ],
             [
              0.7777777777777778,
              "#fb9f3a"
             ],
             [
              0.8888888888888888,
              "#fdca26"
             ],
             [
              1,
              "#f0f921"
             ]
            ],
            "type": "histogram2dcontour"
           }
          ],
          "mesh3d": [
           {
            "colorbar": {
             "outlinewidth": 0,
             "ticks": ""
            },
            "type": "mesh3d"
           }
          ],
          "parcoords": [
           {
            "line": {
             "colorbar": {
              "outlinewidth": 0,
              "ticks": ""
             }
            },
            "type": "parcoords"
           }
          ],
          "pie": [
           {
            "automargin": true,
            "type": "pie"
           }
          ],
          "scatter": [
           {
            "fillpattern": {
             "fillmode": "overlay",
             "size": 10,
             "solidity": 0.2
            },
            "type": "scatter"
           }
          ],
          "scatter3d": [
           {
            "line": {
             "colorbar": {
              "outlinewidth": 0,
              "ticks": ""
             }
            },
            "marker": {
             "colorbar": {
              "outlinewidth": 0,
              "ticks": ""
             }
            },
            "type": "scatter3d"
           }
          ],
          "scattercarpet": [
           {
            "marker": {
             "colorbar": {
              "outlinewidth": 0,
              "ticks": ""
             }
            },
            "type": "scattercarpet"
           }
          ],
          "scattergeo": [
           {
            "marker": {
             "colorbar": {
              "outlinewidth": 0,
              "ticks": ""
             }
            },
            "type": "scattergeo"
           }
          ],
          "scattergl": [
           {
            "marker": {
             "colorbar": {
              "outlinewidth": 0,
              "ticks": ""
             }
            },
            "type": "scattergl"
           }
          ],
          "scattermapbox": [
           {
            "marker": {
             "colorbar": {
              "outlinewidth": 0,
              "ticks": ""
             }
            },
            "type": "scattermapbox"
           }
          ],
          "scatterpolar": [
           {
            "marker": {
             "colorbar": {
              "outlinewidth": 0,
              "ticks": ""
             }
            },
            "type": "scatterpolar"
           }
          ],
          "scatterpolargl": [
           {
            "marker": {
             "colorbar": {
              "outlinewidth": 0,
              "ticks": ""
             }
            },
            "type": "scatterpolargl"
           }
          ],
          "scatterternary": [
           {
            "marker": {
             "colorbar": {
              "outlinewidth": 0,
              "ticks": ""
             }
            },
            "type": "scatterternary"
           }
          ],
          "surface": [
           {
            "colorbar": {
             "outlinewidth": 0,
             "ticks": ""
            },
            "colorscale": [
             [
              0,
              "#0d0887"
             ],
             [
              0.1111111111111111,
              "#46039f"
             ],
             [
              0.2222222222222222,
              "#7201a8"
             ],
             [
              0.3333333333333333,
              "#9c179e"
             ],
             [
              0.4444444444444444,
              "#bd3786"
             ],
             [
              0.5555555555555556,
              "#d8576b"
             ],
             [
              0.6666666666666666,
              "#ed7953"
             ],
             [
              0.7777777777777778,
              "#fb9f3a"
             ],
             [
              0.8888888888888888,
              "#fdca26"
             ],
             [
              1,
              "#f0f921"
             ]
            ],
            "type": "surface"
           }
          ],
          "table": [
           {
            "cells": {
             "fill": {
              "color": "#EBF0F8"
             },
             "line": {
              "color": "white"
             }
            },
            "header": {
             "fill": {
              "color": "#C8D4E3"
             },
             "line": {
              "color": "white"
             }
            },
            "type": "table"
           }
          ]
         },
         "layout": {
          "annotationdefaults": {
           "arrowcolor": "#2a3f5f",
           "arrowhead": 0,
           "arrowwidth": 1
          },
          "autotypenumbers": "strict",
          "coloraxis": {
           "colorbar": {
            "outlinewidth": 0,
            "ticks": ""
           }
          },
          "colorscale": {
           "diverging": [
            [
             0,
             "#8e0152"
            ],
            [
             0.1,
             "#c51b7d"
            ],
            [
             0.2,
             "#de77ae"
            ],
            [
             0.3,
             "#f1b6da"
            ],
            [
             0.4,
             "#fde0ef"
            ],
            [
             0.5,
             "#f7f7f7"
            ],
            [
             0.6,
             "#e6f5d0"
            ],
            [
             0.7,
             "#b8e186"
            ],
            [
             0.8,
             "#7fbc41"
            ],
            [
             0.9,
             "#4d9221"
            ],
            [
             1,
             "#276419"
            ]
           ],
           "sequential": [
            [
             0,
             "#0d0887"
            ],
            [
             0.1111111111111111,
             "#46039f"
            ],
            [
             0.2222222222222222,
             "#7201a8"
            ],
            [
             0.3333333333333333,
             "#9c179e"
            ],
            [
             0.4444444444444444,
             "#bd3786"
            ],
            [
             0.5555555555555556,
             "#d8576b"
            ],
            [
             0.6666666666666666,
             "#ed7953"
            ],
            [
             0.7777777777777778,
             "#fb9f3a"
            ],
            [
             0.8888888888888888,
             "#fdca26"
            ],
            [
             1,
             "#f0f921"
            ]
           ],
           "sequentialminus": [
            [
             0,
             "#0d0887"
            ],
            [
             0.1111111111111111,
             "#46039f"
            ],
            [
             0.2222222222222222,
             "#7201a8"
            ],
            [
             0.3333333333333333,
             "#9c179e"
            ],
            [
             0.4444444444444444,
             "#bd3786"
            ],
            [
             0.5555555555555556,
             "#d8576b"
            ],
            [
             0.6666666666666666,
             "#ed7953"
            ],
            [
             0.7777777777777778,
             "#fb9f3a"
            ],
            [
             0.8888888888888888,
             "#fdca26"
            ],
            [
             1,
             "#f0f921"
            ]
           ]
          },
          "colorway": [
           "#636efa",
           "#EF553B",
           "#00cc96",
           "#ab63fa",
           "#FFA15A",
           "#19d3f3",
           "#FF6692",
           "#B6E880",
           "#FF97FF",
           "#FECB52"
          ],
          "font": {
           "color": "#2a3f5f"
          },
          "geo": {
           "bgcolor": "white",
           "lakecolor": "white",
           "landcolor": "#E5ECF6",
           "showlakes": true,
           "showland": true,
           "subunitcolor": "white"
          },
          "hoverlabel": {
           "align": "left"
          },
          "hovermode": "closest",
          "mapbox": {
           "style": "light"
          },
          "paper_bgcolor": "white",
          "plot_bgcolor": "#E5ECF6",
          "polar": {
           "angularaxis": {
            "gridcolor": "white",
            "linecolor": "white",
            "ticks": ""
           },
           "bgcolor": "#E5ECF6",
           "radialaxis": {
            "gridcolor": "white",
            "linecolor": "white",
            "ticks": ""
           }
          },
          "scene": {
           "xaxis": {
            "backgroundcolor": "#E5ECF6",
            "gridcolor": "white",
            "gridwidth": 2,
            "linecolor": "white",
            "showbackground": true,
            "ticks": "",
            "zerolinecolor": "white"
           },
           "yaxis": {
            "backgroundcolor": "#E5ECF6",
            "gridcolor": "white",
            "gridwidth": 2,
            "linecolor": "white",
            "showbackground": true,
            "ticks": "",
            "zerolinecolor": "white"
           },
           "zaxis": {
            "backgroundcolor": "#E5ECF6",
            "gridcolor": "white",
            "gridwidth": 2,
            "linecolor": "white",
            "showbackground": true,
            "ticks": "",
            "zerolinecolor": "white"
           }
          },
          "shapedefaults": {
           "line": {
            "color": "#2a3f5f"
           }
          },
          "ternary": {
           "aaxis": {
            "gridcolor": "white",
            "linecolor": "white",
            "ticks": ""
           },
           "baxis": {
            "gridcolor": "white",
            "linecolor": "white",
            "ticks": ""
           },
           "bgcolor": "#E5ECF6",
           "caxis": {
            "gridcolor": "white",
            "linecolor": "white",
            "ticks": ""
           }
          },
          "title": {
           "x": 0.05
          },
          "xaxis": {
           "automargin": true,
           "gridcolor": "white",
           "linecolor": "white",
           "ticks": "",
           "title": {
            "standoff": 15
           },
           "zerolinecolor": "white",
           "zerolinewidth": 2
          },
          "yaxis": {
           "automargin": true,
           "gridcolor": "white",
           "linecolor": "white",
           "ticks": "",
           "title": {
            "standoff": 15
           },
           "zerolinecolor": "white",
           "zerolinewidth": 2
          }
         }
        },
        "title": {
         "text": "Molecular Structure with Bonds"
        },
        "width": 800
       }
      }
     },
     "metadata": {},
     "output_type": "display_data"
    }
   ],
   "source": [
    "# Function to plot molecule using Plotly\n",
    "def plot_molecule(df, bonds):\n",
    "    colors = [element_colors.get(elem, 'gray') for elem in df['Element']]\n",
    "\n",
    "    fig = go.Figure()\n",
    "\n",
    "    # Plot atoms\n",
    "    fig.add_trace(go.Scatter3d(\n",
    "        x=df['X'],\n",
    "        y=df['Y'],\n",
    "        z=df['Z'],\n",
    "        mode='markers',\n",
    "        marker=dict(\n",
    "            size=5,\n",
    "            color=colors,\n",
    "            opacity=0.8,\n",
    "        ),\n",
    "        text=df['Element'],\n",
    "    ))\n",
    "\n",
    "    # Plot bonds\n",
    "    for bond in bonds:\n",
    "        atom1 = df.iloc[bond[0]]\n",
    "        atom2 = df.iloc[bond[1]]\n",
    "        fig.add_trace(go.Scatter3d(\n",
    "            x=[atom1['X'], atom2['X']],\n",
    "            y=[atom1['Y'], atom2['Y']],\n",
    "            z=[atom1['Z'], atom2['Z']],\n",
    "            mode='lines',\n",
    "            line=dict(color='gray', width=2)\n",
    "        ))\n",
    "\n",
    "    fig.update_layout(\n",
    "        scene=dict(\n",
    "            xaxis_title='X',\n",
    "            yaxis_title='Y',\n",
    "            zaxis_title='Z'\n",
    "        ),\n",
    "        title='Molecular Structure with Bonds',\n",
    "        width=800,\n",
    "        height=800,\n",
    "    )\n",
    "\n",
    "    fig.show()\n",
    "\n",
    "# File path to your XYZ file\n",
    "file_path = './data/atoms/train/id_3083.xyz'\n",
    "\n",
    "# Read the XYZ file\n",
    "num_atoms, comment, df = read_xyz(file_path)\n",
    "\n",
    "# Identify bonds\n",
    "bonds = identify_bonds(df)\n",
    "\n",
    "# Plot the molecule\n",
    "plot_molecule(df, bonds)"
   ]
  },
  {
   "cell_type": "code",
   "execution_count": null,
   "metadata": {
    "id": "E0eL197a8H69",
    "outputId": "44eddb22-f7aa-441d-bfb1-7a912dc2b00b"
   },
   "outputs": [
    {
     "name": "stdout",
     "output_type": "stream",
     "text": [
      "Training DataFrame:\n",
      "  Element         X         Y         Z      File\n",
      "0       C -1.878470  0.486409  0.308974  id_1.xyz\n",
      "1       C -0.351616  0.404860  0.289385  id_1.xyz\n",
      "2       C  0.135151 -0.906788  0.788723  id_1.xyz\n",
      "3       C  0.511361 -1.964942  1.234970  id_1.xyz\n",
      "4       O  0.092637  0.655339 -1.050539  id_1.xyz\n",
      "Test DataFrame:\n",
      "  Element         X         Y         Z         File\n",
      "0       C -1.734995 -0.063686  1.222585  id_4629.xyz\n",
      "1       C -0.235060  0.044631  0.896108  id_4629.xyz\n",
      "2       C  0.226121 -1.131579  0.017794  id_4629.xyz\n",
      "3       C  0.145184 -1.068798 -1.475941  id_4629.xyz\n",
      "4       C  1.479072 -1.049343 -0.798249  id_4629.xyz\n"
     ]
    }
   ],
   "source": [
    "import os\n",
    "# Define the path to your data directories\n",
    "train_dir = './data/atoms/train'\n",
    "test_dir = './data/atoms/test'\n",
    "\n",
    "# Function to read XYZ file\n",
    "def read_xyz(file_path):\n",
    "    with open(file_path, 'r') as file:\n",
    "        num_atoms = int(file.readline().strip())\n",
    "        comment = file.readline().strip()\n",
    "        df = pd.read_csv(file, delim_whitespace=True, skiprows=0, names=['Element', 'X', 'Y', 'Z'], nrows=num_atoms)\n",
    "    return df\n",
    "\n",
    "# Function to process all XYZ files in a directory\n",
    "def process_directory(directory):\n",
    "    data = []\n",
    "    file_names = []\n",
    "\n",
    "    for file_name in sorted(os.listdir(directory)):\n",
    "        if file_name.endswith('.xyz'):\n",
    "            file_path = os.path.join(directory, file_name)\n",
    "            df = read_xyz(file_path)\n",
    "            df['File'] = file_name\n",
    "            data.append(df)\n",
    "            file_names.append(file_name)\n",
    "\n",
    "    return pd.concat(data, ignore_index=True), file_names\n",
    "\n",
    "# Process training and test directories\n",
    "train_df, train_files = process_directory(train_dir)\n",
    "test_df, test_files = process_directory(test_dir)\n",
    "\n",
    "# Save the dataframes to CSV files (optional)\n",
    "train_df.to_csv('train_data.csv', index=False)\n",
    "test_df.to_csv('test_data.csv', index=False)\n",
    "\n",
    "print(\"Training DataFrame:\")\n",
    "print(train_df.head())\n",
    "\n",
    "print(\"Test DataFrame:\")\n",
    "print(test_df.head())"
   ]
  },
  {
   "cell_type": "code",
   "execution_count": null,
   "metadata": {
    "id": "-FwBDp7m8H69",
    "outputId": "a9fc8258-1d74-489e-efae-12e496d6cfe8"
   },
   "outputs": [
    {
     "name": "stdout",
     "output_type": "stream",
     "text": [
      "Training DataFrame:\n",
      "            Element_1       X_1       Y_1       Z_1 Element_2       X_2  \\\n",
      "id_1.xyz            C -1.878470  0.486409  0.308974         C -0.351616   \n",
      "id_10.xyz           C -2.042040 -0.903539 -0.349801         C -0.528149   \n",
      "id_100.xyz          C -2.307824 -2.023285  0.325642         C -1.368396   \n",
      "id_1000.xyz         C  1.038508  1.168461 -1.240941         C -0.033616   \n",
      "id_1001.xyz         C -2.277999  0.503510  0.633803         C -0.754938   \n",
      "\n",
      "                  Y_2       Z_2 Element_3       X_3  ...      Y_21      Z_21  \\\n",
      "id_1.xyz     0.404860  0.289385         C  0.135151  ...       NaN       NaN   \n",
      "id_10.xyz   -0.803134 -0.478790         C  0.322682  ...       NaN       NaN   \n",
      "id_100.xyz  -1.054433 -0.386511         C -0.769955  ...  1.167009  2.070655   \n",
      "id_1000.xyz  0.316974 -0.530957         C -1.352727  ...       NaN       NaN   \n",
      "id_1001.xyz  0.481938  0.624453         C -0.184698  ...       NaN       NaN   \n",
      "\n",
      "            Element_22  X_22  Y_22  Z_22 Element_23  X_23  Y_23  Z_23  \n",
      "id_1.xyz          None   NaN   NaN   NaN       None   NaN   NaN   NaN  \n",
      "id_10.xyz         None   NaN   NaN   NaN       None   NaN   NaN   NaN  \n",
      "id_100.xyz        None   NaN   NaN   NaN       None   NaN   NaN   NaN  \n",
      "id_1000.xyz       None   NaN   NaN   NaN       None   NaN   NaN   NaN  \n",
      "id_1001.xyz       None   NaN   NaN   NaN       None   NaN   NaN   NaN  \n",
      "\n",
      "[5 rows x 92 columns]\n",
      "Test DataFrame:\n",
      "            Element_1       X_1       Y_1       Z_1 Element_2       X_2  \\\n",
      "id_4629.xyz         C -1.734995 -0.063686  1.222585         C -0.235060   \n",
      "id_4630.xyz         C -1.070546 -0.399921  1.709606         C -1.439623   \n",
      "id_4631.xyz         C -2.505321 -1.404818  0.781238         C -0.982515   \n",
      "id_4632.xyz         C -1.444202  2.596479  0.957677         C -1.875951   \n",
      "id_4633.xyz         C -0.443127  2.787709  0.576434         C  0.639425   \n",
      "\n",
      "                  Y_2       Z_2 Element_3       X_3  ...      Y_21      Z_21  \\\n",
      "id_4629.xyz  0.044631  0.896108         C  0.226121  ...       NaN       NaN   \n",
      "id_4630.xyz -0.488456  0.234376         C -0.865681  ...       NaN       NaN   \n",
      "id_4631.xyz -1.363112  0.767728         C -0.433845  ...       NaN       NaN   \n",
      "id_4632.xyz  1.463613  0.033935         C -1.131858  ... -1.998831 -0.039739   \n",
      "id_4633.xyz  1.833452  0.973063         C  0.742544  ...       NaN       NaN   \n",
      "\n",
      "            Element_22  X_22  Y_22  Z_22 Element_23  X_23  Y_23  Z_23  \n",
      "id_4629.xyz       None   NaN   NaN   NaN       None   NaN   NaN   NaN  \n",
      "id_4630.xyz       None   NaN   NaN   NaN       None   NaN   NaN   NaN  \n",
      "id_4631.xyz       None   NaN   NaN   NaN       None   NaN   NaN   NaN  \n",
      "id_4632.xyz       None   NaN   NaN   NaN       None   NaN   NaN   NaN  \n",
      "id_4633.xyz       None   NaN   NaN   NaN       None   NaN   NaN   NaN  \n",
      "\n",
      "[5 rows x 92 columns]\n"
     ]
    }
   ],
   "source": [
    "import os\n",
    "import pandas as pd\n",
    "\n",
    "# Define the path to your data directories\n",
    "train_dir = './data/atoms/train'\n",
    "test_dir = './data/atoms/test'\n",
    "\n",
    "# Function to read XYZ file\n",
    "def read_xyz(file_path):\n",
    "    with open(file_path, 'r') as file:\n",
    "        num_atoms = int(file.readline().strip())\n",
    "        comment = file.readline().strip()\n",
    "        df = pd.read_csv(file, delim_whitespace=True, skiprows=0, names=['Element', 'X', 'Y', 'Z'], nrows=num_atoms)\n",
    "    return df, num_atoms, comment\n",
    "\n",
    "# Function to process all XYZ files in a directory and create a 2D DataFrame\n",
    "def process_directory(directory):\n",
    "    data = []\n",
    "    index = []\n",
    "\n",
    "    for file_name in sorted(os.listdir(directory)):\n",
    "        if file_name.endswith('.xyz'):\n",
    "            file_path = os.path.join(directory, file_name)\n",
    "            df, num_atoms, comment = read_xyz(file_path)\n",
    "            # Flatten the data for the DataFrame\n",
    "            row = []\n",
    "            for _, row_data in df.iterrows():\n",
    "                row.extend([row_data['Element'], row_data['X'], row_data['Y'], row_data['Z']])\n",
    "            data.append(row)\n",
    "            index.append(file_name)\n",
    "\n",
    "    # Create a DataFrame with a dynamic number of columns based on the maximum atoms in any molecule\n",
    "    columns = []\n",
    "    max_atoms = max([len(row) // 4 for row in data])\n",
    "    for i in range(max_atoms):\n",
    "        columns.extend([f'Element_{i+1}', f'X_{i+1}', f'Y_{i+1}', f'Z_{i+1}'])\n",
    "\n",
    "    return pd.DataFrame(data, index=index, columns=columns)\n",
    "\n",
    "# Process training and test directories\n",
    "train_df = process_directory(train_dir)\n",
    "test_df = process_directory(test_dir)\n",
    "\n",
    "# Save the dataframes to CSV files (optional)\n",
    "train_df.to_csv('train_data_2d.csv')\n",
    "test_df.to_csv('test_data_2d.csv')\n",
    "\n",
    "print(\"Training DataFrame:\")\n",
    "print(train_df.head())\n",
    "\n",
    "print(\"Test DataFrame:\")\n",
    "print(test_df.head())\n"
   ]
  },
  {
   "cell_type": "code",
   "execution_count": null,
   "metadata": {
    "id": "F8GG4xFp8H6-",
    "outputId": "08d0c5d9-fc62-497b-8921-56c5d8c3b6f5"
   },
   "outputs": [
    {
     "data": {
      "text/html": [
       "<div>\n",
       "<style scoped>\n",
       "    .dataframe tbody tr th:only-of-type {\n",
       "        vertical-align: middle;\n",
       "    }\n",
       "\n",
       "    .dataframe tbody tr th {\n",
       "        vertical-align: top;\n",
       "    }\n",
       "\n",
       "    .dataframe thead th {\n",
       "        text-align: right;\n",
       "    }\n",
       "</style>\n",
       "<table border=\"1\" class=\"dataframe\">\n",
       "  <thead>\n",
       "    <tr style=\"text-align: right;\">\n",
       "      <th></th>\n",
       "      <th>Element_1</th>\n",
       "      <th>X_1</th>\n",
       "      <th>Y_1</th>\n",
       "      <th>Z_1</th>\n",
       "      <th>Element_2</th>\n",
       "      <th>X_2</th>\n",
       "      <th>Y_2</th>\n",
       "      <th>Z_2</th>\n",
       "      <th>Element_3</th>\n",
       "      <th>X_3</th>\n",
       "      <th>...</th>\n",
       "      <th>Y_21</th>\n",
       "      <th>Z_21</th>\n",
       "      <th>Element_22</th>\n",
       "      <th>X_22</th>\n",
       "      <th>Y_22</th>\n",
       "      <th>Z_22</th>\n",
       "      <th>Element_23</th>\n",
       "      <th>X_23</th>\n",
       "      <th>Y_23</th>\n",
       "      <th>Z_23</th>\n",
       "    </tr>\n",
       "  </thead>\n",
       "  <tbody>\n",
       "    <tr>\n",
       "      <th>id_1.xyz</th>\n",
       "      <td>C</td>\n",
       "      <td>-1.878470</td>\n",
       "      <td>0.486409</td>\n",
       "      <td>0.308974</td>\n",
       "      <td>C</td>\n",
       "      <td>-0.351616</td>\n",
       "      <td>0.404860</td>\n",
       "      <td>0.289385</td>\n",
       "      <td>C</td>\n",
       "      <td>0.135151</td>\n",
       "      <td>...</td>\n",
       "      <td>NaN</td>\n",
       "      <td>NaN</td>\n",
       "      <td>None</td>\n",
       "      <td>NaN</td>\n",
       "      <td>NaN</td>\n",
       "      <td>NaN</td>\n",
       "      <td>None</td>\n",
       "      <td>NaN</td>\n",
       "      <td>NaN</td>\n",
       "      <td>NaN</td>\n",
       "    </tr>\n",
       "    <tr>\n",
       "      <th>id_10.xyz</th>\n",
       "      <td>C</td>\n",
       "      <td>-2.042040</td>\n",
       "      <td>-0.903539</td>\n",
       "      <td>-0.349801</td>\n",
       "      <td>C</td>\n",
       "      <td>-0.528149</td>\n",
       "      <td>-0.803134</td>\n",
       "      <td>-0.478790</td>\n",
       "      <td>C</td>\n",
       "      <td>0.322682</td>\n",
       "      <td>...</td>\n",
       "      <td>NaN</td>\n",
       "      <td>NaN</td>\n",
       "      <td>None</td>\n",
       "      <td>NaN</td>\n",
       "      <td>NaN</td>\n",
       "      <td>NaN</td>\n",
       "      <td>None</td>\n",
       "      <td>NaN</td>\n",
       "      <td>NaN</td>\n",
       "      <td>NaN</td>\n",
       "    </tr>\n",
       "    <tr>\n",
       "      <th>id_100.xyz</th>\n",
       "      <td>C</td>\n",
       "      <td>-2.307824</td>\n",
       "      <td>-2.023285</td>\n",
       "      <td>0.325642</td>\n",
       "      <td>C</td>\n",
       "      <td>-1.368396</td>\n",
       "      <td>-1.054433</td>\n",
       "      <td>-0.386511</td>\n",
       "      <td>C</td>\n",
       "      <td>-0.769955</td>\n",
       "      <td>...</td>\n",
       "      <td>1.167009</td>\n",
       "      <td>2.070655</td>\n",
       "      <td>None</td>\n",
       "      <td>NaN</td>\n",
       "      <td>NaN</td>\n",
       "      <td>NaN</td>\n",
       "      <td>None</td>\n",
       "      <td>NaN</td>\n",
       "      <td>NaN</td>\n",
       "      <td>NaN</td>\n",
       "    </tr>\n",
       "    <tr>\n",
       "      <th>id_1000.xyz</th>\n",
       "      <td>C</td>\n",
       "      <td>1.038508</td>\n",
       "      <td>1.168461</td>\n",
       "      <td>-1.240941</td>\n",
       "      <td>C</td>\n",
       "      <td>-0.033616</td>\n",
       "      <td>0.316974</td>\n",
       "      <td>-0.530957</td>\n",
       "      <td>C</td>\n",
       "      <td>-1.352727</td>\n",
       "      <td>...</td>\n",
       "      <td>NaN</td>\n",
       "      <td>NaN</td>\n",
       "      <td>None</td>\n",
       "      <td>NaN</td>\n",
       "      <td>NaN</td>\n",
       "      <td>NaN</td>\n",
       "      <td>None</td>\n",
       "      <td>NaN</td>\n",
       "      <td>NaN</td>\n",
       "      <td>NaN</td>\n",
       "    </tr>\n",
       "    <tr>\n",
       "      <th>id_1001.xyz</th>\n",
       "      <td>C</td>\n",
       "      <td>-2.277999</td>\n",
       "      <td>0.503510</td>\n",
       "      <td>0.633803</td>\n",
       "      <td>C</td>\n",
       "      <td>-0.754938</td>\n",
       "      <td>0.481938</td>\n",
       "      <td>0.624453</td>\n",
       "      <td>C</td>\n",
       "      <td>-0.184698</td>\n",
       "      <td>...</td>\n",
       "      <td>NaN</td>\n",
       "      <td>NaN</td>\n",
       "      <td>None</td>\n",
       "      <td>NaN</td>\n",
       "      <td>NaN</td>\n",
       "      <td>NaN</td>\n",
       "      <td>None</td>\n",
       "      <td>NaN</td>\n",
       "      <td>NaN</td>\n",
       "      <td>NaN</td>\n",
       "    </tr>\n",
       "  </tbody>\n",
       "</table>\n",
       "<p>5 rows × 92 columns</p>\n",
       "</div>"
      ],
      "text/plain": [
       "            Element_1       X_1       Y_1       Z_1 Element_2       X_2  \\\n",
       "id_1.xyz            C -1.878470  0.486409  0.308974         C -0.351616   \n",
       "id_10.xyz           C -2.042040 -0.903539 -0.349801         C -0.528149   \n",
       "id_100.xyz          C -2.307824 -2.023285  0.325642         C -1.368396   \n",
       "id_1000.xyz         C  1.038508  1.168461 -1.240941         C -0.033616   \n",
       "id_1001.xyz         C -2.277999  0.503510  0.633803         C -0.754938   \n",
       "\n",
       "                  Y_2       Z_2 Element_3       X_3  ...      Y_21      Z_21  \\\n",
       "id_1.xyz     0.404860  0.289385         C  0.135151  ...       NaN       NaN   \n",
       "id_10.xyz   -0.803134 -0.478790         C  0.322682  ...       NaN       NaN   \n",
       "id_100.xyz  -1.054433 -0.386511         C -0.769955  ...  1.167009  2.070655   \n",
       "id_1000.xyz  0.316974 -0.530957         C -1.352727  ...       NaN       NaN   \n",
       "id_1001.xyz  0.481938  0.624453         C -0.184698  ...       NaN       NaN   \n",
       "\n",
       "            Element_22  X_22  Y_22  Z_22 Element_23  X_23  Y_23  Z_23  \n",
       "id_1.xyz          None   NaN   NaN   NaN       None   NaN   NaN   NaN  \n",
       "id_10.xyz         None   NaN   NaN   NaN       None   NaN   NaN   NaN  \n",
       "id_100.xyz        None   NaN   NaN   NaN       None   NaN   NaN   NaN  \n",
       "id_1000.xyz       None   NaN   NaN   NaN       None   NaN   NaN   NaN  \n",
       "id_1001.xyz       None   NaN   NaN   NaN       None   NaN   NaN   NaN  \n",
       "\n",
       "[5 rows x 92 columns]"
      ]
     },
     "execution_count": 48,
     "metadata": {},
     "output_type": "execute_result"
    }
   ],
   "source": [
    "train_df.head()"
   ]
  },
  {
   "cell_type": "code",
   "execution_count": null,
   "metadata": {
    "id": "A9iS2pSY8H6-"
   },
   "outputs": [],
   "source": [
    "import os\n",
    "import ase.io\n",
    "import pandas as pd\n",
    "\n",
    "def read_data(path):\n",
    "    molecule_filenames = sorted(os.listdir(path), key=numerical_sort)\n",
    "    molecules = {'id': [], 'number_atoms': [], 'atomic_numbers': [], 'positions': [], 'center_of_mass': [], 'mass': []}\n",
    "\n",
    "    for name in molecule_filenames:\n",
    "        id = int(name.split('.')[0][3:])\n",
    "        molecule = ase.io.read(path + name)\n",
    "        molecules['id'].append(id)\n",
    "        molecules['number_atoms'].append(len(molecule.get_atomic_numbers()))\n",
    "        molecules['atomic_numbers'].append(molecule.get_atomic_numbers())\n",
    "        molecules['positions'].append(molecule.get_positions())\n",
    "        molecules['center_of_mass'].append(molecule.get_center_of_mass())\n",
    "        molecules['mass'].append(molecule.get_masses())\n",
    "\n",
    "\n",
    "    molecules = pd.DataFrame(molecules).set_index('id')\n",
    "    max_num_atoms = molecules['number_atoms'].max()\n",
    "\n",
    "    def coulomb_from_row(row, path, perm):\n",
    "        cm = CoulombMatrix(n_atoms_max=23, permutation=perm)\n",
    "        if perm == \"sorted_l2\":\n",
    "            matrix = cm.create(ase.io.read(path + \"/id_\" + str(row.name) + \".xyz\")).reshape((23, 23))\n",
    "        else:\n",
    "            matrix = cm.create(ase.io.read(path + \"/id_\" + str(row.name) + \".xyz\"))\n",
    "        return matrix\n",
    "\n",
    "    molecules[\"coulomb_matrix\"] = molecules.apply(lambda row: coulomb_from_row(row, path, \"sorted_l2\"), axis=1)\n",
    "    molecules[\"eigen_coulomb_matrix\"] = molecules.apply(lambda row: coulomb_from_row(row, path, \"eigenspectrum\"), axis=1)\n",
    "\n",
    "    return molecules"
   ]
  },
  {
   "cell_type": "code",
   "execution_count": null,
   "metadata": {
    "id": "Vd8u-4is8H6-"
   },
   "outputs": [],
   "source": []
  },
  {
   "cell_type": "code",
   "execution_count": null,
   "metadata": {
    "id": "YbVz9XvX8H6-"
   },
   "outputs": [],
   "source": []
  },
  {
   "cell_type": "markdown",
   "metadata": {
    "id": "CBeMrBBm8H6-"
   },
   "source": [
    "## Data loading"
   ]
  },
  {
   "cell_type": "code",
   "execution_count": null,
   "metadata": {
    "id": "t6d8xPuf8H6_"
   },
   "outputs": [],
   "source": [
    "import numpy as np\n",
    "from dscribe.descriptors import CoulombMatrix\n",
    "import numpy as np\n",
    "import torch\n",
    "import torch.nn as nn\n",
    "import torch.optim as optim\n",
    "from torch.utils.data import DataLoader, TensorDataset, Subset\n",
    "import warnings\n",
    "warnings.filterwarnings(\"ignore\")\n",
    "import os\n",
    "import ase.io\n",
    "import pandas as pd\n",
    "import re\n"
   ]
  },
  {
   "cell_type": "code",
   "execution_count": null,
   "metadata": {
    "id": "zrtxyjOz8H6_"
   },
   "outputs": [],
   "source": [
    "def numerical_sort(value):\n",
    "    import re\n",
    "    parts = re.split(r'(\\d+)', value)\n",
    "    return [int(part) if part.isdigit() else part for part in parts]"
   ]
  },
  {
   "cell_type": "code",
   "execution_count": null,
   "metadata": {
    "id": "eo-hfrwr8H6_"
   },
   "outputs": [],
   "source": [
    "def coulomb_from_row(row, path, perm, sigma=None):\n",
    "    if perm != \"random\":\n",
    "        sigma = None\n",
    "    cm = CoulombMatrix(n_atoms_max=23, permutation=perm, sigma=sigma)\n",
    "    if perm == \"sorted_l2\" or perm == \"random\":\n",
    "        matrix = cm.create(ase.io.read(path + \"/id_\" + str(row.name) + \".xyz\")).reshape((23, 23))\n",
    "    else:\n",
    "        matrix = cm.create(ase.io.read(path + \"/id_\" + str(row.name) + \".xyz\"))\n",
    "    return matrix\n",
    "\n",
    "\n",
    "def read_data(path, perm = \"random\", sigma = 1e-3):\n",
    "    molecule_filenames = sorted(os.listdir(path), key=numerical_sort)\n",
    "    molecules = {'id': [], 'number_atoms': [], 'atomic_numbers': [], 'positions': [], 'center_of_mass': [], 'mass': [], 'ind': []}\n",
    "\n",
    "    for name in molecule_filenames:\n",
    "        id = int(name.split('.')[0][3:])\n",
    "        molecule = ase.io.read(path + name)\n",
    "        molecules['id'].append(id)\n",
    "        molecules['number_atoms'].append(len(molecule.get_atomic_numbers()))\n",
    "        molecules['atomic_numbers'].append(molecule.get_atomic_numbers())\n",
    "        molecules['positions'].append(molecule.get_positions())\n",
    "        molecules['center_of_mass'].append(molecule.get_center_of_mass())\n",
    "        molecules['mass'].append(molecule.get_masses())\n",
    "        molecules['ind'].append(id)\n",
    "\n",
    "\n",
    "    molecules = pd.DataFrame(molecules).set_index('ind')\n",
    "    max_num_atoms = molecules['number_atoms'].max()\n",
    "\n",
    "    molecules[\"coulomb_matrix\"] = molecules.apply(lambda row: coulomb_from_row(row, path, perm, sigma), axis=1)\n",
    "    molecules[\"eigen_coulomb_matrix\"] = molecules.apply(lambda row: coulomb_from_row(row, path, perm = \"eigenspectrum\"), axis=1)\n",
    "\n",
    "    return molecules"
   ]
  },
  {
   "cell_type": "code",
   "execution_count": null,
   "metadata": {
    "id": "fOjkOWEc8H7A"
   },
   "outputs": [],
   "source": [
    "# Define the path to your data directories\n",
    "train_dir = './data/atoms/train/'\n",
    "test_dir = './data/atoms/test/'\n",
    "\n",
    "# Process training and test directories\n",
    "train_df = read_data(train_dir)\n",
    "test_df = read_data(test_dir)\n"
   ]
  },
  {
   "cell_type": "code",
   "execution_count": null,
   "metadata": {
    "id": "6r7VL6nq8H7A",
    "outputId": "cda0d370-524f-4feb-ddb7-449f76fc982b"
   },
   "outputs": [
    {
     "data": {
      "text/html": [
       "<div>\n",
       "<style scoped>\n",
       "    .dataframe tbody tr th:only-of-type {\n",
       "        vertical-align: middle;\n",
       "    }\n",
       "\n",
       "    .dataframe tbody tr th {\n",
       "        vertical-align: top;\n",
       "    }\n",
       "\n",
       "    .dataframe thead th {\n",
       "        text-align: right;\n",
       "    }\n",
       "</style>\n",
       "<table border=\"1\" class=\"dataframe\">\n",
       "  <thead>\n",
       "    <tr style=\"text-align: right;\">\n",
       "      <th></th>\n",
       "      <th>id</th>\n",
       "      <th>number_atoms</th>\n",
       "      <th>atomic_numbers</th>\n",
       "      <th>positions</th>\n",
       "      <th>center_of_mass</th>\n",
       "      <th>mass</th>\n",
       "      <th>coulomb_matrix</th>\n",
       "      <th>eigen_coulomb_matrix</th>\n",
       "    </tr>\n",
       "    <tr>\n",
       "      <th>ind</th>\n",
       "      <th></th>\n",
       "      <th></th>\n",
       "      <th></th>\n",
       "      <th></th>\n",
       "      <th></th>\n",
       "      <th></th>\n",
       "      <th></th>\n",
       "      <th></th>\n",
       "    </tr>\n",
       "  </thead>\n",
       "  <tbody>\n",
       "    <tr>\n",
       "      <th>4629</th>\n",
       "      <td>4629</td>\n",
       "      <td>17</td>\n",
       "      <td>[6, 6, 6, 6, 6, 6, 6, 1, 1, 1, 1, 1, 1, 1, 1, ...</td>\n",
       "      <td>[[-1.734995, -0.063686, 1.222585], [-0.23506, ...</td>\n",
       "      <td>[0.01767442501354119, 0.033396882398547156, -0...</td>\n",
       "      <td>[12.011, 12.011, 12.011, 12.011, 12.011, 12.01...</td>\n",
       "      <td>[[36.85810519942594, 23.396394949250833, 24.43...</td>\n",
       "      <td>[138.40323438973292, 48.839905908342224, 34.77...</td>\n",
       "    </tr>\n",
       "    <tr>\n",
       "      <th>4630</th>\n",
       "      <td>4630</td>\n",
       "      <td>16</td>\n",
       "      <td>[6, 6, 6, 6, 6, 8, 1, 1, 1, 1, 1, 1, 1, 1, 1, 1]</td>\n",
       "      <td>[[-1.070546, -0.399921, 1.709606], [-1.439623,...</td>\n",
       "      <td>[0.05339911412450369, 0.016744635440128174, -0...</td>\n",
       "      <td>[12.011, 12.011, 12.011, 12.011, 12.011, 15.99...</td>\n",
       "      <td>[[73.51669471981023, 33.636195376267544, 33.70...</td>\n",
       "      <td>[148.05504636678012, 52.164078091524026, 27.64...</td>\n",
       "    </tr>\n",
       "    <tr>\n",
       "      <th>4631</th>\n",
       "      <td>4631</td>\n",
       "      <td>18</td>\n",
       "      <td>[6, 6, 6, 6, 6, 8, 1, 1, 1, 1, 1, 1, 1, 1, 1, ...</td>\n",
       "      <td>[[-2.505321, -1.404818, 0.781238], [-0.982515,...</td>\n",
       "      <td>[0.03425651034600117, 0.04164333920589904, -0....</td>\n",
       "      <td>[12.011, 12.011, 12.011, 12.011, 12.011, 15.99...</td>\n",
       "      <td>[[73.51669471981023, 33.828658368210945, 19.60...</td>\n",
       "      <td>[135.24703637353662, 60.98910276500069, 32.598...</td>\n",
       "    </tr>\n",
       "    <tr>\n",
       "      <th>4632</th>\n",
       "      <td>4632</td>\n",
       "      <td>21</td>\n",
       "      <td>[6, 6, 6, 6, 6, 6, 6, 1, 1, 1, 1, 1, 1, 1, 1, ...</td>\n",
       "      <td>[[-1.444202, 2.596479, 0.957677], [-1.875951, ...</td>\n",
       "      <td>[0.01955953527380867, -0.028322585279410006, -...</td>\n",
       "      <td>[12.011, 12.011, 12.011, 12.011, 12.011, 12.01...</td>\n",
       "      <td>[[36.85810519942594, 23.635952489255757, 14.16...</td>\n",
       "      <td>[131.45194183591258, 57.84179424991112, 29.641...</td>\n",
       "    </tr>\n",
       "    <tr>\n",
       "      <th>4633</th>\n",
       "      <td>4633</td>\n",
       "      <td>19</td>\n",
       "      <td>[6, 6, 6, 6, 6, 6, 6, 1, 1, 1, 1, 1, 1, 1, 1, ...</td>\n",
       "      <td>[[-0.443127, 2.787709, 0.576434], [0.639425, 1...</td>\n",
       "      <td>[0.011934007964813427, -0.005589607478190333, ...</td>\n",
       "      <td>[12.011, 12.011, 12.011, 12.011, 12.011, 12.01...</td>\n",
       "      <td>[[36.85810519942594, 23.93516984124086, 14.119...</td>\n",
       "      <td>[136.08305643926408, 53.90883230741032, 26.175...</td>\n",
       "    </tr>\n",
       "  </tbody>\n",
       "</table>\n",
       "</div>"
      ],
      "text/plain": [
       "        id  number_atoms                                     atomic_numbers  \\\n",
       "ind                                                                           \n",
       "4629  4629            17  [6, 6, 6, 6, 6, 6, 6, 1, 1, 1, 1, 1, 1, 1, 1, ...   \n",
       "4630  4630            16   [6, 6, 6, 6, 6, 8, 1, 1, 1, 1, 1, 1, 1, 1, 1, 1]   \n",
       "4631  4631            18  [6, 6, 6, 6, 6, 8, 1, 1, 1, 1, 1, 1, 1, 1, 1, ...   \n",
       "4632  4632            21  [6, 6, 6, 6, 6, 6, 6, 1, 1, 1, 1, 1, 1, 1, 1, ...   \n",
       "4633  4633            19  [6, 6, 6, 6, 6, 6, 6, 1, 1, 1, 1, 1, 1, 1, 1, ...   \n",
       "\n",
       "                                              positions  \\\n",
       "ind                                                       \n",
       "4629  [[-1.734995, -0.063686, 1.222585], [-0.23506, ...   \n",
       "4630  [[-1.070546, -0.399921, 1.709606], [-1.439623,...   \n",
       "4631  [[-2.505321, -1.404818, 0.781238], [-0.982515,...   \n",
       "4632  [[-1.444202, 2.596479, 0.957677], [-1.875951, ...   \n",
       "4633  [[-0.443127, 2.787709, 0.576434], [0.639425, 1...   \n",
       "\n",
       "                                         center_of_mass  \\\n",
       "ind                                                       \n",
       "4629  [0.01767442501354119, 0.033396882398547156, -0...   \n",
       "4630  [0.05339911412450369, 0.016744635440128174, -0...   \n",
       "4631  [0.03425651034600117, 0.04164333920589904, -0....   \n",
       "4632  [0.01955953527380867, -0.028322585279410006, -...   \n",
       "4633  [0.011934007964813427, -0.005589607478190333, ...   \n",
       "\n",
       "                                                   mass  \\\n",
       "ind                                                       \n",
       "4629  [12.011, 12.011, 12.011, 12.011, 12.011, 12.01...   \n",
       "4630  [12.011, 12.011, 12.011, 12.011, 12.011, 15.99...   \n",
       "4631  [12.011, 12.011, 12.011, 12.011, 12.011, 15.99...   \n",
       "4632  [12.011, 12.011, 12.011, 12.011, 12.011, 12.01...   \n",
       "4633  [12.011, 12.011, 12.011, 12.011, 12.011, 12.01...   \n",
       "\n",
       "                                         coulomb_matrix  \\\n",
       "ind                                                       \n",
       "4629  [[36.85810519942594, 23.396394949250833, 24.43...   \n",
       "4630  [[73.51669471981023, 33.636195376267544, 33.70...   \n",
       "4631  [[73.51669471981023, 33.828658368210945, 19.60...   \n",
       "4632  [[36.85810519942594, 23.635952489255757, 14.16...   \n",
       "4633  [[36.85810519942594, 23.93516984124086, 14.119...   \n",
       "\n",
       "                                   eigen_coulomb_matrix  \n",
       "ind                                                      \n",
       "4629  [138.40323438973292, 48.839905908342224, 34.77...  \n",
       "4630  [148.05504636678012, 52.164078091524026, 27.64...  \n",
       "4631  [135.24703637353662, 60.98910276500069, 32.598...  \n",
       "4632  [131.45194183591258, 57.84179424991112, 29.641...  \n",
       "4633  [136.08305643926408, 53.90883230741032, 26.175...  "
      ]
     },
     "execution_count": 54,
     "metadata": {},
     "output_type": "execute_result"
    }
   ],
   "source": [
    "test_df.head()"
   ]
  },
  {
   "cell_type": "code",
   "execution_count": null,
   "metadata": {
    "id": "JmL6QEYV8H7A",
    "outputId": "d48f25c9-0ffc-4fe9-be54-e24432f4ef9e"
   },
   "outputs": [
    {
     "data": {
      "text/html": [
       "<div>\n",
       "<style scoped>\n",
       "    .dataframe tbody tr th:only-of-type {\n",
       "        vertical-align: middle;\n",
       "    }\n",
       "\n",
       "    .dataframe tbody tr th {\n",
       "        vertical-align: top;\n",
       "    }\n",
       "\n",
       "    .dataframe thead th {\n",
       "        text-align: right;\n",
       "    }\n",
       "</style>\n",
       "<table border=\"1\" class=\"dataframe\">\n",
       "  <thead>\n",
       "    <tr style=\"text-align: right;\">\n",
       "      <th></th>\n",
       "      <th>id</th>\n",
       "      <th>number_atoms</th>\n",
       "      <th>atomic_numbers</th>\n",
       "      <th>positions</th>\n",
       "      <th>center_of_mass</th>\n",
       "      <th>mass</th>\n",
       "      <th>coulomb_matrix</th>\n",
       "      <th>eigen_coulomb_matrix</th>\n",
       "    </tr>\n",
       "    <tr>\n",
       "      <th>ind</th>\n",
       "      <th></th>\n",
       "      <th></th>\n",
       "      <th></th>\n",
       "      <th></th>\n",
       "      <th></th>\n",
       "      <th></th>\n",
       "      <th></th>\n",
       "      <th></th>\n",
       "    </tr>\n",
       "  </thead>\n",
       "  <tbody>\n",
       "    <tr>\n",
       "      <th>1</th>\n",
       "      <td>1</td>\n",
       "      <td>14</td>\n",
       "      <td>[6, 6, 6, 6, 8, 6, 1, 1, 1, 1, 1, 1, 1, 1]</td>\n",
       "      <td>[[-1.87847, 0.486409, 0.308974], [-0.351616, 0...</td>\n",
       "      <td>[0.002783576856320871, -0.025518726491357342, ...</td>\n",
       "      <td>[12.011, 12.011, 12.011, 12.011, 15.999, 12.01...</td>\n",
       "      <td>[[73.51669471981023, 33.47979858790621, 19.888...</td>\n",
       "      <td>[147.32316502630417, 49.9464294614058, 32.7407...</td>\n",
       "    </tr>\n",
       "    <tr>\n",
       "      <th>2</th>\n",
       "      <td>2</td>\n",
       "      <td>17</td>\n",
       "      <td>[6, 6, 7, 6, 6, 8, 1, 1, 1, 1, 1, 1, 1, 1, 1, ...</td>\n",
       "      <td>[[-1.506548, 0.649819, 0.126523], [0.032901, 0...</td>\n",
       "      <td>[0.03830577892705692, 0.02647899350445376, -0....</td>\n",
       "      <td>[12.011, 12.011, 14.007, 12.011, 12.011, 15.99...</td>\n",
       "      <td>[[73.51669471981023, 15.00925443667081, 19.594...</td>\n",
       "      <td>[147.75212595304654, 60.74769139657867, 31.838...</td>\n",
       "    </tr>\n",
       "    <tr>\n",
       "      <th>3</th>\n",
       "      <td>3</td>\n",
       "      <td>17</td>\n",
       "      <td>[6, 6, 6, 6, 6, 7, 1, 1, 1, 1, 1, 1, 1, 1, 1, ...</td>\n",
       "      <td>[[-1.778334, -1.197525, -0.314704], [-0.291557...</td>\n",
       "      <td>[0.018295885543159106, 0.037684240258367585, -...</td>\n",
       "      <td>[12.011, 12.011, 12.011, 12.011, 12.011, 14.00...</td>\n",
       "      <td>[[53.3587073998281, 28.54771791447044, 28.6260...</td>\n",
       "      <td>[137.49778416136076, 42.14633505197311, 28.352...</td>\n",
       "    </tr>\n",
       "    <tr>\n",
       "      <th>4</th>\n",
       "      <td>4</td>\n",
       "      <td>21</td>\n",
       "      <td>[6, 6, 6, 6, 6, 6, 6, 1, 1, 1, 1, 1, 1, 1, 1, ...</td>\n",
       "      <td>[[0.047547, -2.375963, 1.2181], [-0.971903, -1...</td>\n",
       "      <td>[-0.009647559258165355, 0.015382954170019107, ...</td>\n",
       "      <td>[12.011, 12.011, 12.011, 12.011, 12.011, 12.01...</td>\n",
       "      <td>[[36.85810519942594, 23.92440882422499, 23.622...</td>\n",
       "      <td>[135.8276032914913, 47.54725174416718, 35.9297...</td>\n",
       "    </tr>\n",
       "    <tr>\n",
       "      <th>5</th>\n",
       "      <td>5</td>\n",
       "      <td>15</td>\n",
       "      <td>[7, 6, 6, 6, 6, 8, 1, 1, 1, 1, 1, 1, 1, 1, 1]</td>\n",
       "      <td>[[-1.613596, -0.373258, -0.882902], [-0.146151...</td>\n",
       "      <td>[-0.01313524029521821, -0.016370987201854845, ...</td>\n",
       "      <td>[14.007, 12.011, 12.011, 12.011, 12.011, 15.99...</td>\n",
       "      <td>[[73.51669471981023, 19.153123951597866, 19.63...</td>\n",
       "      <td>[149.4745978374788, 53.18499469531628, 40.6995...</td>\n",
       "    </tr>\n",
       "  </tbody>\n",
       "</table>\n",
       "</div>"
      ],
      "text/plain": [
       "     id  number_atoms                                     atomic_numbers  \\\n",
       "ind                                                                        \n",
       "1     1            14         [6, 6, 6, 6, 8, 6, 1, 1, 1, 1, 1, 1, 1, 1]   \n",
       "2     2            17  [6, 6, 7, 6, 6, 8, 1, 1, 1, 1, 1, 1, 1, 1, 1, ...   \n",
       "3     3            17  [6, 6, 6, 6, 6, 7, 1, 1, 1, 1, 1, 1, 1, 1, 1, ...   \n",
       "4     4            21  [6, 6, 6, 6, 6, 6, 6, 1, 1, 1, 1, 1, 1, 1, 1, ...   \n",
       "5     5            15      [7, 6, 6, 6, 6, 8, 1, 1, 1, 1, 1, 1, 1, 1, 1]   \n",
       "\n",
       "                                             positions  \\\n",
       "ind                                                      \n",
       "1    [[-1.87847, 0.486409, 0.308974], [-0.351616, 0...   \n",
       "2    [[-1.506548, 0.649819, 0.126523], [0.032901, 0...   \n",
       "3    [[-1.778334, -1.197525, -0.314704], [-0.291557...   \n",
       "4    [[0.047547, -2.375963, 1.2181], [-0.971903, -1...   \n",
       "5    [[-1.613596, -0.373258, -0.882902], [-0.146151...   \n",
       "\n",
       "                                        center_of_mass  \\\n",
       "ind                                                      \n",
       "1    [0.002783576856320871, -0.025518726491357342, ...   \n",
       "2    [0.03830577892705692, 0.02647899350445376, -0....   \n",
       "3    [0.018295885543159106, 0.037684240258367585, -...   \n",
       "4    [-0.009647559258165355, 0.015382954170019107, ...   \n",
       "5    [-0.01313524029521821, -0.016370987201854845, ...   \n",
       "\n",
       "                                                  mass  \\\n",
       "ind                                                      \n",
       "1    [12.011, 12.011, 12.011, 12.011, 15.999, 12.01...   \n",
       "2    [12.011, 12.011, 14.007, 12.011, 12.011, 15.99...   \n",
       "3    [12.011, 12.011, 12.011, 12.011, 12.011, 14.00...   \n",
       "4    [12.011, 12.011, 12.011, 12.011, 12.011, 12.01...   \n",
       "5    [14.007, 12.011, 12.011, 12.011, 12.011, 15.99...   \n",
       "\n",
       "                                        coulomb_matrix  \\\n",
       "ind                                                      \n",
       "1    [[73.51669471981023, 33.47979858790621, 19.888...   \n",
       "2    [[73.51669471981023, 15.00925443667081, 19.594...   \n",
       "3    [[53.3587073998281, 28.54771791447044, 28.6260...   \n",
       "4    [[36.85810519942594, 23.92440882422499, 23.622...   \n",
       "5    [[73.51669471981023, 19.153123951597866, 19.63...   \n",
       "\n",
       "                                  eigen_coulomb_matrix  \n",
       "ind                                                     \n",
       "1    [147.32316502630417, 49.9464294614058, 32.7407...  \n",
       "2    [147.75212595304654, 60.74769139657867, 31.838...  \n",
       "3    [137.49778416136076, 42.14633505197311, 28.352...  \n",
       "4    [135.8276032914913, 47.54725174416718, 35.9297...  \n",
       "5    [149.4745978374788, 53.18499469531628, 40.6995...  "
      ]
     },
     "execution_count": 55,
     "metadata": {},
     "output_type": "execute_result"
    }
   ],
   "source": [
    "train_df.head()"
   ]
  },
  {
   "cell_type": "code",
   "execution_count": null,
   "metadata": {
    "id": "M26bd28T8H7A",
    "outputId": "da65591a-56df-476e-8e3f-a433d0bc5135"
   },
   "outputs": [
    {
     "data": {
      "text/plain": [
       "ind\n",
       "1       [[73.51669471981023, 33.47979858790621, 19.888...\n",
       "2       [[73.51669471981023, 15.00925443667081, 19.594...\n",
       "3       [[53.3587073998281, 28.54771791447044, 28.6260...\n",
       "4       [[36.85810519942594, 23.92440882422499, 23.622...\n",
       "5       [[73.51669471981023, 19.153123951597866, 19.63...\n",
       "                              ...                        \n",
       "4624    [[53.3587073998281, 28.60575153662479, 28.5374...\n",
       "4625    [[73.51669471981023, 10.574440388027199, 33.82...\n",
       "4626    [[36.85810519942594, 23.756319695886404, 14.28...\n",
       "4627    [[73.51669471981023, 33.5937653322432, 12.8497...\n",
       "4628    [[73.51669471981023, 33.897840123952264, 19.78...\n",
       "Name: coulomb_matrix, Length: 4628, dtype: object"
      ]
     },
     "execution_count": 56,
     "metadata": {},
     "output_type": "execute_result"
    }
   ],
   "source": [
    "train_df[\"coulomb_matrix\"]"
   ]
  },
  {
   "cell_type": "code",
   "execution_count": null,
   "metadata": {
    "id": "w_JVPIEp8H7A",
    "outputId": "72c2bac8-78ae-44b7-c6e5-769c0a28678c"
   },
   "outputs": [
    {
     "data": {
      "text/html": [
       "<div>\n",
       "<style scoped>\n",
       "    .dataframe tbody tr th:only-of-type {\n",
       "        vertical-align: middle;\n",
       "    }\n",
       "\n",
       "    .dataframe tbody tr th {\n",
       "        vertical-align: top;\n",
       "    }\n",
       "\n",
       "    .dataframe thead th {\n",
       "        text-align: right;\n",
       "    }\n",
       "</style>\n",
       "<table border=\"1\" class=\"dataframe\">\n",
       "  <thead>\n",
       "    <tr style=\"text-align: right;\">\n",
       "      <th></th>\n",
       "      <th>id</th>\n",
       "      <th>energy</th>\n",
       "    </tr>\n",
       "  </thead>\n",
       "  <tbody>\n",
       "    <tr>\n",
       "      <th>0</th>\n",
       "      <td>1</td>\n",
       "      <td>-67.806160</td>\n",
       "    </tr>\n",
       "    <tr>\n",
       "      <th>1</th>\n",
       "      <td>2</td>\n",
       "      <td>-74.104067</td>\n",
       "    </tr>\n",
       "    <tr>\n",
       "      <th>2</th>\n",
       "      <td>3</td>\n",
       "      <td>-76.189261</td>\n",
       "    </tr>\n",
       "    <tr>\n",
       "      <th>3</th>\n",
       "      <td>4</td>\n",
       "      <td>-97.055116</td>\n",
       "    </tr>\n",
       "    <tr>\n",
       "      <th>4</th>\n",
       "      <td>5</td>\n",
       "      <td>-68.205672</td>\n",
       "    </tr>\n",
       "    <tr>\n",
       "      <th>...</th>\n",
       "      <td>...</td>\n",
       "      <td>...</td>\n",
       "    </tr>\n",
       "    <tr>\n",
       "      <th>4623</th>\n",
       "      <td>4624</td>\n",
       "      <td>-84.891534</td>\n",
       "    </tr>\n",
       "    <tr>\n",
       "      <th>4624</th>\n",
       "      <td>4625</td>\n",
       "      <td>-74.458541</td>\n",
       "    </tr>\n",
       "    <tr>\n",
       "      <th>4625</th>\n",
       "      <td>4626</td>\n",
       "      <td>-91.961398</td>\n",
       "    </tr>\n",
       "    <tr>\n",
       "      <th>4626</th>\n",
       "      <td>4627</td>\n",
       "      <td>-68.359995</td>\n",
       "    </tr>\n",
       "    <tr>\n",
       "      <th>4627</th>\n",
       "      <td>4628</td>\n",
       "      <td>-67.247067</td>\n",
       "    </tr>\n",
       "  </tbody>\n",
       "</table>\n",
       "<p>4628 rows × 2 columns</p>\n",
       "</div>"
      ],
      "text/plain": [
       "        id     energy\n",
       "0        1 -67.806160\n",
       "1        2 -74.104067\n",
       "2        3 -76.189261\n",
       "3        4 -97.055116\n",
       "4        5 -68.205672\n",
       "...    ...        ...\n",
       "4623  4624 -84.891534\n",
       "4624  4625 -74.458541\n",
       "4625  4626 -91.961398\n",
       "4626  4627 -68.359995\n",
       "4627  4628 -67.247067\n",
       "\n",
       "[4628 rows x 2 columns]"
      ]
     },
     "execution_count": 57,
     "metadata": {},
     "output_type": "execute_result"
    }
   ],
   "source": [
    "labels = pd.read_csv('./data/energies/train.csv')\n",
    "labels"
   ]
  },
  {
   "cell_type": "markdown",
   "metadata": {
    "id": "enmBJV1r8H7A"
   },
   "source": [
    "## Training"
   ]
  },
  {
   "cell_type": "code",
   "execution_count": null,
   "metadata": {
    "id": "D-exCVfN8H7A"
   },
   "outputs": [],
   "source": [
    "import torch\n",
    "import torch.nn as nn\n",
    "import torch.optim as optim\n",
    "from torch.utils.data import Dataset, DataLoader\n",
    "from tqdm import tqdm\n"
   ]
  },
  {
   "cell_type": "code",
   "execution_count": null,
   "metadata": {
    "id": "lIT57KGt8H7B"
   },
   "outputs": [],
   "source": [
    "# Converting the coulomb matrix into a three-dimensional tensor of essentially binary predicate\n",
    "# read paper 'Learning Invariant Representations of Molecules for Atomization Energy Prediction'\n",
    "def transform_coulomb_matrix_theta(coulomb_matrix, theta):\n",
    "    transformed_matrices = []\n",
    "    transformed_matrices.append(np.tanh((coulomb_matrix - theta) / theta))\n",
    "    transformed_matrices.append(np.tanh(coulomb_matrix / theta))\n",
    "    transformed_matrices.append(np.tanh((coulomb_matrix + theta) / theta))\n",
    "    # stack the transformed matrix to have a 3D tensor\n",
    "    x = np.stack(transformed_matrices, axis = -1)\n",
    "    return x\n"
   ]
  },
  {
   "cell_type": "code",
   "execution_count": null,
   "metadata": {
    "id": "WYHd6KjN8H7B"
   },
   "outputs": [],
   "source": [
    "# Model (implemented with the same neural network as the paper 'Learning Invariant Representations of Molecules forAtomization Energy Prediction')\n",
    "class MLP(nn.Module) :\n",
    "    def __init__(self):\n",
    "        super(MLP,self).__init__()\n",
    "        self.flatten = nn.Flatten()\n",
    "        self.seq = nn.Sequential(\n",
    "            nn.Linear(23*23*3,512),\n",
    "            nn.Sigmoid(),\n",
    "            nn.Linear(512,128),\n",
    "            nn.Sigmoid(),\n",
    "            nn.Linear(128,1),\n",
    "        )\n",
    "\n",
    "    def forward(self, x):\n",
    "        x = self.flatten(x)\n",
    "        output = self.seq(x)\n",
    "        return output.view(-1)"
   ]
  },
  {
   "cell_type": "code",
   "execution_count": null,
   "metadata": {
    "id": "wBM56gXB8H7B"
   },
   "outputs": [],
   "source": [
    "# Dataset for train dataloader\n",
    "theta = 1\n",
    "\n",
    "class moleculeDataset(Dataset):\n",
    "    def __init__(self, energy_file_path, data_mol, transform=None):\n",
    "        self.atom_energy = pd.read_csv(energy_file_path)\n",
    "        self.data_mol = data_mol\n",
    "        self.transform = transform\n",
    "\n",
    "    def __len__(self):\n",
    "        return len(self.atom_energy)\n",
    "\n",
    "    def __getitem__(self, idx):\n",
    "        atom = self.data_mol.iloc[idx]\n",
    "        # print(\"la matrice de coulomb (l'atome): \", atom)\n",
    "        # print(\"les deux c'est bon : \", self.atom_energy['id'])\n",
    "        # print(\"l'id de l'atom : \", atom['id'])\n",
    "        x = transform_coulomb_matrix_theta(atom[\"coulomb_matrix\"], theta)\n",
    "        energy = self.atom_energy.loc[self.atom_energy['id'] == atom['id'], 'energy'].values[0]\n",
    "        x = torch.tensor(x, dtype=torch.float32)\n",
    "        energy = torch.tensor(energy, dtype=torch.float32)\n",
    "        if self.transform is not None:\n",
    "            x = self.transform(x)\n",
    "        return x, energy"
   ]
  },
  {
   "cell_type": "code",
   "execution_count": null,
   "metadata": {
    "id": "-yYb33bE8H7B"
   },
   "outputs": [],
   "source": [
    "# Dataset for test dataloader\n",
    "class moleculeTest(Dataset):\n",
    "    def __init__(self, data_mol, transform=None):\n",
    "        self.data_mol = data_mol\n",
    "        self.transform = transform\n",
    "\n",
    "    def __len__(self):\n",
    "        return len(self.data_mol)\n",
    "\n",
    "    def __getitem__(self, idx):\n",
    "        atom = self.data_mol.iloc[idx]\n",
    "        # print(\"l'atom : \", atom)\n",
    "        id = atom[\"id\"]\n",
    "        coulomb_mat = atom[\"coulomb_matrix\"]\n",
    "        x = transform_coulomb_matrix_theta(coulomb_mat, theta)\n",
    "        x = torch.tensor(x, dtype=torch.float32)\n",
    "        if self.transform:\n",
    "            x = self.transform(x)\n",
    "        return x, id"
   ]
  },
  {
   "cell_type": "code",
   "execution_count": null,
   "metadata": {
    "id": "pEYGu9Lg8H7B",
    "outputId": "e33ee665-852d-4478-af57-fbd4bad41c00"
   },
   "outputs": [
    {
     "name": "stdout",
     "output_type": "stream",
     "text": [
      "The active device is : cpu.\n"
     ]
    }
   ],
   "source": [
    "device = torch.device(\"cuda\" if torch.cuda.is_available() else \"cpu\")\n",
    "print(f\"The active device is : {device}.\")"
   ]
  },
  {
   "cell_type": "code",
   "execution_count": null,
   "metadata": {
    "id": "1sKLYOZ28H7B",
    "outputId": "ffbe314c-dcc0-4bd3-a1d3-1527a3d7819b"
   },
   "outputs": [
    {
     "name": "stderr",
     "output_type": "stream",
     "text": [
      "  1%|          | 2/250 [00:09<20:20,  4.92s/it]"
     ]
    },
    {
     "name": "stdout",
     "output_type": "stream",
     "text": [
      "Epoch [2/250] terminée avec une perte moyenne: 7.5278\n"
     ]
    },
    {
     "name": "stderr",
     "output_type": "stream",
     "text": [
      "  1%|          | 3/250 [00:14<20:24,  4.96s/it]"
     ]
    },
    {
     "name": "stdout",
     "output_type": "stream",
     "text": [
      "Epoch [3/250] terminée avec une perte moyenne: 5.3050\n"
     ]
    },
    {
     "name": "stderr",
     "output_type": "stream",
     "text": [
      "  2%|▏         | 4/250 [00:19<20:23,  4.98s/it]"
     ]
    },
    {
     "name": "stdout",
     "output_type": "stream",
     "text": [
      "Epoch [4/250] terminée avec une perte moyenne: 4.6933\n"
     ]
    },
    {
     "name": "stderr",
     "output_type": "stream",
     "text": [
      "  2%|▏         | 5/250 [00:24<20:18,  4.97s/it]"
     ]
    },
    {
     "name": "stdout",
     "output_type": "stream",
     "text": [
      "Epoch [5/250] terminée avec une perte moyenne: 4.2622\n"
     ]
    },
    {
     "name": "stderr",
     "output_type": "stream",
     "text": [
      "  2%|▏         | 6/250 [00:29<20:11,  4.97s/it]"
     ]
    },
    {
     "name": "stdout",
     "output_type": "stream",
     "text": [
      "Epoch [6/250] terminée avec une perte moyenne: 4.0549\n"
     ]
    },
    {
     "name": "stderr",
     "output_type": "stream",
     "text": [
      "  3%|▎         | 7/250 [00:34<20:09,  4.98s/it]"
     ]
    },
    {
     "name": "stdout",
     "output_type": "stream",
     "text": [
      "Epoch [7/250] terminée avec une perte moyenne: 3.8003\n"
     ]
    },
    {
     "name": "stderr",
     "output_type": "stream",
     "text": [
      "  3%|▎         | 8/250 [00:39<20:03,  4.97s/it]"
     ]
    },
    {
     "name": "stdout",
     "output_type": "stream",
     "text": [
      "Epoch [8/250] terminée avec une perte moyenne: 3.6196\n"
     ]
    },
    {
     "name": "stderr",
     "output_type": "stream",
     "text": [
      "  4%|▎         | 9/250 [00:44<19:58,  4.97s/it]"
     ]
    },
    {
     "name": "stdout",
     "output_type": "stream",
     "text": [
      "Epoch [9/250] terminée avec une perte moyenne: 3.4575\n"
     ]
    },
    {
     "name": "stderr",
     "output_type": "stream",
     "text": [
      "  4%|▍         | 10/250 [00:49<19:58,  4.99s/it]"
     ]
    },
    {
     "name": "stdout",
     "output_type": "stream",
     "text": [
      "Epoch [10/250] terminée avec une perte moyenne: 3.3493\n"
     ]
    },
    {
     "name": "stderr",
     "output_type": "stream",
     "text": [
      "  5%|▍         | 12/250 [00:59<19:49,  5.00s/it]"
     ]
    },
    {
     "name": "stdout",
     "output_type": "stream",
     "text": [
      "Epoch [12/250] terminée avec une perte moyenne: 3.2197\n"
     ]
    },
    {
     "name": "stderr",
     "output_type": "stream",
     "text": [
      "  5%|▌         | 13/250 [01:04<19:41,  4.99s/it]"
     ]
    },
    {
     "name": "stdout",
     "output_type": "stream",
     "text": [
      "Epoch [13/250] terminée avec une perte moyenne: 3.0765\n"
     ]
    },
    {
     "name": "stderr",
     "output_type": "stream",
     "text": [
      "  6%|▌         | 14/250 [01:09<19:41,  5.01s/it]"
     ]
    },
    {
     "name": "stdout",
     "output_type": "stream",
     "text": [
      "Epoch [14/250] terminée avec une perte moyenne: 2.9860\n"
     ]
    },
    {
     "name": "stderr",
     "output_type": "stream",
     "text": [
      "  6%|▌         | 15/250 [01:14<19:37,  5.01s/it]"
     ]
    },
    {
     "name": "stdout",
     "output_type": "stream",
     "text": [
      "Epoch [15/250] terminée avec une perte moyenne: 2.9584\n"
     ]
    },
    {
     "name": "stderr",
     "output_type": "stream",
     "text": [
      "  6%|▋         | 16/250 [01:19<19:34,  5.02s/it]"
     ]
    },
    {
     "name": "stdout",
     "output_type": "stream",
     "text": [
      "Epoch [16/250] terminée avec une perte moyenne: 2.8800\n"
     ]
    },
    {
     "name": "stderr",
     "output_type": "stream",
     "text": [
      "  7%|▋         | 17/250 [01:24<19:30,  5.02s/it]"
     ]
    },
    {
     "name": "stdout",
     "output_type": "stream",
     "text": [
      "Epoch [17/250] terminée avec une perte moyenne: 2.8210\n"
     ]
    },
    {
     "name": "stderr",
     "output_type": "stream",
     "text": [
      "  7%|▋         | 18/250 [01:29<19:26,  5.03s/it]"
     ]
    },
    {
     "name": "stdout",
     "output_type": "stream",
     "text": [
      "Epoch [18/250] terminée avec une perte moyenne: 2.8013\n"
     ]
    },
    {
     "name": "stderr",
     "output_type": "stream",
     "text": [
      "  8%|▊         | 19/250 [01:34<19:22,  5.03s/it]"
     ]
    },
    {
     "name": "stdout",
     "output_type": "stream",
     "text": [
      "Epoch [19/250] terminée avec une perte moyenne: 2.7365\n"
     ]
    },
    {
     "name": "stderr",
     "output_type": "stream",
     "text": [
      "  8%|▊         | 20/250 [01:39<19:16,  5.03s/it]"
     ]
    },
    {
     "name": "stdout",
     "output_type": "stream",
     "text": [
      "Epoch [20/250] terminée avec une perte moyenne: 2.6895\n"
     ]
    },
    {
     "name": "stderr",
     "output_type": "stream",
     "text": [
      "  9%|▉         | 22/250 [01:50<19:14,  5.07s/it]"
     ]
    },
    {
     "name": "stdout",
     "output_type": "stream",
     "text": [
      "Epoch [22/250] terminée avec une perte moyenne: 2.6053\n"
     ]
    },
    {
     "name": "stderr",
     "output_type": "stream",
     "text": [
      "  9%|▉         | 23/250 [01:55<19:07,  5.05s/it]"
     ]
    },
    {
     "name": "stdout",
     "output_type": "stream",
     "text": [
      "Epoch [23/250] terminée avec une perte moyenne: 2.5873\n"
     ]
    },
    {
     "name": "stderr",
     "output_type": "stream",
     "text": [
      " 10%|▉         | 24/250 [02:00<18:58,  5.04s/it]"
     ]
    },
    {
     "name": "stdout",
     "output_type": "stream",
     "text": [
      "Epoch [24/250] terminée avec une perte moyenne: 2.5317\n"
     ]
    },
    {
     "name": "stderr",
     "output_type": "stream",
     "text": [
      " 10%|█         | 25/250 [02:05<18:50,  5.02s/it]"
     ]
    },
    {
     "name": "stdout",
     "output_type": "stream",
     "text": [
      "Epoch [25/250] terminée avec une perte moyenne: 2.4614\n"
     ]
    },
    {
     "name": "stderr",
     "output_type": "stream",
     "text": [
      " 10%|█         | 26/250 [02:10<18:40,  5.00s/it]"
     ]
    },
    {
     "name": "stdout",
     "output_type": "stream",
     "text": [
      "Epoch [26/250] terminée avec une perte moyenne: 2.4545\n"
     ]
    },
    {
     "name": "stderr",
     "output_type": "stream",
     "text": [
      " 11%|█         | 27/250 [02:15<18:35,  5.00s/it]"
     ]
    },
    {
     "name": "stdout",
     "output_type": "stream",
     "text": [
      "Epoch [27/250] terminée avec une perte moyenne: 2.4380\n"
     ]
    },
    {
     "name": "stderr",
     "output_type": "stream",
     "text": [
      " 11%|█         | 28/250 [02:20<18:31,  5.00s/it]"
     ]
    },
    {
     "name": "stdout",
     "output_type": "stream",
     "text": [
      "Epoch [28/250] terminée avec une perte moyenne: 2.4232\n"
     ]
    },
    {
     "name": "stderr",
     "output_type": "stream",
     "text": [
      " 12%|█▏        | 29/250 [02:25<18:27,  5.01s/it]"
     ]
    },
    {
     "name": "stdout",
     "output_type": "stream",
     "text": [
      "Epoch [29/250] terminée avec une perte moyenne: 2.4228\n"
     ]
    },
    {
     "name": "stderr",
     "output_type": "stream",
     "text": [
      " 12%|█▏        | 30/250 [02:30<18:20,  5.00s/it]"
     ]
    },
    {
     "name": "stdout",
     "output_type": "stream",
     "text": [
      "Epoch [30/250] terminée avec une perte moyenne: 2.3667\n"
     ]
    },
    {
     "name": "stderr",
     "output_type": "stream",
     "text": [
      " 13%|█▎        | 32/250 [02:40<18:05,  4.98s/it]"
     ]
    },
    {
     "name": "stdout",
     "output_type": "stream",
     "text": [
      "Epoch [32/250] terminée avec une perte moyenne: 2.3138\n"
     ]
    },
    {
     "name": "stderr",
     "output_type": "stream",
     "text": [
      " 13%|█▎        | 33/250 [02:45<17:59,  4.97s/it]"
     ]
    },
    {
     "name": "stdout",
     "output_type": "stream",
     "text": [
      "Epoch [33/250] terminée avec une perte moyenne: 2.2758\n"
     ]
    },
    {
     "name": "stderr",
     "output_type": "stream",
     "text": [
      " 14%|█▎        | 34/250 [02:50<17:57,  4.99s/it]"
     ]
    },
    {
     "name": "stdout",
     "output_type": "stream",
     "text": [
      "Epoch [34/250] terminée avec une perte moyenne: 2.2305\n"
     ]
    },
    {
     "name": "stderr",
     "output_type": "stream",
     "text": [
      " 14%|█▍        | 35/250 [02:55<17:50,  4.98s/it]"
     ]
    },
    {
     "name": "stdout",
     "output_type": "stream",
     "text": [
      "Epoch [35/250] terminée avec une perte moyenne: 2.2447\n"
     ]
    },
    {
     "name": "stderr",
     "output_type": "stream",
     "text": [
      " 14%|█▍        | 36/250 [02:59<17:44,  4.98s/it]"
     ]
    },
    {
     "name": "stdout",
     "output_type": "stream",
     "text": [
      "Epoch [36/250] terminée avec une perte moyenne: 2.2747\n"
     ]
    },
    {
     "name": "stderr",
     "output_type": "stream",
     "text": [
      " 15%|█▍        | 37/250 [03:04<17:39,  4.97s/it]"
     ]
    },
    {
     "name": "stdout",
     "output_type": "stream",
     "text": [
      "Epoch [37/250] terminée avec une perte moyenne: 2.2240\n"
     ]
    },
    {
     "name": "stderr",
     "output_type": "stream",
     "text": [
      " 15%|█▌        | 38/250 [03:09<17:32,  4.96s/it]"
     ]
    },
    {
     "name": "stdout",
     "output_type": "stream",
     "text": [
      "Epoch [38/250] terminée avec une perte moyenne: 2.1815\n"
     ]
    },
    {
     "name": "stderr",
     "output_type": "stream",
     "text": [
      " 16%|█▌        | 39/250 [03:14<17:27,  4.97s/it]"
     ]
    },
    {
     "name": "stdout",
     "output_type": "stream",
     "text": [
      "Epoch [39/250] terminée avec une perte moyenne: 2.2098\n"
     ]
    },
    {
     "name": "stderr",
     "output_type": "stream",
     "text": [
      " 16%|█▌        | 40/250 [03:19<17:19,  4.95s/it]"
     ]
    },
    {
     "name": "stdout",
     "output_type": "stream",
     "text": [
      "Epoch [40/250] terminée avec une perte moyenne: 2.1810\n"
     ]
    },
    {
     "name": "stderr",
     "output_type": "stream",
     "text": [
      " 17%|█▋        | 42/250 [03:29<17:15,  4.98s/it]"
     ]
    },
    {
     "name": "stdout",
     "output_type": "stream",
     "text": [
      "Epoch [42/250] terminée avec une perte moyenne: 2.1392\n"
     ]
    },
    {
     "name": "stderr",
     "output_type": "stream",
     "text": [
      " 17%|█▋        | 43/250 [03:34<17:13,  4.99s/it]"
     ]
    },
    {
     "name": "stdout",
     "output_type": "stream",
     "text": [
      "Epoch [43/250] terminée avec une perte moyenne: 2.1642\n"
     ]
    },
    {
     "name": "stderr",
     "output_type": "stream",
     "text": [
      " 18%|█▊        | 44/250 [03:39<17:04,  4.97s/it]"
     ]
    },
    {
     "name": "stdout",
     "output_type": "stream",
     "text": [
      "Epoch [44/250] terminée avec une perte moyenne: 2.0924\n"
     ]
    },
    {
     "name": "stderr",
     "output_type": "stream",
     "text": [
      " 18%|█▊        | 45/250 [03:44<16:59,  4.97s/it]"
     ]
    },
    {
     "name": "stdout",
     "output_type": "stream",
     "text": [
      "Epoch [45/250] terminée avec une perte moyenne: 2.1319\n"
     ]
    },
    {
     "name": "stderr",
     "output_type": "stream",
     "text": [
      " 18%|█▊        | 46/250 [03:49<16:52,  4.96s/it]"
     ]
    },
    {
     "name": "stdout",
     "output_type": "stream",
     "text": [
      "Epoch [46/250] terminée avec une perte moyenne: 2.0712\n"
     ]
    },
    {
     "name": "stderr",
     "output_type": "stream",
     "text": [
      " 19%|█▉        | 47/250 [03:54<16:44,  4.95s/it]"
     ]
    },
    {
     "name": "stdout",
     "output_type": "stream",
     "text": [
      "Epoch [47/250] terminée avec une perte moyenne: 2.0676\n"
     ]
    },
    {
     "name": "stderr",
     "output_type": "stream",
     "text": [
      " 19%|█▉        | 48/250 [03:59<16:37,  4.94s/it]"
     ]
    },
    {
     "name": "stdout",
     "output_type": "stream",
     "text": [
      "Epoch [48/250] terminée avec une perte moyenne: 2.0764\n"
     ]
    },
    {
     "name": "stderr",
     "output_type": "stream",
     "text": [
      " 20%|█▉        | 49/250 [04:04<16:33,  4.94s/it]"
     ]
    },
    {
     "name": "stdout",
     "output_type": "stream",
     "text": [
      "Epoch [49/250] terminée avec une perte moyenne: 2.0664\n"
     ]
    },
    {
     "name": "stderr",
     "output_type": "stream",
     "text": [
      " 20%|██        | 50/250 [04:09<16:26,  4.93s/it]"
     ]
    },
    {
     "name": "stdout",
     "output_type": "stream",
     "text": [
      "Epoch [50/250] terminée avec une perte moyenne: 2.0538\n"
     ]
    },
    {
     "name": "stderr",
     "output_type": "stream",
     "text": [
      " 21%|██        | 52/250 [04:19<16:23,  4.97s/it]"
     ]
    },
    {
     "name": "stdout",
     "output_type": "stream",
     "text": [
      "Epoch [52/250] terminée avec une perte moyenne: 2.0200\n"
     ]
    },
    {
     "name": "stderr",
     "output_type": "stream",
     "text": [
      " 21%|██        | 53/250 [04:24<16:24,  5.00s/it]"
     ]
    },
    {
     "name": "stdout",
     "output_type": "stream",
     "text": [
      "Epoch [53/250] terminée avec une perte moyenne: 2.0107\n"
     ]
    },
    {
     "name": "stderr",
     "output_type": "stream",
     "text": [
      " 22%|██▏       | 54/250 [04:29<16:21,  5.01s/it]"
     ]
    },
    {
     "name": "stdout",
     "output_type": "stream",
     "text": [
      "Epoch [54/250] terminée avec une perte moyenne: 2.0137\n"
     ]
    },
    {
     "name": "stderr",
     "output_type": "stream",
     "text": [
      " 22%|██▏       | 55/250 [04:34<16:13,  4.99s/it]"
     ]
    },
    {
     "name": "stdout",
     "output_type": "stream",
     "text": [
      "Epoch [55/250] terminée avec une perte moyenne: 2.0143\n"
     ]
    },
    {
     "name": "stderr",
     "output_type": "stream",
     "text": [
      " 22%|██▏       | 56/250 [04:39<16:08,  4.99s/it]"
     ]
    },
    {
     "name": "stdout",
     "output_type": "stream",
     "text": [
      "Epoch [56/250] terminée avec une perte moyenne: 1.9580\n"
     ]
    },
    {
     "name": "stderr",
     "output_type": "stream",
     "text": [
      " 23%|██▎       | 57/250 [04:44<15:59,  4.97s/it]"
     ]
    },
    {
     "name": "stdout",
     "output_type": "stream",
     "text": [
      "Epoch [57/250] terminée avec une perte moyenne: 1.9780\n"
     ]
    },
    {
     "name": "stderr",
     "output_type": "stream",
     "text": [
      " 23%|██▎       | 58/250 [04:49<15:54,  4.97s/it]"
     ]
    },
    {
     "name": "stdout",
     "output_type": "stream",
     "text": [
      "Epoch [58/250] terminée avec une perte moyenne: 1.9868\n"
     ]
    },
    {
     "name": "stderr",
     "output_type": "stream",
     "text": [
      " 24%|██▎       | 59/250 [04:54<15:49,  4.97s/it]"
     ]
    },
    {
     "name": "stdout",
     "output_type": "stream",
     "text": [
      "Epoch [59/250] terminée avec une perte moyenne: 1.9601\n"
     ]
    },
    {
     "name": "stderr",
     "output_type": "stream",
     "text": [
      " 24%|██▍       | 60/250 [04:59<15:44,  4.97s/it]"
     ]
    },
    {
     "name": "stdout",
     "output_type": "stream",
     "text": [
      "Epoch [60/250] terminée avec une perte moyenne: 1.9889\n"
     ]
    },
    {
     "name": "stderr",
     "output_type": "stream",
     "text": [
      " 25%|██▍       | 62/250 [05:09<15:29,  4.95s/it]"
     ]
    },
    {
     "name": "stdout",
     "output_type": "stream",
     "text": [
      "Epoch [62/250] terminée avec une perte moyenne: 1.9284\n"
     ]
    },
    {
     "name": "stderr",
     "output_type": "stream",
     "text": [
      " 25%|██▌       | 63/250 [05:13<15:21,  4.93s/it]"
     ]
    },
    {
     "name": "stdout",
     "output_type": "stream",
     "text": [
      "Epoch [63/250] terminée avec une perte moyenne: 1.9452\n"
     ]
    },
    {
     "name": "stderr",
     "output_type": "stream",
     "text": [
      " 26%|██▌       | 64/250 [05:18<15:13,  4.91s/it]"
     ]
    },
    {
     "name": "stdout",
     "output_type": "stream",
     "text": [
      "Epoch [64/250] terminée avec une perte moyenne: 1.9609\n"
     ]
    },
    {
     "name": "stderr",
     "output_type": "stream",
     "text": [
      " 26%|██▌       | 65/250 [05:23<15:10,  4.92s/it]"
     ]
    },
    {
     "name": "stdout",
     "output_type": "stream",
     "text": [
      "Epoch [65/250] terminée avec une perte moyenne: 1.9303\n"
     ]
    },
    {
     "name": "stderr",
     "output_type": "stream",
     "text": [
      " 26%|██▋       | 66/250 [05:28<15:04,  4.92s/it]"
     ]
    },
    {
     "name": "stdout",
     "output_type": "stream",
     "text": [
      "Epoch [66/250] terminée avec une perte moyenne: 1.9242\n"
     ]
    },
    {
     "name": "stderr",
     "output_type": "stream",
     "text": [
      " 27%|██▋       | 67/250 [05:33<14:58,  4.91s/it]"
     ]
    },
    {
     "name": "stdout",
     "output_type": "stream",
     "text": [
      "Epoch [67/250] terminée avec une perte moyenne: 1.8998\n"
     ]
    },
    {
     "name": "stderr",
     "output_type": "stream",
     "text": [
      " 27%|██▋       | 68/250 [05:38<14:55,  4.92s/it]"
     ]
    },
    {
     "name": "stdout",
     "output_type": "stream",
     "text": [
      "Epoch [68/250] terminée avec une perte moyenne: 1.9026\n"
     ]
    },
    {
     "name": "stderr",
     "output_type": "stream",
     "text": [
      " 28%|██▊       | 69/250 [05:43<14:50,  4.92s/it]"
     ]
    },
    {
     "name": "stdout",
     "output_type": "stream",
     "text": [
      "Epoch [69/250] terminée avec une perte moyenne: 1.8825\n"
     ]
    },
    {
     "name": "stderr",
     "output_type": "stream",
     "text": [
      " 28%|██▊       | 70/250 [05:48<14:46,  4.93s/it]"
     ]
    },
    {
     "name": "stdout",
     "output_type": "stream",
     "text": [
      "Epoch [70/250] terminée avec une perte moyenne: 1.8960\n"
     ]
    },
    {
     "name": "stderr",
     "output_type": "stream",
     "text": [
      " 29%|██▉       | 72/250 [05:58<14:35,  4.92s/it]"
     ]
    },
    {
     "name": "stdout",
     "output_type": "stream",
     "text": [
      "Epoch [72/250] terminée avec une perte moyenne: 1.8661\n"
     ]
    },
    {
     "name": "stderr",
     "output_type": "stream",
     "text": [
      " 29%|██▉       | 73/250 [06:03<14:33,  4.94s/it]"
     ]
    },
    {
     "name": "stdout",
     "output_type": "stream",
     "text": [
      "Epoch [73/250] terminée avec une perte moyenne: 1.8635\n"
     ]
    },
    {
     "name": "stderr",
     "output_type": "stream",
     "text": [
      " 30%|██▉       | 74/250 [06:08<14:25,  4.92s/it]"
     ]
    },
    {
     "name": "stdout",
     "output_type": "stream",
     "text": [
      "Epoch [74/250] terminée avec une perte moyenne: 1.8529\n"
     ]
    },
    {
     "name": "stderr",
     "output_type": "stream",
     "text": [
      " 30%|███       | 75/250 [06:12<14:18,  4.91s/it]"
     ]
    },
    {
     "name": "stdout",
     "output_type": "stream",
     "text": [
      "Epoch [75/250] terminée avec une perte moyenne: 1.8486\n"
     ]
    },
    {
     "name": "stderr",
     "output_type": "stream",
     "text": [
      " 30%|███       | 76/250 [06:17<14:18,  4.93s/it]"
     ]
    },
    {
     "name": "stdout",
     "output_type": "stream",
     "text": [
      "Epoch [76/250] terminée avec une perte moyenne: 1.8471\n"
     ]
    },
    {
     "name": "stderr",
     "output_type": "stream",
     "text": [
      " 31%|███       | 77/250 [06:22<14:14,  4.94s/it]"
     ]
    },
    {
     "name": "stdout",
     "output_type": "stream",
     "text": [
      "Epoch [77/250] terminée avec une perte moyenne: 1.8499\n"
     ]
    },
    {
     "name": "stderr",
     "output_type": "stream",
     "text": [
      " 31%|███       | 78/250 [06:27<14:11,  4.95s/it]"
     ]
    },
    {
     "name": "stdout",
     "output_type": "stream",
     "text": [
      "Epoch [78/250] terminée avec une perte moyenne: 1.8285\n"
     ]
    },
    {
     "name": "stderr",
     "output_type": "stream",
     "text": [
      " 32%|███▏      | 79/250 [06:32<14:05,  4.95s/it]"
     ]
    },
    {
     "name": "stdout",
     "output_type": "stream",
     "text": [
      "Epoch [79/250] terminée avec une perte moyenne: 1.8251\n"
     ]
    },
    {
     "name": "stderr",
     "output_type": "stream",
     "text": [
      " 32%|███▏      | 80/250 [06:37<14:01,  4.95s/it]"
     ]
    },
    {
     "name": "stdout",
     "output_type": "stream",
     "text": [
      "Epoch [80/250] terminée avec une perte moyenne: 1.8370\n"
     ]
    },
    {
     "name": "stderr",
     "output_type": "stream",
     "text": [
      " 33%|███▎      | 82/250 [06:47<13:52,  4.95s/it]"
     ]
    },
    {
     "name": "stdout",
     "output_type": "stream",
     "text": [
      "Epoch [82/250] terminée avec une perte moyenne: 1.8145\n"
     ]
    },
    {
     "name": "stderr",
     "output_type": "stream",
     "text": [
      " 33%|███▎      | 83/250 [06:52<13:46,  4.95s/it]"
     ]
    },
    {
     "name": "stdout",
     "output_type": "stream",
     "text": [
      "Epoch [83/250] terminée avec une perte moyenne: 1.8118\n"
     ]
    },
    {
     "name": "stderr",
     "output_type": "stream",
     "text": [
      " 34%|███▎      | 84/250 [06:57<13:43,  4.96s/it]"
     ]
    },
    {
     "name": "stdout",
     "output_type": "stream",
     "text": [
      "Epoch [84/250] terminée avec une perte moyenne: 1.8100\n"
     ]
    },
    {
     "name": "stderr",
     "output_type": "stream",
     "text": [
      " 34%|███▍      | 85/250 [07:02<13:40,  4.97s/it]"
     ]
    },
    {
     "name": "stdout",
     "output_type": "stream",
     "text": [
      "Epoch [85/250] terminée avec une perte moyenne: 1.8031\n"
     ]
    },
    {
     "name": "stderr",
     "output_type": "stream",
     "text": [
      " 34%|███▍      | 86/250 [07:07<13:40,  5.00s/it]"
     ]
    },
    {
     "name": "stdout",
     "output_type": "stream",
     "text": [
      "Epoch [86/250] terminée avec une perte moyenne: 1.8013\n"
     ]
    },
    {
     "name": "stderr",
     "output_type": "stream",
     "text": [
      " 35%|███▍      | 87/250 [07:12<13:36,  5.01s/it]"
     ]
    },
    {
     "name": "stdout",
     "output_type": "stream",
     "text": [
      "Epoch [87/250] terminée avec une perte moyenne: 1.7940\n"
     ]
    },
    {
     "name": "stderr",
     "output_type": "stream",
     "text": [
      " 35%|███▌      | 88/250 [07:17<13:33,  5.02s/it]"
     ]
    },
    {
     "name": "stdout",
     "output_type": "stream",
     "text": [
      "Epoch [88/250] terminée avec une perte moyenne: 1.7766\n"
     ]
    },
    {
     "name": "stderr",
     "output_type": "stream",
     "text": [
      " 36%|███▌      | 89/250 [07:22<13:26,  5.01s/it]"
     ]
    },
    {
     "name": "stdout",
     "output_type": "stream",
     "text": [
      "Epoch [89/250] terminée avec une perte moyenne: 1.7724\n"
     ]
    },
    {
     "name": "stderr",
     "output_type": "stream",
     "text": [
      " 36%|███▌      | 90/250 [07:27<13:16,  4.98s/it]"
     ]
    },
    {
     "name": "stdout",
     "output_type": "stream",
     "text": [
      "Epoch [90/250] terminée avec une perte moyenne: 1.7883\n"
     ]
    },
    {
     "name": "stderr",
     "output_type": "stream",
     "text": [
      " 37%|███▋      | 92/250 [07:37<13:05,  4.97s/it]"
     ]
    },
    {
     "name": "stdout",
     "output_type": "stream",
     "text": [
      "Epoch [92/250] terminée avec une perte moyenne: 1.7783\n"
     ]
    },
    {
     "name": "stderr",
     "output_type": "stream",
     "text": [
      " 37%|███▋      | 93/250 [07:42<12:55,  4.94s/it]"
     ]
    },
    {
     "name": "stdout",
     "output_type": "stream",
     "text": [
      "Epoch [93/250] terminée avec une perte moyenne: 1.7632\n"
     ]
    },
    {
     "name": "stderr",
     "output_type": "stream",
     "text": [
      " 38%|███▊      | 94/250 [07:47<12:58,  4.99s/it]"
     ]
    },
    {
     "name": "stdout",
     "output_type": "stream",
     "text": [
      "Epoch [94/250] terminée avec une perte moyenne: 1.7412\n"
     ]
    },
    {
     "name": "stderr",
     "output_type": "stream",
     "text": [
      " 38%|███▊      | 95/250 [07:52<12:48,  4.96s/it]"
     ]
    },
    {
     "name": "stdout",
     "output_type": "stream",
     "text": [
      "Epoch [95/250] terminée avec une perte moyenne: 1.7558\n"
     ]
    },
    {
     "name": "stderr",
     "output_type": "stream",
     "text": [
      " 38%|███▊      | 96/250 [07:57<12:49,  5.00s/it]"
     ]
    },
    {
     "name": "stdout",
     "output_type": "stream",
     "text": [
      "Epoch [96/250] terminée avec une perte moyenne: 1.7627\n"
     ]
    },
    {
     "name": "stderr",
     "output_type": "stream",
     "text": [
      " 39%|███▉      | 97/250 [08:02<12:44,  5.00s/it]"
     ]
    },
    {
     "name": "stdout",
     "output_type": "stream",
     "text": [
      "Epoch [97/250] terminée avec une perte moyenne: 1.7509\n"
     ]
    },
    {
     "name": "stderr",
     "output_type": "stream",
     "text": [
      " 39%|███▉      | 98/250 [08:07<12:35,  4.97s/it]"
     ]
    },
    {
     "name": "stdout",
     "output_type": "stream",
     "text": [
      "Epoch [98/250] terminée avec une perte moyenne: 1.7742\n"
     ]
    },
    {
     "name": "stderr",
     "output_type": "stream",
     "text": [
      " 40%|███▉      | 99/250 [08:12<12:28,  4.96s/it]"
     ]
    },
    {
     "name": "stdout",
     "output_type": "stream",
     "text": [
      "Epoch [99/250] terminée avec une perte moyenne: 1.7544\n"
     ]
    },
    {
     "name": "stderr",
     "output_type": "stream",
     "text": [
      " 40%|████      | 100/250 [08:17<12:21,  4.94s/it]"
     ]
    },
    {
     "name": "stdout",
     "output_type": "stream",
     "text": [
      "Epoch [100/250] terminée avec une perte moyenne: 1.7398\n"
     ]
    },
    {
     "name": "stderr",
     "output_type": "stream",
     "text": [
      " 41%|████      | 102/250 [08:27<12:11,  4.94s/it]"
     ]
    },
    {
     "name": "stdout",
     "output_type": "stream",
     "text": [
      "Epoch [102/250] terminée avec une perte moyenne: 1.7239\n"
     ]
    },
    {
     "name": "stderr",
     "output_type": "stream",
     "text": [
      " 41%|████      | 103/250 [08:32<12:07,  4.95s/it]"
     ]
    },
    {
     "name": "stdout",
     "output_type": "stream",
     "text": [
      "Epoch [103/250] terminée avec une perte moyenne: 1.7402\n"
     ]
    },
    {
     "name": "stderr",
     "output_type": "stream",
     "text": [
      " 42%|████▏     | 104/250 [08:37<12:03,  4.96s/it]"
     ]
    },
    {
     "name": "stdout",
     "output_type": "stream",
     "text": [
      "Epoch [104/250] terminée avec une perte moyenne: 1.7129\n"
     ]
    },
    {
     "name": "stderr",
     "output_type": "stream",
     "text": [
      " 42%|████▏     | 105/250 [08:42<11:59,  4.96s/it]"
     ]
    },
    {
     "name": "stdout",
     "output_type": "stream",
     "text": [
      "Epoch [105/250] terminée avec une perte moyenne: 1.7069\n"
     ]
    },
    {
     "name": "stderr",
     "output_type": "stream",
     "text": [
      " 42%|████▏     | 106/250 [08:47<11:54,  4.96s/it]"
     ]
    },
    {
     "name": "stdout",
     "output_type": "stream",
     "text": [
      "Epoch [106/250] terminée avec une perte moyenne: 1.7228\n"
     ]
    },
    {
     "name": "stderr",
     "output_type": "stream",
     "text": [
      " 43%|████▎     | 107/250 [08:51<11:46,  4.94s/it]"
     ]
    },
    {
     "name": "stdout",
     "output_type": "stream",
     "text": [
      "Epoch [107/250] terminée avec une perte moyenne: 1.6946\n"
     ]
    },
    {
     "name": "stderr",
     "output_type": "stream",
     "text": [
      " 43%|████▎     | 108/250 [08:56<11:38,  4.92s/it]"
     ]
    },
    {
     "name": "stdout",
     "output_type": "stream",
     "text": [
      "Epoch [108/250] terminée avec une perte moyenne: 1.6944\n"
     ]
    },
    {
     "name": "stderr",
     "output_type": "stream",
     "text": [
      " 44%|████▎     | 109/250 [09:01<11:32,  4.91s/it]"
     ]
    },
    {
     "name": "stdout",
     "output_type": "stream",
     "text": [
      "Epoch [109/250] terminée avec une perte moyenne: 1.6946\n"
     ]
    },
    {
     "name": "stderr",
     "output_type": "stream",
     "text": [
      " 44%|████▍     | 110/250 [09:06<11:24,  4.89s/it]"
     ]
    },
    {
     "name": "stdout",
     "output_type": "stream",
     "text": [
      "Epoch [110/250] terminée avec une perte moyenne: 1.6994\n"
     ]
    },
    {
     "name": "stderr",
     "output_type": "stream",
     "text": [
      " 45%|████▍     | 112/250 [09:16<11:13,  4.88s/it]"
     ]
    },
    {
     "name": "stdout",
     "output_type": "stream",
     "text": [
      "Epoch [112/250] terminée avec une perte moyenne: 1.7293\n"
     ]
    },
    {
     "name": "stderr",
     "output_type": "stream",
     "text": [
      " 45%|████▌     | 113/250 [09:21<11:12,  4.91s/it]"
     ]
    },
    {
     "name": "stdout",
     "output_type": "stream",
     "text": [
      "Epoch [113/250] terminée avec une perte moyenne: 1.7221\n"
     ]
    },
    {
     "name": "stderr",
     "output_type": "stream",
     "text": [
      " 46%|████▌     | 114/250 [09:26<11:06,  4.90s/it]"
     ]
    },
    {
     "name": "stdout",
     "output_type": "stream",
     "text": [
      "Epoch [114/250] terminée avec une perte moyenne: 1.6984\n"
     ]
    },
    {
     "name": "stderr",
     "output_type": "stream",
     "text": [
      " 46%|████▌     | 115/250 [09:30<10:58,  4.88s/it]"
     ]
    },
    {
     "name": "stdout",
     "output_type": "stream",
     "text": [
      "Epoch [115/250] terminée avec une perte moyenne: 1.6910\n"
     ]
    },
    {
     "name": "stderr",
     "output_type": "stream",
     "text": [
      " 46%|████▋     | 116/250 [09:35<10:42,  4.80s/it]"
     ]
    },
    {
     "name": "stdout",
     "output_type": "stream",
     "text": [
      "Epoch [116/250] terminée avec une perte moyenne: 1.6855\n"
     ]
    },
    {
     "name": "stderr",
     "output_type": "stream",
     "text": [
      " 47%|████▋     | 117/250 [09:40<10:29,  4.73s/it]"
     ]
    },
    {
     "name": "stdout",
     "output_type": "stream",
     "text": [
      "Epoch [117/250] terminée avec une perte moyenne: 1.6453\n"
     ]
    },
    {
     "name": "stderr",
     "output_type": "stream",
     "text": [
      " 47%|████▋     | 118/250 [09:44<10:18,  4.68s/it]"
     ]
    },
    {
     "name": "stdout",
     "output_type": "stream",
     "text": [
      "Epoch [118/250] terminée avec une perte moyenne: 1.6583\n"
     ]
    },
    {
     "name": "stderr",
     "output_type": "stream",
     "text": [
      " 48%|████▊     | 119/250 [09:49<10:08,  4.65s/it]"
     ]
    },
    {
     "name": "stdout",
     "output_type": "stream",
     "text": [
      "Epoch [119/250] terminée avec une perte moyenne: 1.6764\n"
     ]
    },
    {
     "name": "stderr",
     "output_type": "stream",
     "text": [
      " 48%|████▊     | 120/250 [09:53<10:02,  4.63s/it]"
     ]
    },
    {
     "name": "stdout",
     "output_type": "stream",
     "text": [
      "Epoch [120/250] terminée avec une perte moyenne: 1.6709\n"
     ]
    },
    {
     "name": "stderr",
     "output_type": "stream",
     "text": [
      " 49%|████▉     | 122/250 [10:02<09:48,  4.60s/it]"
     ]
    },
    {
     "name": "stdout",
     "output_type": "stream",
     "text": [
      "Epoch [122/250] terminée avec une perte moyenne: 1.6543\n"
     ]
    },
    {
     "name": "stderr",
     "output_type": "stream",
     "text": [
      " 49%|████▉     | 123/250 [10:07<09:43,  4.59s/it]"
     ]
    },
    {
     "name": "stdout",
     "output_type": "stream",
     "text": [
      "Epoch [123/250] terminée avec une perte moyenne: 1.6670\n"
     ]
    },
    {
     "name": "stderr",
     "output_type": "stream",
     "text": [
      " 50%|████▉     | 124/250 [10:12<09:38,  4.59s/it]"
     ]
    },
    {
     "name": "stdout",
     "output_type": "stream",
     "text": [
      "Epoch [124/250] terminée avec une perte moyenne: 1.6713\n"
     ]
    },
    {
     "name": "stderr",
     "output_type": "stream",
     "text": [
      " 50%|█████     | 125/250 [10:16<09:30,  4.56s/it]"
     ]
    },
    {
     "name": "stdout",
     "output_type": "stream",
     "text": [
      "Epoch [125/250] terminée avec une perte moyenne: 1.6588\n"
     ]
    },
    {
     "name": "stderr",
     "output_type": "stream",
     "text": [
      " 50%|█████     | 126/250 [10:21<09:22,  4.54s/it]"
     ]
    },
    {
     "name": "stdout",
     "output_type": "stream",
     "text": [
      "Epoch [126/250] terminée avec une perte moyenne: 1.6319\n"
     ]
    },
    {
     "name": "stderr",
     "output_type": "stream",
     "text": [
      " 51%|█████     | 127/250 [10:25<09:16,  4.52s/it]"
     ]
    },
    {
     "name": "stdout",
     "output_type": "stream",
     "text": [
      "Epoch [127/250] terminée avec une perte moyenne: 1.6239\n"
     ]
    },
    {
     "name": "stderr",
     "output_type": "stream",
     "text": [
      " 51%|█████     | 128/250 [10:30<09:10,  4.52s/it]"
     ]
    },
    {
     "name": "stdout",
     "output_type": "stream",
     "text": [
      "Epoch [128/250] terminée avec une perte moyenne: 1.6358\n"
     ]
    },
    {
     "name": "stderr",
     "output_type": "stream",
     "text": [
      " 52%|█████▏    | 129/250 [10:34<09:05,  4.51s/it]"
     ]
    },
    {
     "name": "stdout",
     "output_type": "stream",
     "text": [
      "Epoch [129/250] terminée avec une perte moyenne: 1.6280\n"
     ]
    },
    {
     "name": "stderr",
     "output_type": "stream",
     "text": [
      " 52%|█████▏    | 130/250 [10:39<09:00,  4.50s/it]"
     ]
    },
    {
     "name": "stdout",
     "output_type": "stream",
     "text": [
      "Epoch [130/250] terminée avec une perte moyenne: 1.6620\n"
     ]
    },
    {
     "name": "stderr",
     "output_type": "stream",
     "text": [
      " 53%|█████▎    | 132/250 [10:48<08:49,  4.49s/it]"
     ]
    },
    {
     "name": "stdout",
     "output_type": "stream",
     "text": [
      "Epoch [132/250] terminée avec une perte moyenne: 1.6303\n"
     ]
    },
    {
     "name": "stderr",
     "output_type": "stream",
     "text": [
      " 53%|█████▎    | 133/250 [10:52<08:45,  4.49s/it]"
     ]
    },
    {
     "name": "stdout",
     "output_type": "stream",
     "text": [
      "Epoch [133/250] terminée avec une perte moyenne: 1.6274\n"
     ]
    },
    {
     "name": "stderr",
     "output_type": "stream",
     "text": [
      " 54%|█████▎    | 134/250 [10:57<08:42,  4.50s/it]"
     ]
    },
    {
     "name": "stdout",
     "output_type": "stream",
     "text": [
      "Epoch [134/250] terminée avec une perte moyenne: 1.6259\n"
     ]
    },
    {
     "name": "stderr",
     "output_type": "stream",
     "text": [
      " 54%|█████▍    | 135/250 [11:01<08:37,  4.50s/it]"
     ]
    },
    {
     "name": "stdout",
     "output_type": "stream",
     "text": [
      "Epoch [135/250] terminée avec une perte moyenne: 1.6321\n"
     ]
    },
    {
     "name": "stderr",
     "output_type": "stream",
     "text": [
      " 54%|█████▍    | 136/250 [11:06<08:32,  4.50s/it]"
     ]
    },
    {
     "name": "stdout",
     "output_type": "stream",
     "text": [
      "Epoch [136/250] terminée avec une perte moyenne: 1.6265\n"
     ]
    },
    {
     "name": "stderr",
     "output_type": "stream",
     "text": [
      " 55%|█████▍    | 137/250 [11:10<08:29,  4.51s/it]"
     ]
    },
    {
     "name": "stdout",
     "output_type": "stream",
     "text": [
      "Epoch [137/250] terminée avec une perte moyenne: 1.6211\n"
     ]
    },
    {
     "name": "stderr",
     "output_type": "stream",
     "text": [
      " 55%|█████▌    | 138/250 [11:15<08:23,  4.50s/it]"
     ]
    },
    {
     "name": "stdout",
     "output_type": "stream",
     "text": [
      "Epoch [138/250] terminée avec une perte moyenne: 1.6333\n"
     ]
    },
    {
     "name": "stderr",
     "output_type": "stream",
     "text": [
      " 56%|█████▌    | 139/250 [11:19<08:19,  4.50s/it]"
     ]
    },
    {
     "name": "stdout",
     "output_type": "stream",
     "text": [
      "Epoch [139/250] terminée avec une perte moyenne: 1.6341\n"
     ]
    },
    {
     "name": "stderr",
     "output_type": "stream",
     "text": [
      " 56%|█████▌    | 140/250 [11:24<08:15,  4.50s/it]"
     ]
    },
    {
     "name": "stdout",
     "output_type": "stream",
     "text": [
      "Epoch [140/250] terminée avec une perte moyenne: 1.6049\n"
     ]
    },
    {
     "name": "stderr",
     "output_type": "stream",
     "text": [
      " 57%|█████▋    | 142/250 [11:33<08:07,  4.51s/it]"
     ]
    },
    {
     "name": "stdout",
     "output_type": "stream",
     "text": [
      "Epoch [142/250] terminée avec une perte moyenne: 1.6036\n"
     ]
    },
    {
     "name": "stderr",
     "output_type": "stream",
     "text": [
      " 57%|█████▋    | 143/250 [11:37<08:03,  4.52s/it]"
     ]
    },
    {
     "name": "stdout",
     "output_type": "stream",
     "text": [
      "Epoch [143/250] terminée avec une perte moyenne: 1.5880\n"
     ]
    },
    {
     "name": "stderr",
     "output_type": "stream",
     "text": [
      " 58%|█████▊    | 144/250 [11:42<08:00,  4.53s/it]"
     ]
    },
    {
     "name": "stdout",
     "output_type": "stream",
     "text": [
      "Epoch [144/250] terminée avec une perte moyenne: 1.6048\n"
     ]
    },
    {
     "name": "stderr",
     "output_type": "stream",
     "text": [
      " 58%|█████▊    | 145/250 [11:46<07:56,  4.54s/it]"
     ]
    },
    {
     "name": "stdout",
     "output_type": "stream",
     "text": [
      "Epoch [145/250] terminée avec une perte moyenne: 1.6072\n"
     ]
    },
    {
     "name": "stderr",
     "output_type": "stream",
     "text": [
      " 58%|█████▊    | 146/250 [11:51<07:54,  4.56s/it]"
     ]
    },
    {
     "name": "stdout",
     "output_type": "stream",
     "text": [
      "Epoch [146/250] terminée avec une perte moyenne: 1.6072\n"
     ]
    },
    {
     "name": "stderr",
     "output_type": "stream",
     "text": [
      " 59%|█████▉    | 147/250 [11:55<07:49,  4.56s/it]"
     ]
    },
    {
     "name": "stdout",
     "output_type": "stream",
     "text": [
      "Epoch [147/250] terminée avec une perte moyenne: 1.6108\n"
     ]
    },
    {
     "name": "stderr",
     "output_type": "stream",
     "text": [
      " 59%|█████▉    | 148/250 [12:00<07:45,  4.57s/it]"
     ]
    },
    {
     "name": "stdout",
     "output_type": "stream",
     "text": [
      "Epoch [148/250] terminée avec une perte moyenne: 1.5913\n"
     ]
    },
    {
     "name": "stderr",
     "output_type": "stream",
     "text": [
      " 60%|█████▉    | 149/250 [12:05<07:41,  4.57s/it]"
     ]
    },
    {
     "name": "stdout",
     "output_type": "stream",
     "text": [
      "Epoch [149/250] terminée avec une perte moyenne: 1.5831\n"
     ]
    },
    {
     "name": "stderr",
     "output_type": "stream",
     "text": [
      " 60%|██████    | 150/250 [12:09<07:37,  4.57s/it]"
     ]
    },
    {
     "name": "stdout",
     "output_type": "stream",
     "text": [
      "Epoch [150/250] terminée avec une perte moyenne: 1.5715\n"
     ]
    },
    {
     "name": "stderr",
     "output_type": "stream",
     "text": [
      " 61%|██████    | 152/250 [12:18<07:27,  4.57s/it]"
     ]
    },
    {
     "name": "stdout",
     "output_type": "stream",
     "text": [
      "Epoch [152/250] terminée avec une perte moyenne: 1.5819\n"
     ]
    },
    {
     "name": "stderr",
     "output_type": "stream",
     "text": [
      " 61%|██████    | 153/250 [12:23<07:23,  4.57s/it]"
     ]
    },
    {
     "name": "stdout",
     "output_type": "stream",
     "text": [
      "Epoch [153/250] terminée avec une perte moyenne: 1.5490\n"
     ]
    },
    {
     "name": "stderr",
     "output_type": "stream",
     "text": [
      " 62%|██████▏   | 154/250 [12:27<07:19,  4.58s/it]"
     ]
    },
    {
     "name": "stdout",
     "output_type": "stream",
     "text": [
      "Epoch [154/250] terminée avec une perte moyenne: 1.5819\n"
     ]
    },
    {
     "name": "stderr",
     "output_type": "stream",
     "text": [
      " 62%|██████▏   | 155/250 [12:32<07:14,  4.58s/it]"
     ]
    },
    {
     "name": "stdout",
     "output_type": "stream",
     "text": [
      "Epoch [155/250] terminée avec une perte moyenne: 1.5661\n"
     ]
    },
    {
     "name": "stderr",
     "output_type": "stream",
     "text": [
      " 62%|██████▏   | 156/250 [12:37<07:09,  4.57s/it]"
     ]
    },
    {
     "name": "stdout",
     "output_type": "stream",
     "text": [
      "Epoch [156/250] terminée avec une perte moyenne: 1.5773\n"
     ]
    },
    {
     "name": "stderr",
     "output_type": "stream",
     "text": [
      " 63%|██████▎   | 157/250 [12:41<07:04,  4.56s/it]"
     ]
    },
    {
     "name": "stdout",
     "output_type": "stream",
     "text": [
      "Epoch [157/250] terminée avec une perte moyenne: 1.5657\n"
     ]
    },
    {
     "name": "stderr",
     "output_type": "stream",
     "text": [
      " 63%|██████▎   | 158/250 [12:46<06:57,  4.54s/it]"
     ]
    },
    {
     "name": "stdout",
     "output_type": "stream",
     "text": [
      "Epoch [158/250] terminée avec une perte moyenne: 1.5673\n"
     ]
    },
    {
     "name": "stderr",
     "output_type": "stream",
     "text": [
      " 64%|██████▎   | 159/250 [12:50<06:51,  4.52s/it]"
     ]
    },
    {
     "name": "stdout",
     "output_type": "stream",
     "text": [
      "Epoch [159/250] terminée avec une perte moyenne: 1.5781\n"
     ]
    },
    {
     "name": "stderr",
     "output_type": "stream",
     "text": [
      " 64%|██████▍   | 160/250 [12:55<06:46,  4.51s/it]"
     ]
    },
    {
     "name": "stdout",
     "output_type": "stream",
     "text": [
      "Epoch [160/250] terminée avec une perte moyenne: 1.5646\n"
     ]
    },
    {
     "name": "stderr",
     "output_type": "stream",
     "text": [
      " 65%|██████▍   | 162/250 [13:04<06:36,  4.50s/it]"
     ]
    },
    {
     "name": "stdout",
     "output_type": "stream",
     "text": [
      "Epoch [162/250] terminée avec une perte moyenne: 1.5457\n"
     ]
    },
    {
     "name": "stderr",
     "output_type": "stream",
     "text": [
      " 65%|██████▌   | 163/250 [13:08<06:31,  4.50s/it]"
     ]
    },
    {
     "name": "stdout",
     "output_type": "stream",
     "text": [
      "Epoch [163/250] terminée avec une perte moyenne: 1.5545\n"
     ]
    },
    {
     "name": "stderr",
     "output_type": "stream",
     "text": [
      " 66%|██████▌   | 164/250 [13:13<06:26,  4.50s/it]"
     ]
    },
    {
     "name": "stdout",
     "output_type": "stream",
     "text": [
      "Epoch [164/250] terminée avec une perte moyenne: 1.5248\n"
     ]
    },
    {
     "name": "stderr",
     "output_type": "stream",
     "text": [
      " 66%|██████▌   | 165/250 [13:17<06:22,  4.50s/it]"
     ]
    },
    {
     "name": "stdout",
     "output_type": "stream",
     "text": [
      "Epoch [165/250] terminée avec une perte moyenne: 1.5203\n"
     ]
    },
    {
     "name": "stderr",
     "output_type": "stream",
     "text": [
      " 66%|██████▋   | 166/250 [13:22<06:17,  4.50s/it]"
     ]
    },
    {
     "name": "stdout",
     "output_type": "stream",
     "text": [
      "Epoch [166/250] terminée avec une perte moyenne: 1.5427\n"
     ]
    },
    {
     "name": "stderr",
     "output_type": "stream",
     "text": [
      " 67%|██████▋   | 167/250 [13:26<06:14,  4.51s/it]"
     ]
    },
    {
     "name": "stdout",
     "output_type": "stream",
     "text": [
      "Epoch [167/250] terminée avec une perte moyenne: 1.5400\n"
     ]
    },
    {
     "name": "stderr",
     "output_type": "stream",
     "text": [
      " 67%|██████▋   | 168/250 [13:31<06:12,  4.54s/it]"
     ]
    },
    {
     "name": "stdout",
     "output_type": "stream",
     "text": [
      "Epoch [168/250] terminée avec une perte moyenne: 1.5446\n"
     ]
    },
    {
     "name": "stderr",
     "output_type": "stream",
     "text": [
      " 68%|██████▊   | 169/250 [13:35<06:08,  4.55s/it]"
     ]
    },
    {
     "name": "stdout",
     "output_type": "stream",
     "text": [
      "Epoch [169/250] terminée avec une perte moyenne: 1.5341\n"
     ]
    },
    {
     "name": "stderr",
     "output_type": "stream",
     "text": [
      " 68%|██████▊   | 170/250 [13:40<06:04,  4.56s/it]"
     ]
    },
    {
     "name": "stdout",
     "output_type": "stream",
     "text": [
      "Epoch [170/250] terminée avec une perte moyenne: 1.5055\n"
     ]
    },
    {
     "name": "stderr",
     "output_type": "stream",
     "text": [
      " 69%|██████▉   | 172/250 [13:49<05:52,  4.52s/it]"
     ]
    },
    {
     "name": "stdout",
     "output_type": "stream",
     "text": [
      "Epoch [172/250] terminée avec une perte moyenne: 1.5030\n"
     ]
    },
    {
     "name": "stderr",
     "output_type": "stream",
     "text": [
      " 69%|██████▉   | 173/250 [13:53<05:47,  4.51s/it]"
     ]
    },
    {
     "name": "stdout",
     "output_type": "stream",
     "text": [
      "Epoch [173/250] terminée avec une perte moyenne: 1.5383\n"
     ]
    },
    {
     "name": "stderr",
     "output_type": "stream",
     "text": [
      " 70%|██████▉   | 174/250 [13:58<05:42,  4.50s/it]"
     ]
    },
    {
     "name": "stdout",
     "output_type": "stream",
     "text": [
      "Epoch [174/250] terminée avec une perte moyenne: 1.5206\n"
     ]
    },
    {
     "name": "stderr",
     "output_type": "stream",
     "text": [
      " 70%|███████   | 175/250 [14:02<05:37,  4.50s/it]"
     ]
    },
    {
     "name": "stdout",
     "output_type": "stream",
     "text": [
      "Epoch [175/250] terminée avec une perte moyenne: 1.5189\n"
     ]
    },
    {
     "name": "stderr",
     "output_type": "stream",
     "text": [
      " 70%|███████   | 176/250 [14:07<05:32,  4.50s/it]"
     ]
    },
    {
     "name": "stdout",
     "output_type": "stream",
     "text": [
      "Epoch [176/250] terminée avec une perte moyenne: 1.5189\n"
     ]
    },
    {
     "name": "stderr",
     "output_type": "stream",
     "text": [
      " 71%|███████   | 177/250 [14:11<05:28,  4.50s/it]"
     ]
    },
    {
     "name": "stdout",
     "output_type": "stream",
     "text": [
      "Epoch [177/250] terminée avec une perte moyenne: 1.5097\n"
     ]
    },
    {
     "name": "stderr",
     "output_type": "stream",
     "text": [
      " 71%|███████   | 178/250 [14:16<05:24,  4.50s/it]"
     ]
    },
    {
     "name": "stdout",
     "output_type": "stream",
     "text": [
      "Epoch [178/250] terminée avec une perte moyenne: 1.5088\n"
     ]
    },
    {
     "name": "stderr",
     "output_type": "stream",
     "text": [
      " 72%|███████▏  | 179/250 [14:20<05:19,  4.50s/it]"
     ]
    },
    {
     "name": "stdout",
     "output_type": "stream",
     "text": [
      "Epoch [179/250] terminée avec une perte moyenne: 1.5054\n"
     ]
    },
    {
     "name": "stderr",
     "output_type": "stream",
     "text": [
      " 72%|███████▏  | 180/250 [14:25<05:14,  4.50s/it]"
     ]
    },
    {
     "name": "stdout",
     "output_type": "stream",
     "text": [
      "Epoch [180/250] terminée avec une perte moyenne: 1.5013\n"
     ]
    },
    {
     "name": "stderr",
     "output_type": "stream",
     "text": [
      " 73%|███████▎  | 182/250 [14:34<05:05,  4.50s/it]"
     ]
    },
    {
     "name": "stdout",
     "output_type": "stream",
     "text": [
      "Epoch [182/250] terminée avec une perte moyenne: 1.5029\n"
     ]
    },
    {
     "name": "stderr",
     "output_type": "stream",
     "text": [
      " 73%|███████▎  | 183/250 [14:38<05:01,  4.49s/it]"
     ]
    },
    {
     "name": "stdout",
     "output_type": "stream",
     "text": [
      "Epoch [183/250] terminée avec une perte moyenne: 1.5031\n"
     ]
    },
    {
     "name": "stderr",
     "output_type": "stream",
     "text": [
      " 74%|███████▎  | 184/250 [14:43<04:56,  4.49s/it]"
     ]
    },
    {
     "name": "stdout",
     "output_type": "stream",
     "text": [
      "Epoch [184/250] terminée avec une perte moyenne: 1.4949\n"
     ]
    },
    {
     "name": "stderr",
     "output_type": "stream",
     "text": [
      " 74%|███████▍  | 185/250 [14:47<04:53,  4.52s/it]"
     ]
    },
    {
     "name": "stdout",
     "output_type": "stream",
     "text": [
      "Epoch [185/250] terminée avec une perte moyenne: 1.4892\n"
     ]
    },
    {
     "name": "stderr",
     "output_type": "stream",
     "text": [
      " 74%|███████▍  | 186/250 [14:52<04:49,  4.53s/it]"
     ]
    },
    {
     "name": "stdout",
     "output_type": "stream",
     "text": [
      "Epoch [186/250] terminée avec une perte moyenne: 1.5118\n"
     ]
    },
    {
     "name": "stderr",
     "output_type": "stream",
     "text": [
      " 75%|███████▍  | 187/250 [14:56<04:46,  4.55s/it]"
     ]
    },
    {
     "name": "stdout",
     "output_type": "stream",
     "text": [
      "Epoch [187/250] terminée avec une perte moyenne: 1.5032\n"
     ]
    },
    {
     "name": "stderr",
     "output_type": "stream",
     "text": [
      " 75%|███████▌  | 188/250 [15:01<04:41,  4.54s/it]"
     ]
    },
    {
     "name": "stdout",
     "output_type": "stream",
     "text": [
      "Epoch [188/250] terminée avec une perte moyenne: 1.4980\n"
     ]
    },
    {
     "name": "stderr",
     "output_type": "stream",
     "text": [
      " 76%|███████▌  | 189/250 [15:05<04:35,  4.52s/it]"
     ]
    },
    {
     "name": "stdout",
     "output_type": "stream",
     "text": [
      "Epoch [189/250] terminée avec une perte moyenne: 1.4843\n"
     ]
    },
    {
     "name": "stderr",
     "output_type": "stream",
     "text": [
      " 76%|███████▌  | 190/250 [15:10<04:30,  4.51s/it]"
     ]
    },
    {
     "name": "stdout",
     "output_type": "stream",
     "text": [
      "Epoch [190/250] terminée avec une perte moyenne: 1.4974\n"
     ]
    },
    {
     "name": "stderr",
     "output_type": "stream",
     "text": [
      " 77%|███████▋  | 192/250 [15:19<04:20,  4.49s/it]"
     ]
    },
    {
     "name": "stdout",
     "output_type": "stream",
     "text": [
      "Epoch [192/250] terminée avec une perte moyenne: 1.4995\n"
     ]
    },
    {
     "name": "stderr",
     "output_type": "stream",
     "text": [
      " 77%|███████▋  | 193/250 [15:23<04:15,  4.49s/it]"
     ]
    },
    {
     "name": "stdout",
     "output_type": "stream",
     "text": [
      "Epoch [193/250] terminée avec une perte moyenne: 1.4758\n"
     ]
    },
    {
     "name": "stderr",
     "output_type": "stream",
     "text": [
      " 78%|███████▊  | 194/250 [15:28<04:11,  4.49s/it]"
     ]
    },
    {
     "name": "stdout",
     "output_type": "stream",
     "text": [
      "Epoch [194/250] terminée avec une perte moyenne: 1.4641\n"
     ]
    },
    {
     "name": "stderr",
     "output_type": "stream",
     "text": [
      " 78%|███████▊  | 195/250 [15:32<04:08,  4.51s/it]"
     ]
    },
    {
     "name": "stdout",
     "output_type": "stream",
     "text": [
      "Epoch [195/250] terminée avec une perte moyenne: 1.4625\n"
     ]
    },
    {
     "name": "stderr",
     "output_type": "stream",
     "text": [
      " 78%|███████▊  | 196/250 [15:37<04:05,  4.54s/it]"
     ]
    },
    {
     "name": "stdout",
     "output_type": "stream",
     "text": [
      "Epoch [196/250] terminée avec une perte moyenne: 1.4809\n"
     ]
    },
    {
     "name": "stderr",
     "output_type": "stream",
     "text": [
      " 79%|███████▉  | 197/250 [15:42<04:01,  4.55s/it]"
     ]
    },
    {
     "name": "stdout",
     "output_type": "stream",
     "text": [
      "Epoch [197/250] terminée avec une perte moyenne: 1.4827\n"
     ]
    },
    {
     "name": "stderr",
     "output_type": "stream",
     "text": [
      " 79%|███████▉  | 198/250 [15:46<03:57,  4.56s/it]"
     ]
    },
    {
     "name": "stdout",
     "output_type": "stream",
     "text": [
      "Epoch [198/250] terminée avec une perte moyenne: 1.4747\n"
     ]
    },
    {
     "name": "stderr",
     "output_type": "stream",
     "text": [
      " 80%|███████▉  | 199/250 [15:51<03:52,  4.56s/it]"
     ]
    },
    {
     "name": "stdout",
     "output_type": "stream",
     "text": [
      "Epoch [199/250] terminée avec une perte moyenne: 1.4706\n"
     ]
    },
    {
     "name": "stderr",
     "output_type": "stream",
     "text": [
      " 80%|████████  | 200/250 [15:55<03:48,  4.56s/it]"
     ]
    },
    {
     "name": "stdout",
     "output_type": "stream",
     "text": [
      "Epoch [200/250] terminée avec une perte moyenne: 1.4638\n"
     ]
    },
    {
     "name": "stderr",
     "output_type": "stream",
     "text": [
      " 81%|████████  | 202/250 [16:04<03:39,  4.56s/it]"
     ]
    },
    {
     "name": "stdout",
     "output_type": "stream",
     "text": [
      "Epoch [202/250] terminée avec une perte moyenne: 1.4673\n"
     ]
    },
    {
     "name": "stderr",
     "output_type": "stream",
     "text": [
      " 81%|████████  | 203/250 [16:09<03:34,  4.57s/it]"
     ]
    },
    {
     "name": "stdout",
     "output_type": "stream",
     "text": [
      "Epoch [203/250] terminée avec une perte moyenne: 1.4645\n"
     ]
    },
    {
     "name": "stderr",
     "output_type": "stream",
     "text": [
      " 82%|████████▏ | 204/250 [16:14<03:30,  4.57s/it]"
     ]
    },
    {
     "name": "stdout",
     "output_type": "stream",
     "text": [
      "Epoch [204/250] terminée avec une perte moyenne: 1.4699\n"
     ]
    },
    {
     "name": "stderr",
     "output_type": "stream",
     "text": [
      " 82%|████████▏ | 205/250 [16:18<03:26,  4.58s/it]"
     ]
    },
    {
     "name": "stdout",
     "output_type": "stream",
     "text": [
      "Epoch [205/250] terminée avec une perte moyenne: 1.4796\n"
     ]
    },
    {
     "name": "stderr",
     "output_type": "stream",
     "text": [
      " 82%|████████▏ | 206/250 [16:23<03:21,  4.57s/it]"
     ]
    },
    {
     "name": "stdout",
     "output_type": "stream",
     "text": [
      "Epoch [206/250] terminée avec une perte moyenne: 1.4375\n"
     ]
    },
    {
     "name": "stderr",
     "output_type": "stream",
     "text": [
      " 83%|████████▎ | 207/250 [16:27<03:16,  4.56s/it]"
     ]
    },
    {
     "name": "stdout",
     "output_type": "stream",
     "text": [
      "Epoch [207/250] terminée avec une perte moyenne: 1.4610\n"
     ]
    },
    {
     "name": "stderr",
     "output_type": "stream",
     "text": [
      " 83%|████████▎ | 208/250 [16:32<03:11,  4.56s/it]"
     ]
    },
    {
     "name": "stdout",
     "output_type": "stream",
     "text": [
      "Epoch [208/250] terminée avec une perte moyenne: 1.4502\n"
     ]
    },
    {
     "name": "stderr",
     "output_type": "stream",
     "text": [
      " 84%|████████▎ | 209/250 [16:36<03:06,  4.55s/it]"
     ]
    },
    {
     "name": "stdout",
     "output_type": "stream",
     "text": [
      "Epoch [209/250] terminée avec une perte moyenne: 1.4478\n"
     ]
    },
    {
     "name": "stderr",
     "output_type": "stream",
     "text": [
      " 84%|████████▍ | 210/250 [16:41<03:02,  4.55s/it]"
     ]
    },
    {
     "name": "stdout",
     "output_type": "stream",
     "text": [
      "Epoch [210/250] terminée avec une perte moyenne: 1.4418\n"
     ]
    },
    {
     "name": "stderr",
     "output_type": "stream",
     "text": [
      " 85%|████████▍ | 212/250 [16:50<02:52,  4.55s/it]"
     ]
    },
    {
     "name": "stdout",
     "output_type": "stream",
     "text": [
      "Epoch [212/250] terminée avec une perte moyenne: 1.4400\n"
     ]
    },
    {
     "name": "stderr",
     "output_type": "stream",
     "text": [
      " 85%|████████▌ | 213/250 [16:55<02:48,  4.55s/it]"
     ]
    },
    {
     "name": "stdout",
     "output_type": "stream",
     "text": [
      "Epoch [213/250] terminée avec une perte moyenne: 1.4447\n"
     ]
    },
    {
     "name": "stderr",
     "output_type": "stream",
     "text": [
      " 86%|████████▌ | 214/250 [16:59<02:43,  4.55s/it]"
     ]
    },
    {
     "name": "stdout",
     "output_type": "stream",
     "text": [
      "Epoch [214/250] terminée avec une perte moyenne: 1.4481\n"
     ]
    },
    {
     "name": "stderr",
     "output_type": "stream",
     "text": [
      " 86%|████████▌ | 215/250 [17:04<02:39,  4.54s/it]"
     ]
    },
    {
     "name": "stdout",
     "output_type": "stream",
     "text": [
      "Epoch [215/250] terminée avec une perte moyenne: 1.4412\n"
     ]
    },
    {
     "name": "stderr",
     "output_type": "stream",
     "text": [
      " 86%|████████▋ | 216/250 [17:08<02:34,  4.54s/it]"
     ]
    },
    {
     "name": "stdout",
     "output_type": "stream",
     "text": [
      "Epoch [216/250] terminée avec une perte moyenne: 1.4295\n"
     ]
    },
    {
     "name": "stderr",
     "output_type": "stream",
     "text": [
      " 87%|████████▋ | 217/250 [17:13<02:29,  4.54s/it]"
     ]
    },
    {
     "name": "stdout",
     "output_type": "stream",
     "text": [
      "Epoch [217/250] terminée avec une perte moyenne: 1.4390\n"
     ]
    },
    {
     "name": "stderr",
     "output_type": "stream",
     "text": [
      " 87%|████████▋ | 218/250 [17:17<02:25,  4.54s/it]"
     ]
    },
    {
     "name": "stdout",
     "output_type": "stream",
     "text": [
      "Epoch [218/250] terminée avec une perte moyenne: 1.4409\n"
     ]
    },
    {
     "name": "stderr",
     "output_type": "stream",
     "text": [
      " 88%|████████▊ | 219/250 [17:22<02:20,  4.54s/it]"
     ]
    },
    {
     "name": "stdout",
     "output_type": "stream",
     "text": [
      "Epoch [219/250] terminée avec une perte moyenne: 1.4215\n"
     ]
    },
    {
     "name": "stderr",
     "output_type": "stream",
     "text": [
      " 88%|████████▊ | 220/250 [17:26<02:16,  4.54s/it]"
     ]
    },
    {
     "name": "stdout",
     "output_type": "stream",
     "text": [
      "Epoch [220/250] terminée avec une perte moyenne: 1.4276\n"
     ]
    },
    {
     "name": "stderr",
     "output_type": "stream",
     "text": [
      " 89%|████████▉ | 222/250 [17:36<02:07,  4.56s/it]"
     ]
    },
    {
     "name": "stdout",
     "output_type": "stream",
     "text": [
      "Epoch [222/250] terminée avec une perte moyenne: 1.4294\n"
     ]
    },
    {
     "name": "stderr",
     "output_type": "stream",
     "text": [
      " 89%|████████▉ | 223/250 [17:40<02:03,  4.56s/it]"
     ]
    },
    {
     "name": "stdout",
     "output_type": "stream",
     "text": [
      "Epoch [223/250] terminée avec une perte moyenne: 1.4204\n"
     ]
    },
    {
     "name": "stderr",
     "output_type": "stream",
     "text": [
      " 90%|████████▉ | 224/250 [17:45<01:58,  4.55s/it]"
     ]
    },
    {
     "name": "stdout",
     "output_type": "stream",
     "text": [
      "Epoch [224/250] terminée avec une perte moyenne: 1.4209\n"
     ]
    },
    {
     "name": "stderr",
     "output_type": "stream",
     "text": [
      " 90%|█████████ | 225/250 [17:49<01:53,  4.55s/it]"
     ]
    },
    {
     "name": "stdout",
     "output_type": "stream",
     "text": [
      "Epoch [225/250] terminée avec une perte moyenne: 1.4247\n"
     ]
    },
    {
     "name": "stderr",
     "output_type": "stream",
     "text": [
      " 90%|█████████ | 226/250 [17:54<01:49,  4.54s/it]"
     ]
    },
    {
     "name": "stdout",
     "output_type": "stream",
     "text": [
      "Epoch [226/250] terminée avec une perte moyenne: 1.4414\n"
     ]
    },
    {
     "name": "stderr",
     "output_type": "stream",
     "text": [
      " 91%|█████████ | 227/250 [17:58<01:44,  4.54s/it]"
     ]
    },
    {
     "name": "stdout",
     "output_type": "stream",
     "text": [
      "Epoch [227/250] terminée avec une perte moyenne: 1.4143\n"
     ]
    },
    {
     "name": "stderr",
     "output_type": "stream",
     "text": [
      " 91%|█████████ | 228/250 [18:03<01:39,  4.54s/it]"
     ]
    },
    {
     "name": "stdout",
     "output_type": "stream",
     "text": [
      "Epoch [228/250] terminée avec une perte moyenne: 1.4153\n"
     ]
    },
    {
     "name": "stderr",
     "output_type": "stream",
     "text": [
      " 92%|█████████▏| 229/250 [18:07<01:35,  4.54s/it]"
     ]
    },
    {
     "name": "stdout",
     "output_type": "stream",
     "text": [
      "Epoch [229/250] terminée avec une perte moyenne: 1.4090\n"
     ]
    },
    {
     "name": "stderr",
     "output_type": "stream",
     "text": [
      " 92%|█████████▏| 230/250 [18:12<01:30,  4.54s/it]"
     ]
    },
    {
     "name": "stdout",
     "output_type": "stream",
     "text": [
      "Epoch [230/250] terminée avec une perte moyenne: 1.4162\n"
     ]
    },
    {
     "name": "stderr",
     "output_type": "stream",
     "text": [
      " 93%|█████████▎| 232/250 [18:21<01:21,  4.55s/it]"
     ]
    },
    {
     "name": "stdout",
     "output_type": "stream",
     "text": [
      "Epoch [232/250] terminée avec une perte moyenne: 1.4027\n"
     ]
    },
    {
     "name": "stderr",
     "output_type": "stream",
     "text": [
      " 93%|█████████▎| 233/250 [18:25<01:17,  4.55s/it]"
     ]
    },
    {
     "name": "stdout",
     "output_type": "stream",
     "text": [
      "Epoch [233/250] terminée avec une perte moyenne: 1.4179\n"
     ]
    },
    {
     "name": "stderr",
     "output_type": "stream",
     "text": [
      " 94%|█████████▎| 234/250 [18:30<01:12,  4.55s/it]"
     ]
    },
    {
     "name": "stdout",
     "output_type": "stream",
     "text": [
      "Epoch [234/250] terminée avec une perte moyenne: 1.4090\n"
     ]
    },
    {
     "name": "stderr",
     "output_type": "stream",
     "text": [
      " 94%|█████████▍| 235/250 [18:35<01:08,  4.55s/it]"
     ]
    },
    {
     "name": "stdout",
     "output_type": "stream",
     "text": [
      "Epoch [235/250] terminée avec une perte moyenne: 1.4180\n"
     ]
    },
    {
     "name": "stderr",
     "output_type": "stream",
     "text": [
      " 94%|█████████▍| 236/250 [18:39<01:03,  4.55s/it]"
     ]
    },
    {
     "name": "stdout",
     "output_type": "stream",
     "text": [
      "Epoch [236/250] terminée avec une perte moyenne: 1.3897\n"
     ]
    },
    {
     "name": "stderr",
     "output_type": "stream",
     "text": [
      " 95%|█████████▍| 237/250 [18:44<00:59,  4.56s/it]"
     ]
    },
    {
     "name": "stdout",
     "output_type": "stream",
     "text": [
      "Epoch [237/250] terminée avec une perte moyenne: 1.4041\n"
     ]
    },
    {
     "name": "stderr",
     "output_type": "stream",
     "text": [
      " 95%|█████████▌| 238/250 [18:48<00:54,  4.55s/it]"
     ]
    },
    {
     "name": "stdout",
     "output_type": "stream",
     "text": [
      "Epoch [238/250] terminée avec une perte moyenne: 1.3865\n"
     ]
    },
    {
     "name": "stderr",
     "output_type": "stream",
     "text": [
      " 96%|█████████▌| 239/250 [18:53<00:50,  4.55s/it]"
     ]
    },
    {
     "name": "stdout",
     "output_type": "stream",
     "text": [
      "Epoch [239/250] terminée avec une perte moyenne: 1.4007\n"
     ]
    },
    {
     "name": "stderr",
     "output_type": "stream",
     "text": [
      " 96%|█████████▌| 240/250 [18:57<00:45,  4.55s/it]"
     ]
    },
    {
     "name": "stdout",
     "output_type": "stream",
     "text": [
      "Epoch [240/250] terminée avec une perte moyenne: 1.3906\n"
     ]
    },
    {
     "name": "stderr",
     "output_type": "stream",
     "text": [
      " 97%|█████████▋| 242/250 [19:06<00:36,  4.54s/it]"
     ]
    },
    {
     "name": "stdout",
     "output_type": "stream",
     "text": [
      "Epoch [242/250] terminée avec une perte moyenne: 1.4124\n"
     ]
    },
    {
     "name": "stderr",
     "output_type": "stream",
     "text": [
      " 97%|█████████▋| 243/250 [19:11<00:31,  4.54s/it]"
     ]
    },
    {
     "name": "stdout",
     "output_type": "stream",
     "text": [
      "Epoch [243/250] terminée avec une perte moyenne: 1.3927\n"
     ]
    },
    {
     "name": "stderr",
     "output_type": "stream",
     "text": [
      " 98%|█████████▊| 244/250 [19:16<00:27,  4.55s/it]"
     ]
    },
    {
     "name": "stdout",
     "output_type": "stream",
     "text": [
      "Epoch [244/250] terminée avec une perte moyenne: 1.3939\n"
     ]
    },
    {
     "name": "stderr",
     "output_type": "stream",
     "text": [
      " 98%|█████████▊| 245/250 [19:20<00:22,  4.55s/it]"
     ]
    },
    {
     "name": "stdout",
     "output_type": "stream",
     "text": [
      "Epoch [245/250] terminée avec une perte moyenne: 1.3921\n"
     ]
    },
    {
     "name": "stderr",
     "output_type": "stream",
     "text": [
      " 98%|█████████▊| 246/250 [19:25<00:18,  4.53s/it]"
     ]
    },
    {
     "name": "stdout",
     "output_type": "stream",
     "text": [
      "Epoch [246/250] terminée avec une perte moyenne: 1.3919\n"
     ]
    },
    {
     "name": "stderr",
     "output_type": "stream",
     "text": [
      " 99%|█████████▉| 247/250 [19:29<00:13,  4.52s/it]"
     ]
    },
    {
     "name": "stdout",
     "output_type": "stream",
     "text": [
      "Epoch [247/250] terminée avec une perte moyenne: 1.3935\n"
     ]
    },
    {
     "name": "stderr",
     "output_type": "stream",
     "text": [
      " 99%|█████████▉| 248/250 [19:34<00:09,  4.51s/it]"
     ]
    },
    {
     "name": "stdout",
     "output_type": "stream",
     "text": [
      "Epoch [248/250] terminée avec une perte moyenne: 1.3793\n"
     ]
    },
    {
     "name": "stderr",
     "output_type": "stream",
     "text": [
      "100%|█████████▉| 249/250 [19:38<00:04,  4.51s/it]"
     ]
    },
    {
     "name": "stdout",
     "output_type": "stream",
     "text": [
      "Epoch [249/250] terminée avec une perte moyenne: 1.3808\n"
     ]
    },
    {
     "name": "stderr",
     "output_type": "stream",
     "text": [
      "100%|██████████| 250/250 [19:43<00:00,  4.73s/it]"
     ]
    },
    {
     "name": "stdout",
     "output_type": "stream",
     "text": [
      "Epoch [250/250] terminée avec une perte moyenne: 1.3912\n",
      "Finished Training\n",
      "Finished Training. Model weights saved at weights2.pth\n"
     ]
    },
    {
     "name": "stderr",
     "output_type": "stream",
     "text": [
      "\n"
     ]
    }
   ],
   "source": [
    "# Model training\n",
    "\n",
    "#model\n",
    "model = MLP().to(device)\n",
    "\n",
    "#parameters\n",
    "batch_size = 1\n",
    "gamma0 = 0.01\n",
    "initial_lr = gamma0 / torch.sqrt(torch.tensor(23*23*3, dtype=torch.float32))\n",
    "criterion = nn.MSELoss()\n",
    "optimizer = optim.SGD(model.parameters(), lr=initial_lr, momentum=0.9)\n",
    "# scheduler to adjust lr (read the paper)\n",
    "scheduler = optim.lr_scheduler.LambdaLR(optimizer, lr_lambda=lambda epoch: 1/torch.sqrt(torch.tensor(epoch + 1, dtype=torch.float32)))\n",
    "\n",
    "# read data\n",
    "train_dir = './data/atoms/train/'\n",
    "test_dir = './data/atoms/test/'\n",
    "train_energy_dir = './data/energies/train.csv'\n",
    "\n",
    "train_df = read_data(train_dir)\n",
    "test_df = read_data(test_dir)\n",
    "\n",
    "# dataloader\n",
    "train = moleculeDataset(train_energy_dir, train_df)\n",
    "trainloader = DataLoader(train, batch_size=batch_size, shuffle=True)\n",
    "\n",
    "# epochs\n",
    "num_epochs = 250\n",
    "loss_list = []\n",
    "\n",
    "for epoch in tqdm(range(num_epochs)):\n",
    "    model.train()\n",
    "    running_loss = 0.0\n",
    "    for _, data in enumerate(trainloader):\n",
    "        x = data[0].to(device)\n",
    "        energy = data[1].to(device)\n",
    "        optimizer.zero_grad()\n",
    "        outputs = model(x)\n",
    "        loss = criterion(outputs, energy)\n",
    "        loss.backward()\n",
    "        optimizer.step()\n",
    "        running_loss += loss.item()\n",
    "    scheduler.step()\n",
    "\n",
    "    loss_list.append(running_loss / len(trainloader))\n",
    "\n",
    "    if epoch%10:\n",
    "        print(f'Epoch [{epoch+1}/{num_epochs}] terminée avec une perte moyenne: {running_loss/len(trainloader):.4f}')\n",
    "print('Finished Training')\n",
    "weights_path = 'weights2.pth'\n",
    "torch.save(model.state_dict(), weights_path)\n",
    "print('Finished Training. Model weights saved at', weights_path)"
   ]
  },
  {
   "cell_type": "code",
   "execution_count": null,
   "metadata": {
    "id": "APSh4RJB8H7B",
    "outputId": "97d493b2-5ce2-493e-9797-bb39c1e8f43e"
   },
   "outputs": [
    {
     "data": {
      "image/png": "[encoded data removed]",
      "text/plain": [
       "<Figure size 432x288 with 1 Axes>"
      ]
     },
     "metadata": {
      "needs_background": "light"
     },
     "output_type": "display_data"
    }
   ],
   "source": [
    "import matplotlib.pyplot as plt\n",
    "\n",
    "plt.plot(loss_list)\n",
    "plt.show()"
   ]
  },
  {
   "cell_type": "code",
   "execution_count": null,
   "metadata": {
    "id": "LzyuHPV88H7B"
   },
   "outputs": [],
   "source": [
    "### Test\n",
    "test_dir = './data/atoms/test/'\n",
    "test_df = read_data(test_dir)"
   ]
  },
  {
   "cell_type": "code",
   "execution_count": null,
   "metadata": {
    "id": "w9l2UyIA8H7C"
   },
   "outputs": [],
   "source": [
    "#dataloader\n",
    "test = moleculeTest(test_df)\n",
    "testloader = DataLoader(test, batch_size=batch_size, shuffle=False)\n",
    "\n",
    "# load weight\n",
    "model.load_state_dict(torch.load(weights_path))\n",
    "model.eval()\n",
    "\n",
    "predictions = []\n",
    "with torch.no_grad():\n",
    "    for _, data in enumerate(testloader):\n",
    "        x = data[0].to(device)\n",
    "        id = data[1].item()\n",
    "        outputs = model(x)\n",
    "        energy_pred = outputs.item()\n",
    "        predictions.append({\n",
    "            'id': id,\n",
    "            'energy': energy_pred\n",
    "        })\n",
    "\n",
    "predictions_df = pd.DataFrame(predictions)\n",
    "predictions_df = predictions_df.sort_values(by='id').reset_index(drop=True)\n",
    "output_csv = f'predictions_{num_epochs}_epochs.csv'\n",
    "predictions_df.to_csv(output_csv, index=False)"
   ]
  },
  {
   "cell_type": "code",
   "execution_count": null,
   "metadata": {
    "id": "pgMZEeMw8H7C"
   },
   "outputs": [],
   "source": []
  },
  {
   "cell_type": "code",
   "execution_count": null,
   "metadata": {
    "id": "GJFKo9KS8H7C"
   },
   "outputs": [],
   "source": []
  },
  {
   "cell_type": "code",
   "execution_count": null,
   "metadata": {
    "id": "XBf9YU438H7C"
   },
   "outputs": [],
   "source": []
  }
 ],
 "metadata": {
  "colab": {
   "provenance": []
  },
  "kernelspec": {
   "display_name": "Python 3 (ipykernel)",
   "language": "python",
   "name": "python3"
  },
  "language_info": {
   "codemirror_mode": {
    "name": "ipython",
    "version": 3
   },
   "file_extension": ".py",
   "mimetype": "text/x-python",
   "name": "python",
   "nbconvert_exporter": "python",
   "pygments_lexer": "ipython3",
   "version": "3.12.3"
  }
 },
 "nbformat": 4,
 "nbformat_minor": 1
}
