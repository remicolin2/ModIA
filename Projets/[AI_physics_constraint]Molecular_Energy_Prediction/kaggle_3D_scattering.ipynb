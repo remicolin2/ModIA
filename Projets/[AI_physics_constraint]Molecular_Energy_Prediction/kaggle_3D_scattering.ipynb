{
  "cells": [
    {
      "cell_type": "code",
      "execution_count": null,
      "metadata": {
        "colab": {
          "base_uri": "https://localhost:8080/"
        },
        "id": "aqU9YikIbAP3",
        "outputId": "1030f085-3c08-45f6-f2bd-d4e57b10477c"
      },
      "outputs": [
        {
          "name": "stdout",
          "output_type": "stream",
          "text": [
            "Collecting kymatio\n",
            "  Downloading kymatio-0.3.0-py3-none-any.whl (87 kB)\n",
            "\u001b[?25l     \u001b[90m━━━━━━━━━━━━━━━━━━━━━━━━━━━━━━━━━━━━━━━━\u001b[0m \u001b[32m0.0/87.6 kB\u001b[0m \u001b[31m?\u001b[0m eta \u001b[36m-:--:--\u001b[0m\r\u001b[2K     \u001b[90m━━━━━━━━━━━━━━━━━━━━━━━━━━━━━━━━━━━━━━━━\u001b[0m \u001b[32m87.6/87.6 kB\u001b[0m \u001b[31m2.6 MB/s\u001b[0m eta \u001b[36m0:00:00\u001b[0m\n",
            "\u001b[?25hCollecting appdirs (from kymatio)\n",
            "  Downloading appdirs-1.4.4-py2.py3-none-any.whl (9.6 kB)\n",
            "Collecting configparser (from kymatio)\n",
            "  Downloading configparser-7.0.0-py3-none-any.whl (16 kB)\n",
            "Requirement already satisfied: numpy in /usr/local/lib/python3.10/dist-packages (from kymatio) (1.25.2)\n",
            "Requirement already satisfied: packaging in /usr/local/lib/python3.10/dist-packages (from kymatio) (24.1)\n",
            "Requirement already satisfied: scipy in /usr/local/lib/python3.10/dist-packages (from kymatio) (1.11.4)\n",
            "Installing collected packages: appdirs, configparser, kymatio\n",
            "Successfully installed appdirs-1.4.4 configparser-7.0.0 kymatio-0.3.0\n",
            "Collecting ase\n",
            "  Downloading ase-3.23.0-py3-none-any.whl (2.9 MB)\n",
            "\u001b[2K     \u001b[90m━━━━━━━━━━━━━━━━━━━━━━━━━━━━━━━━━━━━━━━━\u001b[0m \u001b[32m2.9/2.9 MB\u001b[0m \u001b[31m40.4 MB/s\u001b[0m eta \u001b[36m0:00:00\u001b[0m\n",
            "\u001b[?25hRequirement already satisfied: numpy>=1.18.5 in /usr/local/lib/python3.10/dist-packages (from ase) (1.25.2)\n",
            "Requirement already satisfied: scipy>=1.6.0 in /usr/local/lib/python3.10/dist-packages (from ase) (1.11.4)\n",
            "Requirement already satisfied: matplotlib>=3.3.4 in /usr/local/lib/python3.10/dist-packages (from ase) (3.7.1)\n",
            "Requirement already satisfied: contourpy>=1.0.1 in /usr/local/lib/python3.10/dist-packages (from matplotlib>=3.3.4->ase) (1.2.1)\n",
            "Requirement already satisfied: cycler>=0.10 in /usr/local/lib/python3.10/dist-packages (from matplotlib>=3.3.4->ase) (0.12.1)\n",
            "Requirement already satisfied: fonttools>=4.22.0 in /usr/local/lib/python3.10/dist-packages (from matplotlib>=3.3.4->ase) (4.53.0)\n",
            "Requirement already satisfied: kiwisolver>=1.0.1 in /usr/local/lib/python3.10/dist-packages (from matplotlib>=3.3.4->ase) (1.4.5)\n",
            "Requirement already satisfied: packaging>=20.0 in /usr/local/lib/python3.10/dist-packages (from matplotlib>=3.3.4->ase) (24.1)\n",
            "Requirement already satisfied: pillow>=6.2.0 in /usr/local/lib/python3.10/dist-packages (from matplotlib>=3.3.4->ase) (9.4.0)\n",
            "Requirement already satisfied: pyparsing>=2.3.1 in /usr/local/lib/python3.10/dist-packages (from matplotlib>=3.3.4->ase) (3.1.2)\n",
            "Requirement already satisfied: python-dateutil>=2.7 in /usr/local/lib/python3.10/dist-packages (from matplotlib>=3.3.4->ase) (2.8.2)\n",
            "Requirement already satisfied: six>=1.5 in /usr/local/lib/python3.10/dist-packages (from python-dateutil>=2.7->matplotlib>=3.3.4->ase) (1.16.0)\n",
            "Installing collected packages: ase\n",
            "Successfully installed ase-3.23.0\n"
          ]
        }
      ],
      "source": [
        "!pip install kymatio\n",
        "!pip install ase\n",
        "\n"
      ]
    },
    {
      "cell_type": "code",
      "execution_count": null,
      "metadata": {
        "colab": {
          "base_uri": "https://localhost:8080/"
        },
        "id": "6FDVptRrbqQt",
        "outputId": "505f4797-f5d8-4ab8-b0f6-f38f092144d5"
      },
      "outputs": [
        {
          "output_type": "stream",
          "name": "stdout",
          "text": [
            "Files extracted to: extracted_data\n"
          ]
        }
      ],
      "source": [
        "import zipfile\n",
        "import os\n",
        "\n",
        "# Assuming the uploaded file is named 'yourfile.zip'\n",
        "zip_file_name = '/content/defi-modia-2024.zip'\n",
        "\n",
        "# Create a directory to extract the contents\n",
        "extracted_dir = 'extracted_data'\n",
        "os.makedirs(extracted_dir, exist_ok=True)\n",
        "\n",
        "# Unzip the file\n",
        "with zipfile.ZipFile(zip_file_name, 'r') as zip_ref:\n",
        "    zip_ref.extractall(extracted_dir)\n",
        "\n",
        "print(f\"Files extracted to: {extracted_dir}\")"
      ]
    },
    {
      "cell_type": "code",
      "execution_count": null,
      "metadata": {
        "id": "FXJ5CM2ydaT0"
      },
      "outputs": [],
      "source": [
        "import numpy as np\n",
        "import pandas as pd"
      ]
    },
    {
      "cell_type": "code",
      "execution_count": null,
      "metadata": {
        "id": "T1q8Y4NLddYi"
      },
      "outputs": [],
      "source": [
        "test_scattering_coefs = np.load(\"/content/scattering_coef_test_tartbit.npy\")"
      ]
    },
    {
      "cell_type": "code",
      "execution_count": null,
      "metadata": {
        "id": "4jcBXG3KdpUt"
      },
      "outputs": [],
      "source": [
        "import torch"
      ]
    },
    {
      "cell_type": "code",
      "execution_count": null,
      "metadata": {
        "id": "Y-A9VIRidjtz"
      },
      "outputs": [],
      "source": [
        "order_0_train = torch.load(\"/content/order_0_tartibcat.pt\")\n",
        "order_1_2_train = torch.load(\"/content/order_1_and_2_tartibcat.pt\")"
      ]
    },
    {
      "cell_type": "code",
      "execution_count": null,
      "metadata": {
        "id": "Iw09uEt9dzQ8"
      },
      "outputs": [],
      "source": [
        "csv_file_path = '/content/extracted_data/data/energies/train.csv'\n",
        "energies_df = pd.read_csv(csv_file_path)\n",
        "target_energies = energies_df['energy'].values"
      ]
    },
    {
      "cell_type": "code",
      "execution_count": null,
      "metadata": {
        "id": "FJfFsxJ_eOWE"
      },
      "outputs": [],
      "source": [
        "n_molecules_train = 4628\n",
        "n_molecules_test = 1156"
      ]
    },
    {
      "cell_type": "code",
      "execution_count": null,
      "metadata": {
        "colab": {
          "base_uri": "https://localhost:8080/"
        },
        "id": "4y4NtkLNfBjp",
        "outputId": "766d1f16-cd16-4f97-fa74-3aa4002bc3e4"
      },
      "outputs": [
        {
          "output_type": "execute_result",
          "data": {
            "text/plain": [
              "(4628, 4, 3)"
            ]
          },
          "metadata": {},
          "execution_count": 9
        }
      ],
      "source": [
        "order_0_train.shape"
      ]
    },
    {
      "cell_type": "code",
      "execution_count": null,
      "metadata": {
        "id": "JKV237lFe1hn"
      },
      "outputs": [],
      "source": [
        "order_0_train = order_0_train.reshape((n_molecules_train, -1))\n",
        "orders_1_and_2_train = order_1_2_train.reshape((n_molecules_train, -1))\n"
      ]
    },
    {
      "cell_type": "code",
      "execution_count": null,
      "metadata": {
        "id": "UoLVz3zyfNgQ"
      },
      "outputs": [],
      "source": [
        "scattering_coef_train = np.concatenate([order_0_train, orders_1_and_2_train], axis=1)\n"
      ]
    },
    {
      "cell_type": "code",
      "execution_count": null,
      "metadata": {
        "id": "31TyvYfpfT2g"
      },
      "outputs": [],
      "source": [
        "n_folds = 4\n",
        "\n",
        "P = np.random.permutation(n_molecules_train).reshape((n_folds, -1))\n",
        "\n",
        "cross_val_folds = []\n",
        "\n",
        "for i_fold in range(n_folds):\n",
        "    fold = (np.concatenate(P[np.arange(n_folds) != i_fold], axis=0),\n",
        "            P[i_fold])\n",
        "    cross_val_folds.append(fold)"
      ]
    },
    {
      "cell_type": "code",
      "execution_count": null,
      "metadata": {
        "id": "C9mOjvdVfuZ4"
      },
      "outputs": [],
      "source": [
        "from sklearn import (linear_model, model_selection, preprocessing,\n",
        "                     pipeline)\n",
        "from scipy.spatial.distance import pdist"
      ]
    },
    {
      "cell_type": "code",
      "source": [
        "import numpy as np\n",
        "import matplotlib.pyplot as plt\n",
        "from sklearn import preprocessing, linear_model, pipeline, model_selection\n",
        "from sklearn.metrics import mean_absolute_error, mean_squared_error\n",
        "\n",
        "# Number of folds for cross-validation\n",
        "n_folds = 4\n",
        "n_molecules_train = len(scattering_coef_train)\n",
        "\n",
        "# Create cross-validation folds\n",
        "P = np.random.permutation(n_molecules_train).reshape((n_folds, -1))\n",
        "cross_val_folds = []\n",
        "\n",
        "for i_fold in range(n_folds):\n",
        "    fold = (np.concatenate(P[np.arange(n_folds) != i_fold], axis=0),\n",
        "            P[i_fold])\n",
        "    cross_val_folds.append(fold)\n",
        "\n",
        "# List of alpha values to evaluate\n",
        "alphas = 10.0 ** (-np.arange(1, 10))\n",
        "mae_scores = []\n",
        "rmse_scores = []\n",
        "\n",
        "for i, alpha in enumerate(alphas):\n",
        "    scaler = preprocessing.StandardScaler()\n",
        "    ridge = linear_model.Ridge(alpha=alpha)\n",
        "\n",
        "    regressor = pipeline.make_pipeline(scaler, ridge)\n",
        "\n",
        "    target_prediction = model_selection.cross_val_predict(regressor,\n",
        "            X=scattering_coef_train, y=target_energies, cv=cross_val_folds)\n",
        "\n",
        "    MAE = np.mean(np.abs(target_prediction - target_energies))\n",
        "    RMSE = np.sqrt(np.mean((target_prediction - target_energies) ** 2))\n",
        "\n",
        "    mae_scores.append(MAE)\n",
        "    rmse_scores.append(RMSE)\n",
        "\n",
        "    print(f'Ridge regression, alpha: {alpha}, MAE: {MAE}, RMSE: {RMSE}')\n",
        "\n",
        "# Plotting the results\n",
        "plt.figure(figsize=(12, 6))\n",
        "plt.subplot(1, 2, 1)\n",
        "plt.plot(alphas, mae_scores, marker='o')\n",
        "plt.xscale('log')\n",
        "plt.xlabel('Alpha')\n",
        "plt.ylabel('MAE')\n",
        "plt.title('MAE vs. Alpha')\n",
        "\n",
        "plt.subplot(1, 2, 2)\n",
        "plt.plot(alphas, rmse_scores, marker='o')\n",
        "plt.xscale('log')\n",
        "plt.xlabel('Alpha')\n",
        "plt.ylabel('RMSE')\n",
        "plt.title('RMSE vs. Alpha')\n",
        "\n",
        "plt.tight_layout()\n",
        "plt.show()\n"
      ],
      "metadata": {
        "colab": {
          "base_uri": "https://localhost:8080/",
          "height": 902
        },
        "id": "pfEdZ5HkvU7C",
        "outputId": "761f47c3-1f4c-422b-9b44-e6f92fe83594"
      },
      "execution_count": null,
      "outputs": [
        {
          "output_type": "stream",
          "name": "stderr",
          "text": [
            "/usr/local/lib/python3.10/dist-packages/sklearn/linear_model/_ridge.py:216: LinAlgWarning: Ill-conditioned matrix (rcond=2.50407e-08): result may not be accurate.\n",
            "  return linalg.solve(A, Xy, assume_a=\"pos\", overwrite_a=True).T\n",
            "/usr/local/lib/python3.10/dist-packages/sklearn/linear_model/_ridge.py:216: LinAlgWarning: Ill-conditioned matrix (rcond=1.39157e-08): result may not be accurate.\n",
            "  return linalg.solve(A, Xy, assume_a=\"pos\", overwrite_a=True).T\n",
            "/usr/local/lib/python3.10/dist-packages/sklearn/linear_model/_ridge.py:216: LinAlgWarning: Ill-conditioned matrix (rcond=3.47378e-08): result may not be accurate.\n",
            "  return linalg.solve(A, Xy, assume_a=\"pos\", overwrite_a=True).T\n",
            "/usr/local/lib/python3.10/dist-packages/sklearn/linear_model/_ridge.py:216: LinAlgWarning: Ill-conditioned matrix (rcond=3.70899e-08): result may not be accurate.\n",
            "  return linalg.solve(A, Xy, assume_a=\"pos\", overwrite_a=True).T\n"
          ]
        },
        {
          "output_type": "stream",
          "name": "stdout",
          "text": [
            "Ridge regression, alpha: 0.09999999999999999, MAE: 0.11692283353526911, RMSE: 0.17628184442904152\n",
            "Ridge regression, alpha: 0.01, MAE: 0.0823445355853914, RMSE: 0.17257080237967282\n",
            "Ridge regression, alpha: 0.001, MAE: 0.06442281088879698, RMSE: 0.21221869156541384\n",
            "Ridge regression, alpha: 9.999999999999999e-05, MAE: 0.05101743448605538, RMSE: 0.18146810185548362\n",
            "Ridge regression, alpha: 9.999999999999999e-06, MAE: 0.051469685418370346, RMSE: 0.41169140073107363\n",
            "Ridge regression, alpha: 1e-06, MAE: 0.05596596362321542, RMSE: 0.6955203540649618\n",
            "Ridge regression, alpha: 1e-07, MAE: 0.055105743389966856, RMSE: 0.7662073198087772\n",
            "Ridge regression, alpha: 1e-08, MAE: 0.052278321449969516, RMSE: 0.6827610085864372\n",
            "Ridge regression, alpha: 9.999999999999999e-10, MAE: 0.05257591226737033, RMSE: 0.5572463450711066\n"
          ]
        },
        {
          "output_type": "display_data",
          "data": {
            "text/plain": [
              "<Figure size 1200x600 with 2 Axes>"
            ],
            "image/png": "[encoded data removed]"
          },
          "metadata": {}
        }
      ]
    },
    {
      "cell_type": "code",
      "execution_count": null,
      "metadata": {
        "colab": {
          "base_uri": "https://localhost:8080/"
        },
        "id": "clpKiMjafVBA",
        "outputId": "a44f58cf-864a-4c36-c7fe-057fa7b0c90e"
      },
      "outputs": [
        {
          "name": "stderr",
          "output_type": "stream",
          "text": [
            "/usr/local/lib/python3.10/dist-packages/sklearn/linear_model/_ridge.py:216: LinAlgWarning: Ill-conditioned matrix (rcond=3.56613e-08): result may not be accurate.\n",
            "  return linalg.solve(A, Xy, assume_a=\"pos\", overwrite_a=True).T\n",
            "/usr/local/lib/python3.10/dist-packages/sklearn/linear_model/_ridge.py:216: LinAlgWarning: Ill-conditioned matrix (rcond=2.72868e-08): result may not be accurate.\n",
            "  return linalg.solve(A, Xy, assume_a=\"pos\", overwrite_a=True).T\n",
            "/usr/local/lib/python3.10/dist-packages/sklearn/linear_model/_ridge.py:216: LinAlgWarning: Ill-conditioned matrix (rcond=3.56445e-08): result may not be accurate.\n",
            "  return linalg.solve(A, Xy, assume_a=\"pos\", overwrite_a=True).T\n",
            "/usr/local/lib/python3.10/dist-packages/sklearn/linear_model/_ridge.py:216: LinAlgWarning: Ill-conditioned matrix (rcond=3.30568e-08): result may not be accurate.\n",
            "  return linalg.solve(A, Xy, assume_a=\"pos\", overwrite_a=True).T\n"
          ]
        },
        {
          "name": "stdout",
          "output_type": "stream",
          "text": [
            "Ridge regression, alpha: 0.09999999999999999, MAE: 0.11641599942828636, RMSE: 0.1722967410700668\n",
            "Ridge regression, alpha: 0.01, MAE: 0.08186283821060766, RMSE: 0.2105401774631127\n",
            "Ridge regression, alpha: 0.001, MAE: 0.06533304929556484, RMSE: 0.31063326257517565\n",
            "Ridge regression, alpha: 9.999999999999999e-05, MAE: 0.05392192948778548, RMSE: 0.2875938426926654\n",
            "Ridge regression, alpha: 9.999999999999999e-06, MAE: 0.053517599891931, RMSE: 0.5404036934385799\n",
            "Ridge regression, alpha: 1e-06, MAE: 0.0630030303012105, RMSE: 0.9736949294184563\n",
            "Ridge regression, alpha: 1e-07, MAE: 0.07434020962201783, RMSE: 1.4177277351696518\n",
            "Ridge regression, alpha: 1e-08, MAE: 0.07112123794909633, RMSE: 1.2946728277876824\n",
            "Ridge regression, alpha: 9.999999999999999e-10, MAE: 0.056177994875487955, RMSE: 0.7188218954806633\n"
          ]
        }
      ],
      "source": [
        "n_folds = 4\n",
        "\n",
        "P = np.random.permutation(n_molecules_train).reshape((n_folds, -1))\n",
        "\n",
        "cross_val_folds = []\n",
        "\n",
        "for i_fold in range(n_folds):\n",
        "    fold = (np.concatenate(P[np.arange(n_folds) != i_fold], axis=0),\n",
        "            P[i_fold])\n",
        "    cross_val_folds.append(fold)\n",
        "\n",
        "alphas = 10.0 ** (-np.arange(1, 10))\n",
        "for i, alpha in enumerate(alphas):\n",
        "    scaler = preprocessing.StandardScaler()\n",
        "    ridge = linear_model.Ridge(alpha=alpha)\n",
        "\n",
        "    regressor = pipeline.make_pipeline(scaler, ridge)\n",
        "\n",
        "    target_prediction = model_selection.cross_val_predict(regressor,\n",
        "            X=scattering_coef_train, y=target_energies, cv=cross_val_folds)\n",
        "\n",
        "    MAE = np.mean(np.abs(target_prediction - target_energies))\n",
        "    RMSE = np.sqrt(np.mean((target_prediction - target_energies) ** 2))\n",
        "\n",
        "    print('Ridge regression, alpha: {}, MAE: {}, RMSE: {}'.format(\n",
        "        alpha, MAE, RMSE))"
      ]
    },
    {
      "cell_type": "code",
      "execution_count": null,
      "metadata": {
        "id": "vRQR9ImShQSo"
      },
      "outputs": [],
      "source": [
        "test_ds = \"/content/extracted_data/atoms/test\"\n",
        "\n",
        "\n",
        "# Get list of test filenames (excluding file extension)\n",
        "test_filenames = [os.path.splitext(f)[0] for f in sorted(os.listdir(test_ds)) if f.endswith('.xyz')]\n",
        "\n",
        "\n",
        "test_filenames = [int(test_filenames[i][3:]) for i in range(len(test_filenames))]"
      ]
    },
    {
      "cell_type": "code",
      "execution_count": null,
      "metadata": {
        "id": "WPtHdw9dvFSo"
      },
      "outputs": [],
      "source": [
        "import numpy as np\n",
        "from sklearn import preprocessing, linear_model, pipeline, model_selection\n",
        "from sklearn.ensemble import BaggingRegressor\n",
        "from sklearn.metrics import mean_absolute_error, mean_squared_error"
      ]
    },
    {
      "cell_type": "code",
      "execution_count": null,
      "metadata": {
        "colab": {
          "base_uri": "https://localhost:8080/"
        },
        "id": "_BfGypDqx0lA",
        "outputId": "9983ce68-3c4a-4c9f-9eb9-879124c6ae8b"
      },
      "outputs": [
        {
          "output_type": "stream",
          "name": "stderr",
          "text": [
            "/usr/local/lib/python3.10/dist-packages/sklearn/ensemble/_base.py:166: FutureWarning: `base_estimator` was renamed to `estimator` in version 1.2 and will be removed in 1.4.\n",
            "  warnings.warn(\n",
            "/usr/local/lib/python3.10/dist-packages/sklearn/ensemble/_base.py:166: FutureWarning: `base_estimator` was renamed to `estimator` in version 1.2 and will be removed in 1.4.\n",
            "  warnings.warn(\n",
            "/usr/local/lib/python3.10/dist-packages/sklearn/ensemble/_base.py:166: FutureWarning: `base_estimator` was renamed to `estimator` in version 1.2 and will be removed in 1.4.\n",
            "  warnings.warn(\n",
            "/usr/local/lib/python3.10/dist-packages/sklearn/ensemble/_base.py:166: FutureWarning: `base_estimator` was renamed to `estimator` in version 1.2 and will be removed in 1.4.\n",
            "  warnings.warn(\n"
          ]
        },
        {
          "output_type": "stream",
          "name": "stdout",
          "text": [
            "Boosting Ridge regression with specified parameters, MAE: 0.03728494074268223, RMSE: 0.020927071843008755\n"
          ]
        },
        {
          "output_type": "stream",
          "name": "stderr",
          "text": [
            "/usr/local/lib/python3.10/dist-packages/sklearn/ensemble/_base.py:166: FutureWarning: `base_estimator` was renamed to `estimator` in version 1.2 and will be removed in 1.4.\n",
            "  warnings.warn(\n"
          ]
        }
      ],
      "source": [
        "import numpy as np\n",
        "from sklearn import preprocessing, linear_model, pipeline, model_selection\n",
        "from sklearn.ensemble import AdaBoostRegressor\n",
        "from sklearn.metrics import mean_absolute_error, mean_squared_error\n",
        "\n",
        "# Number of folds for cross-validation\n",
        "n_folds = 4\n",
        "n_molecules_train = len(scattering_coef_train)  # Ensure you have the correct length\n",
        "\n",
        "# Create cross-validation folds\n",
        "P = np.random.permutation(n_molecules_train).reshape((n_folds, -1))\n",
        "cross_val_folds = []\n",
        "\n",
        "for i_fold in range(n_folds):\n",
        "    fold = (np.concatenate(P[np.arange(n_folds) != i_fold], axis=0),\n",
        "            P[i_fold])\n",
        "    cross_val_folds.append(fold)\n",
        "\n",
        "# Set the desired hyperparameters\n",
        "best_alpha = 1e-10\n",
        "n_estimators = 150\n",
        "learning_rate = 0.011\n",
        "\n",
        "# Define the base regressor with the specified alpha\n",
        "base_ridge = linear_model.Ridge(alpha=best_alpha)\n",
        "\n",
        "# Create the AdaBoost regressor with the specified parameters\n",
        "boosting_regressor = AdaBoostRegressor(base_estimator=base_ridge, n_estimators=n_estimators, learning_rate=learning_rate, random_state=42)\n",
        "\n",
        "# Create the pipeline\n",
        "scaler = preprocessing.StandardScaler()\n",
        "\n",
        "regressor = pipeline.Pipeline([\n",
        "    ('scaler', scaler),\n",
        "    ('boosting', boosting_regressor)\n",
        "])\n",
        "\n",
        "# Perform cross-validation\n",
        "target_prediction = model_selection.cross_val_predict(regressor, X=scattering_coef_train, y=target_energies, cv=cross_val_folds)\n",
        "\n",
        "# Calculate MAE and RMSE\n",
        "MAE = mean_absolute_error(target_energies, target_prediction)\n",
        "MSE = mean_squared_error(target_energies, target_prediction)\n",
        "\n",
        "print(f'Boosting Ridge regression with specified parameters, MAE: {MAE}, RMSE: {MSE}')\n",
        "\n",
        "# Fit the model on the entire training data\n",
        "regressor.fit(scattering_coef_train, target_energies)\n",
        "\n",
        "# Predict on the test data\n",
        "test_predictions = regressor.predict(test_scattering_coefs)\n"
      ]
    },
    {
      "cell_type": "code",
      "source": [
        "import numpy as np\n",
        "from sklearn import preprocessing, linear_model, pipeline, model_selection\n",
        "from sklearn.ensemble import AdaBoostRegressor\n",
        "from sklearn.metrics import make_scorer, mean_absolute_error, mean_squared_error\n",
        "\n",
        "# Define a custom scorer for GridSearchCV to output MAE\n",
        "mae_scorer = make_scorer(mean_absolute_error, greater_is_better=False)\n",
        "rmse_scorer = make_scorer(mean_squared_error, greater_is_better=False)\n",
        "\n",
        "# Number of folds for cross-validation\n",
        "n_folds = 4\n",
        "n_molecules_train = len(scattering_coef_train)  # Ensure you have the correct length\n",
        "\n",
        "# Create cross-validation folds\n",
        "P = np.random.permutation(n_molecules_train).reshape((n_folds, -1))\n",
        "cross_val_folds = []\n",
        "\n",
        "for i_fold in range(n_folds):\n",
        "    fold = (np.concatenate(P[np.arange(n_folds) != i_fold], axis=0),\n",
        "            P[i_fold])\n",
        "    cross_val_folds.append(fold)\n",
        "\n",
        "# Set the desired hyperparameters grid\n",
        "param_grid = {\n",
        "    'boosting__n_estimators': [ 150],\n",
        "    'boosting__learning_rate': [0.0097, 0.01, 0.015, 0.02],\n",
        "    'boosting__base_estimator__alpha': [1e-10]\n",
        "}\n",
        "\n",
        "# Define the base regressor with the specified alpha\n",
        "base_ridge = linear_model.Ridge()\n",
        "\n",
        "# Create the AdaBoost regressor\n",
        "boosting_regressor = AdaBoostRegressor(base_estimator=base_ridge, random_state=42)\n",
        "\n",
        "# Create the pipeline\n",
        "scaler = preprocessing.StandardScaler()\n",
        "regressor = pipeline.Pipeline([\n",
        "    ('scaler', scaler),\n",
        "    ('boosting', boosting_regressor)\n",
        "])\n",
        "\n",
        "# Perform grid search with cross-validation\n",
        "grid_search = model_selection.GridSearchCV(\n",
        "    regressor,\n",
        "    param_grid,\n",
        "    scoring={'MAE': mae_scorer, 'RMSE': rmse_scorer},\n",
        "    refit='MAE',  # Refit using the model that gives the best MAE score\n",
        "    cv=cross_val_folds,\n",
        "    verbose=2,\n",
        "    n_jobs=-1\n",
        ")\n",
        "\n",
        "# Fit the grid search\n",
        "grid_search.fit(scattering_coef_train, target_energies)\n",
        "\n",
        "# Print the best parameters and best score\n",
        "print(\"Best parameters found: \", grid_search.best_params_)\n",
        "print(\"Best MAE score: \", -grid_search.best_score_)\n",
        "\n",
        "# Print scores for all parameter combinations\n",
        "for mean_score, params in zip(grid_search.cv_results_['mean_test_MAE'], grid_search.cv_results_['params']):\n",
        "    rmse_score = [score for mean, score, param in zip(grid_search.cv_results_['mean_test_MAE'], grid_search.cv_results_['mean_test_RMSE'], grid_search.cv_results_['params']) if param == params]\n",
        "    print(f\"Params: {params} - MAE: {-mean_score} - RMSE: {np.sqrt(-rmse_score[0])}\")\n",
        "\n",
        "# Use the best model to predict on the test data\n",
        "best_model = grid_search.best_estimator_\n",
        "test_predictions = best_model.predict(test_scattering_coefs)"
      ],
      "metadata": {
        "colab": {
          "base_uri": "https://localhost:8080/"
        },
        "id": "N8ILW4TqhHYF",
        "outputId": "7d5f7302-491f-40e4-8ea1-fc44f1d0f836"
      },
      "execution_count": null,
      "outputs": [
        {
          "output_type": "stream",
          "name": "stdout",
          "text": [
            "Fitting 4 folds for each of 4 candidates, totalling 16 fits\n"
          ]
        },
        {
          "output_type": "stream",
          "name": "stderr",
          "text": [
            "/usr/local/lib/python3.10/dist-packages/sklearn/ensemble/_base.py:166: FutureWarning: `base_estimator` was renamed to `estimator` in version 1.2 and will be removed in 1.4.\n",
            "  warnings.warn(\n"
          ]
        },
        {
          "output_type": "stream",
          "name": "stdout",
          "text": [
            "Best parameters found:  {'boosting__base_estimator__alpha': 1e-10, 'boosting__learning_rate': 0.01, 'boosting__n_estimators': 150}\n",
            "Best MAE score:  1.8335295971569512\n",
            "Params: {'boosting__base_estimator__alpha': 1e-10, 'boosting__learning_rate': 0.0097, 'boosting__n_estimators': 150} - MAE: 1.902008606715679 - RMSE: 89.53227679945635\n",
            "Params: {'boosting__base_estimator__alpha': 1e-10, 'boosting__learning_rate': 0.01, 'boosting__n_estimators': 150} - MAE: 1.8335295971569512 - RMSE: 86.26883041186508\n",
            "Params: {'boosting__base_estimator__alpha': 1e-10, 'boosting__learning_rate': 0.015, 'boosting__n_estimators': 150} - MAE: 2.3302349114512664 - RMSE: 110.21731885176946\n",
            "Params: {'boosting__base_estimator__alpha': 1e-10, 'boosting__learning_rate': 0.02, 'boosting__n_estimators': 150} - MAE: 2.9128840364153015 - RMSE: 138.23084776779325\n"
          ]
        }
      ]
    },
    {
      "cell_type": "code",
      "source": [
        "import numpy as np\n",
        "from sklearn import preprocessing, linear_model, pipeline, model_selection\n",
        "from sklearn.ensemble import AdaBoostRegressor\n",
        "from sklearn.metrics import mean_absolute_error, mean_squared_error\n",
        "\n",
        "# Number of folds for cross-validation\n",
        "n_folds = 4\n",
        "n_molecules_train = len(scattering_coef_train)  # Ensure you have the correct length\n",
        "\n",
        "# Create cross-validation folds\n",
        "P = np.random.permutation(n_molecules_train).reshape((n_folds, -1))\n",
        "cross_val_folds = []\n",
        "\n",
        "for i_fold in range(n_folds):\n",
        "    fold = (np.concatenate(P[np.arange(n_folds) != i_fold], axis=0),\n",
        "            P[i_fold])\n",
        "    cross_val_folds.append(fold)\n",
        "\n",
        "# Set the desired hyperparameters\n",
        "best_alpha = 1e-10\n",
        "n_estimators = 150\n",
        "learning_rate = 0.01\n",
        "\n",
        "# Define the base regressor with the specified alpha\n",
        "base_ridge = linear_model.Ridge(alpha=best_alpha)\n",
        "\n",
        "# Create the AdaBoost regressor with the specified parameters\n",
        "boosting_regressor = AdaBoostRegressor(base_estimator=base_ridge, n_estimators=n_estimators, learning_rate=learning_rate, random_state=42)\n",
        "\n",
        "# Create the pipeline\n",
        "scaler = preprocessing.StandardScaler()\n",
        "\n",
        "regressor = pipeline.Pipeline([\n",
        "    ('scaler', scaler),\n",
        "    ('boosting', boosting_regressor)\n",
        "])\n",
        "\n",
        "# Perform cross-validation\n",
        "target_prediction = model_selection.cross_val_predict(regressor, X=scattering_coef_train, y=target_energies, cv=cross_val_folds)\n",
        "\n",
        "# Calculate MAE and RMSE\n",
        "MAE = mean_absolute_error(target_energies, target_prediction)\n",
        "MSE = mean_squared_error(target_energies, target_prediction)\n",
        "\n",
        "print(f'Boosting Ridge regression with specified parameters, MAE: {MAE}, RMSE: {MSE}')\n",
        "\n",
        "# Fit the model on the entire training data\n",
        "regressor.fit(scattering_coef_train, target_energies)\n",
        "\n",
        "# Predict on the test data\n",
        "test_predictions = regressor.predict(test_scattering_coefs)\n"
      ],
      "metadata": {
        "colab": {
          "base_uri": "https://localhost:8080/"
        },
        "id": "0Do08jHLh_j8",
        "outputId": "6d3cad22-a903-4726-d76e-d8ac827a4c78"
      },
      "execution_count": null,
      "outputs": [
        {
          "output_type": "stream",
          "name": "stderr",
          "text": [
            "/usr/local/lib/python3.10/dist-packages/sklearn/ensemble/_base.py:166: FutureWarning: `base_estimator` was renamed to `estimator` in version 1.2 and will be removed in 1.4.\n",
            "  warnings.warn(\n",
            "/usr/local/lib/python3.10/dist-packages/sklearn/ensemble/_base.py:166: FutureWarning: `base_estimator` was renamed to `estimator` in version 1.2 and will be removed in 1.4.\n",
            "  warnings.warn(\n",
            "/usr/local/lib/python3.10/dist-packages/sklearn/ensemble/_base.py:166: FutureWarning: `base_estimator` was renamed to `estimator` in version 1.2 and will be removed in 1.4.\n",
            "  warnings.warn(\n",
            "/usr/local/lib/python3.10/dist-packages/sklearn/ensemble/_base.py:166: FutureWarning: `base_estimator` was renamed to `estimator` in version 1.2 and will be removed in 1.4.\n",
            "  warnings.warn(\n"
          ]
        },
        {
          "output_type": "stream",
          "name": "stdout",
          "text": [
            "Boosting Ridge regression with specified parameters, MAE: 0.039924260107804525, RMSE: 0.06215902444767119\n"
          ]
        },
        {
          "output_type": "stream",
          "name": "stderr",
          "text": [
            "/usr/local/lib/python3.10/dist-packages/sklearn/ensemble/_base.py:166: FutureWarning: `base_estimator` was renamed to `estimator` in version 1.2 and will be removed in 1.4.\n",
            "  warnings.warn(\n"
          ]
        }
      ]
    },
    {
      "cell_type": "code",
      "execution_count": null,
      "metadata": {
        "id": "jVNPRgB2zTuG"
      },
      "outputs": [],
      "source": [
        "submission_df = pd.DataFrame({'id': test_filenames, 'energy': test_predictions})\n",
        "\n",
        "# Save to CSV\n",
        "submission_df.to_csv('minus1.csv', index=False)\n"
      ]
    }
  ],
  "metadata": {
    "accelerator": "GPU",
    "colab": {
      "gpuType": "L4",
      "machine_shape": "hm",
      "provenance": []
    },
    "kernelspec": {
      "display_name": "Python 3",
      "name": "python3"
    },
    "language_info": {
      "name": "python"
    }
  },
  "nbformat": 4,
  "nbformat_minor": 0
}