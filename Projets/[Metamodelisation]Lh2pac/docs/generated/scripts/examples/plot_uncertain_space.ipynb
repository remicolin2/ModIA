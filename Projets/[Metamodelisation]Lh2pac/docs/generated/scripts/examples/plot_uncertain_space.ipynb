{
  "cells": [
    {
      "cell_type": "code",
      "execution_count": null,
      "metadata": {
        "collapsed": false
      },
      "outputs": [],
      "source": [
        "%matplotlib inline"
      ]
    },
    {
      "cell_type": "markdown",
      "metadata": {},
      "source": [
        "\n# Uncertain space\n\nGEMSEO does not offer an uncertain space but a `ParameterSpace`,\ngrouping both deterministic and uncertain variables.\nThis is a subclass of `DesignSpace`\nwith a method `add_random_variable`.\n\nIf you want to create an uncertain space,\ncreate a `ParameterSpace` and only use its `add_random_variable` method.\n\n## Create an uncertain space\n\nFirstly,\nwe create an empty `ParameterSpace`\nfrom the high-level function `create_parameter_space`:\n"
      ]
    },
    {
      "cell_type": "code",
      "execution_count": null,
      "metadata": {
        "collapsed": false
      },
      "outputs": [],
      "source": [
        "from gemseo import create_parameter_space\n\nuncertain_space = create_parameter_space()"
      ]
    },
    {
      "cell_type": "markdown",
      "metadata": {},
      "source": [
        "and add a first uncertain variable $u$,\nfollowing the standard Gaussian distribution\n\n"
      ]
    },
    {
      "cell_type": "code",
      "execution_count": null,
      "metadata": {
        "collapsed": false
      },
      "outputs": [],
      "source": [
        "uncertain_space.add_random_variable(\"u\", \"OTNormalDistribution\")"
      ]
    },
    {
      "cell_type": "markdown",
      "metadata": {},
      "source": [
        "!!! note\n    OT stands for OpenTURNS, the UQ library used for sampling.\n\n"
      ]
    },
    {
      "cell_type": "markdown",
      "metadata": {},
      "source": [
        "We can also add a second uncertain variable $v$\nfollowing the Gaussian distribution with mean 2 and standard deviation 0.5:\n\n"
      ]
    },
    {
      "cell_type": "code",
      "execution_count": null,
      "metadata": {
        "collapsed": false
      },
      "outputs": [],
      "source": [
        "uncertain_space.add_random_variable(\"v\", \"OTNormalDistribution\", mu=2, sigma=0.5)"
      ]
    },
    {
      "cell_type": "markdown",
      "metadata": {},
      "source": [
        "as well as a third uncertain variable $w$\nfollowing a triangular distribution:\n\n"
      ]
    },
    {
      "cell_type": "code",
      "execution_count": null,
      "metadata": {
        "collapsed": false
      },
      "outputs": [],
      "source": [
        "uncertain_space.add_random_variable(\n    \"z\", \"OTTriangularDistribution\", minimum=-1.0, mode=0.5, maximum=1.0\n)"
      ]
    },
    {
      "cell_type": "markdown",
      "metadata": {},
      "source": [
        "We can print this `ParameterSpace`:\n\n"
      ]
    },
    {
      "cell_type": "code",
      "execution_count": null,
      "metadata": {
        "collapsed": false
      },
      "outputs": [],
      "source": [
        "uncertain_space"
      ]
    },
    {
      "cell_type": "markdown",
      "metadata": {},
      "source": [
        ".. note::\n   The initial current value corresponds to the mean of the random variables.\n\n"
      ]
    },
    {
      "cell_type": "markdown",
      "metadata": {},
      "source": [
        "## Create a class of uncertain space\nIf we want to use this uncertain space more than once,\nit can be more convenient and Pythonic to use the object-oriented paradigm\nand subclass `ParameterSpace`:\n\n"
      ]
    },
    {
      "cell_type": "code",
      "execution_count": null,
      "metadata": {
        "collapsed": false
      },
      "outputs": [],
      "source": [
        "from gemseo.algos.parameter_space import ParameterSpace\n\n\nclass MyUncertainSpace(ParameterSpace):\n    def __init__(self):\n        super().__init__()\n        self.add_random_variable(\"u\", \"OTNormalDistribution\")\n        self.add_random_variable(\"v\", \"OTNormalDistribution\", mu=2, sigma=0.5)\n        self.add_random_variable(\n            \"z\", \"OTTriangularDistribution\", minimum=-1.0, mode=0.5, maximum=1.0\n        )"
      ]
    },
    {
      "cell_type": "markdown",
      "metadata": {},
      "source": [
        "Then,\nwe only have to instantiate `MyUncertainSpace`:\n\n"
      ]
    },
    {
      "cell_type": "code",
      "execution_count": null,
      "metadata": {
        "collapsed": false
      },
      "outputs": [],
      "source": [
        "uncertain_space = MyUncertainSpace()\nuncertain_space"
      ]
    }
  ],
  "metadata": {
    "kernelspec": {
      "display_name": "Python 3",
      "language": "python",
      "name": "python3"
    },
    "language_info": {
      "codemirror_mode": {
        "name": "ipython",
        "version": 3
      },
      "file_extension": ".py",
      "mimetype": "text/x-python",
      "name": "python",
      "nbconvert_exporter": "python",
      "pygments_lexer": "ipython3",
      "version": "3.9.12"
    }
  },
  "nbformat": 4,
  "nbformat_minor": 0
}