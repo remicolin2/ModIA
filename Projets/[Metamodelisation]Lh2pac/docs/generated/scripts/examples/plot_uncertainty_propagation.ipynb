{
  "cells": [
    {
      "cell_type": "code",
      "execution_count": null,
      "metadata": {
        "collapsed": false
      },
      "outputs": [],
      "source": [
        "%matplotlib inline"
      ]
    },
    {
      "cell_type": "markdown",
      "metadata": {},
      "source": [
        "\nUncertainty propagation\n=======================\n\nIn this example,\nwe will propagate uncertainties through a discipline $f:u,v\\mapsto u+v$\n"
      ]
    },
    {
      "cell_type": "code",
      "execution_count": null,
      "metadata": {
        "collapsed": false
      },
      "outputs": [],
      "source": [
        "from gemseo import create_discipline\nfrom gemseo import create_parameter_space\nfrom gemseo.uncertainty import create_statistics\nfrom gemseo_mlearning.api import sample_discipline\nfrom matplotlib import pyplot as plt"
      ]
    },
    {
      "cell_type": "markdown",
      "metadata": {},
      "source": [
        "Firstly,\nwe define a uncertain space with two normal random variables $u$ and $v$\nwith mean -1 and +1 and unit standard deviation.\n\n"
      ]
    },
    {
      "cell_type": "code",
      "execution_count": null,
      "metadata": {
        "collapsed": false
      },
      "outputs": [],
      "source": [
        "uncertain_space = create_parameter_space()\nuncertain_space.add_random_variable(\"u\", \"OTNormalDistribution\", mu=-1.0)\nuncertain_space.add_random_variable(\"v\", \"OTNormalDistribution\", mu=1.0)"
      ]
    },
    {
      "cell_type": "markdown",
      "metadata": {},
      "source": [
        "Then,\nwe define the discipline from analytic formula:\n\n"
      ]
    },
    {
      "cell_type": "code",
      "execution_count": null,
      "metadata": {
        "collapsed": false
      },
      "outputs": [],
      "source": [
        "discipline = create_discipline(\"AnalyticDiscipline\", expressions={\"w\": \"u+v\"})"
      ]
    },
    {
      "cell_type": "markdown",
      "metadata": {},
      "source": [
        "Thirdly,\nwe sample the discipline with a Monte Carlo algorithm:\n\n"
      ]
    },
    {
      "cell_type": "code",
      "execution_count": null,
      "metadata": {
        "collapsed": false
      },
      "outputs": [],
      "source": [
        "dataset = sample_discipline(discipline, uncertain_space, [\"w\"], \"OT_MONTE_CARLO\", 1000)"
      ]
    },
    {
      "cell_type": "markdown",
      "metadata": {},
      "source": [
        "Lastly,\nwe create an `EmpiricalStatistics` object to estimate statistics,\nsuch as mean and variance:\n\n"
      ]
    },
    {
      "cell_type": "code",
      "execution_count": null,
      "metadata": {
        "collapsed": false
      },
      "outputs": [],
      "source": [
        "statistics = create_statistics(dataset)\nmean = statistics.compute_mean()\nvariance = statistics.compute_variance()\nnames = [\"u\", \"v\", \"w\"]\nfor name in names:\n    print(name, mean[name][0], variance[name][0])"
      ]
    },
    {
      "cell_type": "markdown",
      "metadata": {},
      "source": [
        "!!! note\n\n    The mean and standard deviation of the output are almost equal to 0 and 2,\n    which is the expected behavior\n    of the sum of two independent Gaussian random variables.\n\n"
      ]
    },
    {
      "cell_type": "markdown",
      "metadata": {},
      "source": [
        "We can also plot the histogram of the three random variables:\n\n"
      ]
    },
    {
      "cell_type": "code",
      "execution_count": null,
      "metadata": {
        "collapsed": false
      },
      "outputs": [],
      "source": [
        "fig, axes = plt.subplots(1, 3)\nfor ax, name in zip(axes, names):\n    ax.hist(dataset.get_view(variable_names=name))\n    ax.set_title(name)\nplt.show()"
      ]
    }
  ],
  "metadata": {
    "kernelspec": {
      "display_name": "Python 3",
      "language": "python",
      "name": "python3"
    },
    "language_info": {
      "codemirror_mode": {
        "name": "ipython",
        "version": 3
      },
      "file_extension": ".py",
      "mimetype": "text/x-python",
      "name": "python",
      "nbconvert_exporter": "python",
      "pygments_lexer": "ipython3",
      "version": "3.9.12"
    }
  },
  "nbformat": 4,
  "nbformat_minor": 0
}