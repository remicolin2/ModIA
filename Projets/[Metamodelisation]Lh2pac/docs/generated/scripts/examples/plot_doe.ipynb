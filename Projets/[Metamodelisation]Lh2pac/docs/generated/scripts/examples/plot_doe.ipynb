{
  "cells": [
    {
      "cell_type": "code",
      "execution_count": null,
      "metadata": {
        "collapsed": false
      },
      "outputs": [],
      "source": [
        "%matplotlib inline"
      ]
    },
    {
      "cell_type": "markdown",
      "metadata": {},
      "source": [
        "\n# Design of experiments\n\nThe `DOEScenario` defines an evaluation problem\nfrom one or more disciplines,\na design space\nand a DOE (design of experiments) algorithm.\n\nIn this example,\nwe want to sample the\n[Rosenbrock function](https://en.wikipedia.org/wiki/Rosenbrock_function)\n$f(x,y)=(1-x)^2+100*(y-x^2)^2$\nover the design space $[-2,2]^2$\nwith a latin hypercube sampling (LHS) algorithm\nimproved by simulated annealing.\n"
      ]
    },
    {
      "cell_type": "code",
      "execution_count": null,
      "metadata": {
        "collapsed": false
      },
      "outputs": [],
      "source": [
        "from gemseo import configure_logger\nfrom gemseo import create_design_space\nfrom gemseo import create_discipline\nfrom gemseo import create_scenario"
      ]
    },
    {
      "cell_type": "markdown",
      "metadata": {},
      "source": [
        "First,\nwe activate the logger.\n\n"
      ]
    },
    {
      "cell_type": "code",
      "execution_count": null,
      "metadata": {
        "collapsed": false
      },
      "outputs": [],
      "source": [
        "configure_logger()"
      ]
    },
    {
      "cell_type": "markdown",
      "metadata": {},
      "source": [
        "Then,\nwe create a discipline to evaluate $(1-x)^2+100*(y-x^2)^2$:\n\n"
      ]
    },
    {
      "cell_type": "code",
      "execution_count": null,
      "metadata": {
        "collapsed": false
      },
      "outputs": [],
      "source": [
        "discipline = create_discipline(\n    \"AnalyticDiscipline\",\n    expressions={\"z\": \"(1-x)**2+100*(y-x**2)**2\"},\n    name=\"Rosenbrock\",\n)"
      ]
    },
    {
      "cell_type": "markdown",
      "metadata": {},
      "source": [
        "!!! note\n\n    The `AnalyticDiscipline` allows us to define functions from strings\n    and automatically get the expression of the derivatives,\n    based on [sympy](https://www.sympy.org/fr/),\n    a Python library for symbolic mathematics.\n\nThen,\nwe create the design space $[-2,2]^2$:\n\n"
      ]
    },
    {
      "cell_type": "code",
      "execution_count": null,
      "metadata": {
        "collapsed": false
      },
      "outputs": [],
      "source": [
        "design_space = create_design_space()\ndesign_space.add_variable(\"x\", l_b=-2, u_b=2)\ndesign_space.add_variable(\"y\", l_b=-2, u_b=2)"
      ]
    },
    {
      "cell_type": "markdown",
      "metadata": {},
      "source": [
        "Thirdly,\nwe create a `DOEScenario` from this discipline and this design space:\n\n"
      ]
    },
    {
      "cell_type": "code",
      "execution_count": null,
      "metadata": {
        "collapsed": false
      },
      "outputs": [],
      "source": [
        "disciplines = [discipline]\nscenario = create_scenario(\n    disciplines, \"DisciplinaryOpt\", \"z\", design_space, scenario_type=\"DOE\"\n)"
      ]
    },
    {
      "cell_type": "markdown",
      "metadata": {},
      "source": [
        "!!! note\n\n    `\"DisciplinaryOpt\"` means that we evaluate the `disciplines` sequentially;\n    then,\n    if the output of a discipline is the input of one of the following,\n    its value will be used\n    (in this case,\n    there is only one discipline but the argument is mandatory).\n\n!!! note\n\n    In the case where there is more than one output of interest,\n    you can use the method `add_observable`\n    to store the evaluations of the other outputs of interest:\n\n    ```python\n       scenario = create_scenario(\n           disciplines, \"DisciplinaryOpt\", \"foo\", design_space, scenario_type=\"DOE\"\n       )\n       scenario.add_observable(\"bar\")\n       scenario.add_observable(\"baz\")\n    ```\n\nNow,\nwe can sample the discipline to get 100 evaluations of the triple $(x,y,z)$:\n\n"
      ]
    },
    {
      "cell_type": "code",
      "execution_count": null,
      "metadata": {
        "collapsed": false
      },
      "outputs": [],
      "source": [
        "scenario.execute({\"algo\": \"OT_OPT_LHS\", \"n_samples\": 100})"
      ]
    },
    {
      "cell_type": "markdown",
      "metadata": {},
      "source": [
        "!!! note\n\n    `DOEScenario` is mainly used to solve an optimization problem\n    with a DOE algorithm instead of an optimization algorithm.\n    This is the reason why\n    the log presents an optimization problem and optimization result.\n\nLastly,\nwe can export the result to an `IODataset`\nwhich is a subclass of `Dataset`,\nwhich is a subclass of `pandas.DataFrame`:\n\n"
      ]
    },
    {
      "cell_type": "code",
      "execution_count": null,
      "metadata": {
        "collapsed": false
      },
      "outputs": [],
      "source": [
        "dataset = scenario.to_dataset(opt_naming=False)\ndataset"
      ]
    },
    {
      "cell_type": "markdown",
      "metadata": {},
      "source": [
        "!!! seealso\n\n    - [Dataset examples](https://gemseo.readthedocs.io/en/stable/examples/dataset/index.html)\n    - [DOE examples](https://gemseo.readthedocs.io/en/stable/examples/doe/index.html)\n\n"
      ]
    }
  ],
  "metadata": {
    "kernelspec": {
      "display_name": "Python 3",
      "language": "python",
      "name": "python3"
    },
    "language_info": {
      "codemirror_mode": {
        "name": "ipython",
        "version": 3
      },
      "file_extension": ".py",
      "mimetype": "text/x-python",
      "name": "python",
      "nbconvert_exporter": "python",
      "pygments_lexer": "ipython3",
      "version": "3.9.12"
    }
  },
  "nbformat": 4,
  "nbformat_minor": 0
}